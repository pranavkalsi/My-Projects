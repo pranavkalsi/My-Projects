{
 "cells": [
  {
   "cell_type": "code",
   "execution_count": null,
   "id": "b342053f-1c6c-494c-886c-9351bb61a0b6",
   "metadata": {},
   "outputs": [],
   "source": [
    "\n",
    "import matplotlib.pyplot as plt\n",
    "%matplotlib qt\n",
    "from astropy.io import fits\n"
   ]
  },
  {
   "cell_type": "code",
   "execution_count": 141,
   "id": "c2951817-dbf8-4c2e-9a45-d5308debaa96",
   "metadata": {},
   "outputs": [],
   "source": [
    "hdul=fits.open(\"/home/ega-ninja/Projects/NIUS_Jitter_Project/Analysis/1_subint_512_chan_B1642-03.fits\")\n"
   ]
  },
  {
   "cell_type": "code",
   "execution_count": 145,
   "id": "e814d37d-6853-4508-a8f4-e488920b4598",
   "metadata": {},
   "outputs": [],
   "source": [
    "\n",
    "\n",
    "\n",
    "\n",
    "\n",
    "\n",
    "fig1, ax1 = plt.subplots()\n",
    "#hdul= fits.open(file_path)\n",
    "# Get the data and header from the primary HDU\n",
    "data = hdul[0].data[0][0]\n",
    "#im=ax1.imshow(Dd_Data[:,0,:,:].mean(0),extent=(0,300,freq_lo,freq_hi),cmap='jet',vmax=1000)\n",
    "# Display the image\n",
    "im=ax1.imshow(data, cmap='jet',vmin=0,vmax=50)  # Assuming grayscale image\n",
    "fig1.colorbar(im,ax=ax1,label='Intensity')\n",
    "#plt.colorbar()  # Add colorbar to show intensity scale\n",
    "plt.show()\n",
    "\n",
    "# Example usage:\n",
    "#file_path = '/home/ega-ninja/Projects/NIUS_Jitter_Project/Analysis/1_subint_512_chan_B1642-03.fits'  # Replace 'your_file.fits' with the actual file path\n",
    "#display_fits_image(file_path)"
   ]
  },
  {
   "cell_type": "code",
   "execution_count": null,
   "id": "c91aabec-e39b-451e-b989-ef0fe072d8ae",
   "metadata": {},
   "outputs": [],
   "source": [
    "\n",
    "freq_lo = Raw_archive.get_centre_frequency() - Raw_archive.get_bandwidth()/2.0\n",
    "freq_hi = Raw_archive.get_centre_frequency() + Raw_archive.get_bandwidth()/2.0\n",
    " # the pulse phase is streached by 300 for proper display\n",
    "ax1.set_title('Integrated Pulse')\n",
    "ax1.set_xlabel('Pulse phase')\n",
    "ax1.set_ylabel('Frequency (MHz)')\n",
    "\n",
    "\n",
    "fig1.colorbar(im,ax=ax1,label='Intensity')\n",
    "plt.savefig('Plots/full_data_try.png')\n",
    "plt.show()"
   ]
  },
  {
   "cell_type": "code",
   "execution_count": 158,
   "id": "d3b00057-720d-4bbf-9fac-912395c70c35",
   "metadata": {},
   "outputs": [],
   "source": [
    "hdul1=fits.open('/home/ega-ninja/Projects/NIUS_Jitter_Project/Analysis/1_subint_4096_chan_B1642-03')\n",
    "data=hdul1[0]"
   ]
  },
  {
   "cell_type": "code",
   "execution_count": 161,
   "id": "cfb812e0-dd03-40b4-b260-925cd24ef6f1",
   "metadata": {},
   "outputs": [
    {
     "ename": "AttributeError",
     "evalue": "'NoneType' object has no attribute 'shape'",
     "output_type": "error",
     "traceback": [
      "\u001b[0;31m---------------------------------------------------------------------------\u001b[0m",
      "\u001b[0;31mAttributeError\u001b[0m                            Traceback (most recent call last)",
      "Cell \u001b[0;32mIn[161], line 1\u001b[0m\n\u001b[0;32m----> 1\u001b[0m \u001b[43mdata\u001b[49m\u001b[38;5;241;43m.\u001b[39;49m\u001b[43mdata\u001b[49m\u001b[38;5;241;43m.\u001b[39;49m\u001b[43mshape\u001b[49m\n",
      "\u001b[0;31mAttributeError\u001b[0m: 'NoneType' object has no attribute 'shape'"
     ]
    }
   ],
   "source": [
    "data.data.shape"
   ]
  },
  {
   "cell_type": "code",
   "execution_count": null,
   "id": "ad5bf990-0255-41a9-a4f9-f9fc9ee89247",
   "metadata": {},
   "outputs": [],
   "source": []
  },
  {
   "cell_type": "code",
   "execution_count": null,
   "id": "7ae94165-d1c7-4a57-9d41-5957d82b07e0",
   "metadata": {},
   "outputs": [],
   "source": []
  },
  {
   "cell_type": "code",
   "execution_count": null,
   "id": "7ac6c620-8201-40f8-850a-491c5328737d",
   "metadata": {},
   "outputs": [],
   "source": []
  },
  {
   "cell_type": "code",
   "execution_count": 23,
   "id": "dc610877-0ace-49f1-9288-35f4d16ab928",
   "metadata": {},
   "outputs": [],
   "source": [
    "def SNR(Dataset,Pulse_start_bin,Pulse_end_bin):\n",
    "    data1=Dataset[0:Pulse_start_bin]\n",
    "    data2=Dataset[Pulse_start_bin:Pulse_end_bin]\n",
    "    data3=Dataset[Pulse_end_bin:-1]\n",
    "    #mean=np.mean([data1,data3])\n",
    "    #ssr=(1/(512-(Pulse_end_bin-Pulse_start_bin))) *  (np.sum( ) + np.sum( (Dataset[Pulse_start_bin:-1])**2 ) )\n",
    "    sd=np.std(np.concatenate([data1,data3]))\n",
    "    signal=np.sum(data2)\n",
    "    #off_pstd = np.sqrt( ssr )\n",
    "    #on_pstd = np.sqrt((1/( Pulse_end_bin-Pulse_start_bin) )*np.sum((Dataset[Pulse_start_bin:Pulse_end_bin])**2) )\n",
    "    #pstd=np.std(Dataset)\n",
    "    return [signal,sd,signal/sd]"
   ]
  },
  {
   "cell_type": "code",
   "execution_count": 155,
   "id": "df3788ef-01ce-4a7d-8d2a-3db91e7d16a7",
   "metadata": {},
   "outputs": [
    {
     "data": {
      "text/plain": [
       "(512, 512)"
      ]
     },
     "execution_count": 155,
     "metadata": {},
     "output_type": "execute_result"
    }
   ],
   "source": [
    "data.shape"
   ]
  },
  {
   "cell_type": "code",
   "execution_count": 20,
   "id": "e732bc31-b650-4c26-aa1b-65e2c16aa8be",
   "metadata": {},
   "outputs": [],
   "source": [
    "import numpy as np"
   ]
  },
  {
   "cell_type": "code",
   "execution_count": 44,
   "id": "b6c9cc66-c1ec-4a18-86b1-12f772e165ac",
   "metadata": {},
   "outputs": [],
   "source": [
    "d={}\n",
    "for a in range(data.shape[0]):\n",
    "    d[a]=SNR(data[a],200,260)\n"
   ]
  },
  {
   "cell_type": "code",
   "execution_count": 26,
   "id": "11381ced-0ec0-4149-babe-f6ebac4d8db3",
   "metadata": {},
   "outputs": [],
   "source": [
    "import pandas as pd"
   ]
  },
  {
   "cell_type": "code",
   "execution_count": 32,
   "id": "46203a21-e2dd-41e1-8754-52542b910d0a",
   "metadata": {},
   "outputs": [],
   "source": [
    "Df1=pd.DataFrame(d).T"
   ]
  },
  {
   "cell_type": "code",
   "execution_count": 34,
   "id": "ed9e1d17-cccf-47bc-a0d6-6da1d44f7825",
   "metadata": {
    "scrolled": true
   },
   "outputs": [],
   "source": [
    "Df1.columns=[\"signal\",\"noise\",\"snr\"]"
   ]
  },
  {
   "cell_type": "code",
   "execution_count": 100,
   "id": "a74a1b21-527a-4680-81fe-f9069a463503",
   "metadata": {},
   "outputs": [
    {
     "data": {
      "text/html": [
       "<div>\n",
       "<style scoped>\n",
       "    .dataframe tbody tr th:only-of-type {\n",
       "        vertical-align: middle;\n",
       "    }\n",
       "\n",
       "    .dataframe tbody tr th {\n",
       "        vertical-align: top;\n",
       "    }\n",
       "\n",
       "    .dataframe thead th {\n",
       "        text-align: right;\n",
       "    }\n",
       "</style>\n",
       "<table border=\"1\" class=\"dataframe\">\n",
       "  <thead>\n",
       "    <tr style=\"text-align: right;\">\n",
       "      <th></th>\n",
       "      <th>signal</th>\n",
       "      <th>noise</th>\n",
       "      <th>snr</th>\n",
       "    </tr>\n",
       "  </thead>\n",
       "  <tbody>\n",
       "    <tr>\n",
       "      <th>0</th>\n",
       "      <td>-805.587158</td>\n",
       "      <td>173.083298</td>\n",
       "      <td>-4.654332</td>\n",
       "    </tr>\n",
       "    <tr>\n",
       "      <th>1</th>\n",
       "      <td>-12.157339</td>\n",
       "      <td>1.058867</td>\n",
       "      <td>-11.481455</td>\n",
       "    </tr>\n",
       "    <tr>\n",
       "      <th>2</th>\n",
       "      <td>-11.941275</td>\n",
       "      <td>0.849858</td>\n",
       "      <td>-14.050902</td>\n",
       "    </tr>\n",
       "    <tr>\n",
       "      <th>3</th>\n",
       "      <td>-0.627397</td>\n",
       "      <td>0.725455</td>\n",
       "      <td>-0.864831</td>\n",
       "    </tr>\n",
       "    <tr>\n",
       "      <th>4</th>\n",
       "      <td>6.298885</td>\n",
       "      <td>0.402483</td>\n",
       "      <td>15.650052</td>\n",
       "    </tr>\n",
       "    <tr>\n",
       "      <th>...</th>\n",
       "      <td>...</td>\n",
       "      <td>...</td>\n",
       "      <td>...</td>\n",
       "    </tr>\n",
       "    <tr>\n",
       "      <th>4091</th>\n",
       "      <td>1331.025391</td>\n",
       "      <td>0.958838</td>\n",
       "      <td>1388.165527</td>\n",
       "    </tr>\n",
       "    <tr>\n",
       "      <th>4092</th>\n",
       "      <td>1174.722412</td>\n",
       "      <td>0.929322</td>\n",
       "      <td>1264.063477</td>\n",
       "    </tr>\n",
       "    <tr>\n",
       "      <th>4093</th>\n",
       "      <td>1251.853027</td>\n",
       "      <td>0.957281</td>\n",
       "      <td>1307.717529</td>\n",
       "    </tr>\n",
       "    <tr>\n",
       "      <th>4094</th>\n",
       "      <td>1141.268799</td>\n",
       "      <td>0.959349</td>\n",
       "      <td>1189.628418</td>\n",
       "    </tr>\n",
       "    <tr>\n",
       "      <th>4095</th>\n",
       "      <td>240.085648</td>\n",
       "      <td>0.945815</td>\n",
       "      <td>253.839920</td>\n",
       "    </tr>\n",
       "  </tbody>\n",
       "</table>\n",
       "<p>4096 rows × 3 columns</p>\n",
       "</div>"
      ],
      "text/plain": [
       "           signal       noise          snr\n",
       "0     -805.587158  173.083298    -4.654332\n",
       "1      -12.157339    1.058867   -11.481455\n",
       "2      -11.941275    0.849858   -14.050902\n",
       "3       -0.627397    0.725455    -0.864831\n",
       "4        6.298885    0.402483    15.650052\n",
       "...           ...         ...          ...\n",
       "4091  1331.025391    0.958838  1388.165527\n",
       "4092  1174.722412    0.929322  1264.063477\n",
       "4093  1251.853027    0.957281  1307.717529\n",
       "4094  1141.268799    0.959349  1189.628418\n",
       "4095   240.085648    0.945815   253.839920\n",
       "\n",
       "[4096 rows x 3 columns]"
      ]
     },
     "execution_count": 100,
     "metadata": {},
     "output_type": "execute_result"
    }
   ],
   "source": [
    "Df1"
   ]
  },
  {
   "cell_type": "code",
   "execution_count": 115,
   "id": "da56290c-a526-4b0c-858d-4a9d1cf2c86d",
   "metadata": {},
   "outputs": [],
   "source": [
    "import statistics"
   ]
  },
  {
   "cell_type": "code",
   "execution_count": 124,
   "id": "3749f99c-67d4-42d2-949f-28b543790935",
   "metadata": {},
   "outputs": [],
   "source": [
    "x='snr'\n",
    "x1=Df1.snr\n",
    "\n",
    "fig2, ax2=plt.subplots()\n",
    "ax2.hist(x1,bins=500,color='green',cumulative=True,label=\"median,mean,mode=\"+str(np.median(x1))+', '+str(np.mean(x1))+' ,'+str(statistics.mode(x1)))\n",
    "ax2.set_title('Single Subint cumulative plot')\n",
    "ax2.set_xlabel(x)\n",
    "ax2.legend(title=x)\n",
    "#ax2.set_ylabel('Intensity')\n",
    "\n",
    "#plt.savefig('Plots/IvsPhase_single_subint.png')\n",
    "plt.show()\n"
   ]
  },
  {
   "cell_type": "code",
   "execution_count": null,
   "id": "92183a7c-9fbc-4782-9d64-d21b54c5b9a9",
   "metadata": {},
   "outputs": [],
   "source": []
  },
  {
   "cell_type": "code",
   "execution_count": null,
   "id": "dee3d1c0-3a15-403c-b07a-47b52690949a",
   "metadata": {},
   "outputs": [],
   "source": []
  },
  {
   "cell_type": "code",
   "execution_count": 146,
   "id": "f29712ba-3be3-4ac8-87dd-dad87ae126c8",
   "metadata": {},
   "outputs": [],
   "source": [
    "Df2=Df1[(Df1.noise)>3.8]"
   ]
  },
  {
   "cell_type": "code",
   "execution_count": 147,
   "id": "c34c6e48-3677-4779-9a43-afde180f839b",
   "metadata": {},
   "outputs": [
    {
     "data": {
      "text/plain": [
       "(511, 3)"
      ]
     },
     "execution_count": 147,
     "metadata": {},
     "output_type": "execute_result"
    }
   ],
   "source": [
    "Df2.shape"
   ]
  },
  {
   "cell_type": "code",
   "execution_count": 128,
   "id": "7ed86352-6cea-47a7-a0c1-a0a2cb8c1ab5",
   "metadata": {},
   "outputs": [
    {
     "data": {
      "text/plain": [
       "Int64Index([   0,    1,    2,    3,    8,   11,   12,   15,   16,   17,\n",
       "            ...\n",
       "             301,  303,  308,  333,  617,  622,  630,  672, 2699, 2751],\n",
       "           dtype='int64', length=113)"
      ]
     },
     "execution_count": 128,
     "metadata": {},
     "output_type": "execute_result"
    }
   ],
   "source": [
    "Df2.index\n"
   ]
  },
  {
   "cell_type": "code",
   "execution_count": 133,
   "id": "48f6a645-51f5-4f40-974d-39da114cc331",
   "metadata": {},
   "outputs": [],
   "source": [
    "nth_chan=13\n",
    "xx=data[nth_chan]\n",
    "\n",
    "fig3, ax3=plt.subplots()\n",
    "ax3.plot(xx)\n",
    "ax3.set_title('chan ='+str(nth_chan))\n",
    "ax3.set_xlabel('Pulse phase bin')\n",
    "ax3.set_ylabel('Intensity')\n",
    "#plt.savefig('Plots/IvsPhase_single_subint.png')\n",
    "plt.show()"
   ]
  },
  {
   "cell_type": "code",
   "execution_count": 97,
   "id": "2b4aaad2-3471-4ac2-8563-aa4950e50eb3",
   "metadata": {},
   "outputs": [],
   "source": [
    "c=np.setdiff1d(b,a)"
   ]
  },
  {
   "cell_type": "code",
   "execution_count": 98,
   "id": "d9076d10-cec9-4111-8ef6-d9b8a8ae9c15",
   "metadata": {},
   "outputs": [
    {
     "data": {
      "text/plain": [
       "array([   0,    1,    2,    3,    4,    5,    6,    7,    8,    9,   10,\n",
       "         11,   12,   13,   14,   15,   16,   17,   18,   19,   20,   21,\n",
       "         22,   23,   24,   25,   26,   27,   28,   29,   30,   31,   32,\n",
       "         33,   34,   35,   36,   37,   38,   39,   40,   41,   42,   43,\n",
       "         44,   45,   46,   47,   48,   49,   50,   51,   52,   53,   54,\n",
       "         55,   56,   57,   58,   59,   60,   61,   62,   63,   64,   65,\n",
       "         66,   67,   68,   69,   70,   71,   72,   73,   74,   75,   76,\n",
       "         77,   78,   79,   80,   81,   82,   83,   84,   85,   86,   87,\n",
       "         88,   89,   90,   91,   92,   93,   94,   95,   96,   97,   98,\n",
       "         99,  100,  101,  102,  103,  104,  105,  106,  107,  108,  109,\n",
       "        110,  111,  112,  113,  114,  115,  116,  117,  118,  119,  120,\n",
       "        121,  122,  123,  124,  125,  126,  127,  128,  129,  130,  131,\n",
       "        132,  133,  134,  135,  136,  137,  138,  139,  140,  141,  142,\n",
       "        143,  144,  145,  146,  147,  148,  149,  150,  151,  152,  153,\n",
       "        154,  155,  156,  157,  158,  159,  160,  161,  162,  163,  164,\n",
       "        165,  166,  167,  168,  169,  170,  171,  172,  173,  174,  175,\n",
       "        176,  177,  178,  179,  180,  181,  182,  183,  184,  185,  186,\n",
       "        187,  188,  189,  190,  191,  192,  193,  194,  195,  196,  197,\n",
       "        198,  199,  200,  201,  202,  203,  204,  205,  206,  207,  208,\n",
       "        209,  210,  211,  212,  213,  214,  215,  216,  217,  218,  219,\n",
       "        220,  221,  222,  223,  224,  225,  226,  227,  228,  229,  230,\n",
       "        231,  232,  233,  234,  235,  236,  237,  238,  239,  240,  241,\n",
       "        242,  243,  244,  245,  246,  247,  248,  249,  250,  251,  252,\n",
       "        253,  254,  255,  256,  257,  258,  259,  260,  261,  262,  263,\n",
       "        264,  265,  266,  267,  268,  269,  270,  271,  272,  273,  274,\n",
       "        275,  276,  277,  278,  279,  280,  281,  282,  283,  284,  285,\n",
       "        286,  287,  288,  289,  295,  296,  297,  298,  299,  300,  301,\n",
       "        302,  303,  304,  305,  306,  307,  308,  309,  310,  311,  312,\n",
       "        313,  314,  315,  316,  317,  318,  319,  320,  321,  322,  323,\n",
       "        324,  325,  326,  327,  328,  329,  330,  331,  332,  333,  334,\n",
       "        335,  336,  337,  338,  339,  340,  341,  342,  345,  347,  348,\n",
       "        349,  350,  351,  352,  353,  354,  355,  356,  357,  358,  359,\n",
       "        360,  361,  362,  363,  364,  365,  375,  376,  377,  378,  379,\n",
       "        380,  381,  382,  383,  384,  385,  386,  387,  388,  389,  390,\n",
       "        391,  392,  393,  394,  395,  396,  397,  398,  399,  400,  401,\n",
       "        402,  403,  404,  405,  406,  407,  408,  409,  410,  411,  412,\n",
       "        413,  414,  415,  416,  417,  418,  419,  420,  421,  422,  423,\n",
       "        424,  425,  426,  427,  428,  429,  430,  431,  432,  433,  434,\n",
       "        435,  436,  437,  438,  449,  450,  451,  452,  453,  454,  455,\n",
       "        456,  457,  458,  459,  460,  461,  462,  463,  464,  469,  470,\n",
       "        471,  472,  483,  487,  488,  489,  490,  493,  496,  497,  498,\n",
       "        499,  500,  501,  502,  503,  504,  505,  506,  507,  508,  509,\n",
       "        510,  511,  512,  513,  514,  515,  519,  526,  527,  528,  529,\n",
       "        530,  531,  532,  533,  534,  535,  536,  537,  538,  539,  546,\n",
       "        547,  548,  549,  550,  551,  552,  553,  554,  555,  556,  557,\n",
       "        564,  565,  566,  608,  609,  610,  611,  612,  613,  614,  615,\n",
       "        616,  617,  621,  622,  623,  624,  625,  626,  627,  628,  629,\n",
       "        630,  631,  632,  633,  634,  653,  654,  670,  671,  672,  673,\n",
       "        674,  675,  690,  691,  692,  693,  703,  704,  705,  706,  707,\n",
       "        748,  749,  851,  852,  853,  854,  929,  930,  978,  979,  980,\n",
       "       1005, 1006, 1054, 1055, 1128, 1129, 1130, 1131, 1132, 1133, 1205,\n",
       "       1206, 1207, 1208, 1209, 1257, 1258, 1993, 1994, 2008, 2017, 2044,\n",
       "       2279, 2280, 2310, 2311, 2467, 2468, 2469, 2470, 2471, 2472, 2473,\n",
       "       2474, 2475, 2476, 2477, 2478, 2479, 2480, 2481, 2482, 2483, 2484,\n",
       "       2485, 2486, 2487, 2488, 2489, 2490, 2491, 2492, 2493, 2494, 2495,\n",
       "       2496, 2497, 2498, 2499, 2500, 2501, 2502, 2503, 2504, 2505, 2506,\n",
       "       2507, 2508, 2509, 2510, 2511, 2512, 2513, 2514, 2515, 2516, 2517,\n",
       "       2518, 2519, 2520, 2521, 2522, 2523, 2527, 2528, 2529, 2535, 2536,\n",
       "       2538, 2539, 2540, 2541, 2542, 2543, 2544, 2572, 2573, 2574, 2575,\n",
       "       2576, 2577, 2578, 2579, 2580, 2581, 2582, 2583, 2584, 2585, 2586,\n",
       "       2598, 2599, 2600, 2601, 2602, 2603, 2604, 2605, 2606, 2607, 2608,\n",
       "       2609, 2610, 2611, 2612, 2613, 2614, 2615, 2616, 2617, 2618, 2619,\n",
       "       2620, 2621, 2622, 2623, 2624, 2625, 2626, 2627, 2628, 2629, 2630,\n",
       "       2631, 2632, 2633, 2634, 2635, 2636, 2637, 2640, 2641, 2642, 2643,\n",
       "       2644, 2645, 2646, 2647, 2648, 2649, 2650, 2651, 2652, 2653, 2677,\n",
       "       2681, 2682, 2683, 2686, 2687, 2688, 2691, 2692, 2693, 2694, 2695,\n",
       "       2696, 2697, 2698, 2699, 2700, 2701, 2702, 2703, 2704, 2705, 2706,\n",
       "       2707, 2708, 2709, 2710, 2711, 2712, 2713, 2714, 2715, 2716, 2717,\n",
       "       2718, 2719, 2720, 2721, 2722, 2723, 2724, 2725, 2726, 2727, 2728,\n",
       "       2729, 2730, 2731, 2732, 2733, 2734, 2735, 2736, 2737, 2738, 2739,\n",
       "       2740, 2741, 2742, 2743, 2744, 2745, 2746, 2747, 2748, 2749, 2750,\n",
       "       2751, 2752, 2753, 2754, 2755, 2756, 2757, 2758, 2759, 2760, 2761,\n",
       "       2762, 2763, 2764, 2765, 2766, 2767, 2768, 2769, 2770, 2771, 2772,\n",
       "       2773, 2774, 2775, 2776, 2777, 2778, 2779, 2780, 2781, 2782, 2783,\n",
       "       2784, 2785, 2786, 2787, 2788, 2789, 2790, 2791, 2792, 2793, 2794,\n",
       "       2795, 2796, 2797, 2798, 2799, 2800, 2801, 2802, 2803, 2804, 2805,\n",
       "       2806, 2807, 2808, 2809, 2810, 2811, 2812, 2813, 2814, 2815, 2816,\n",
       "       2817, 2818, 2819, 2820, 2821, 2822, 2823, 2824, 2825, 2829, 2830,\n",
       "       2831, 2832, 2834, 2835, 2836, 2837, 2838, 2839, 2840, 2841, 2842,\n",
       "       2843, 2844, 2845, 2846, 2847, 2848, 2849, 2850, 2851, 2852, 2853,\n",
       "       2854, 2855, 2856, 2857, 2858, 2859, 2860, 3118, 3219, 3220, 3221,\n",
       "       3222, 3223, 3344, 3346, 3347, 3348, 3349, 3362, 3421, 3422, 3423,\n",
       "       3424, 3425, 3426, 3450, 3894, 3913, 3973, 3994, 3995, 3996, 3997,\n",
       "       3999, 4000, 4006, 4008, 4009, 4011, 4012, 4019, 4020, 4021, 4022,\n",
       "       4024, 4025, 4027, 4029, 4038, 4039, 4041, 4042, 4043, 4044, 4047,\n",
       "       4048, 4049, 4050, 4051, 4052, 4053, 4054, 4055, 4056, 4057, 4058,\n",
       "       4059, 4060, 4063, 4064, 4065, 4066, 4067, 4068, 4069, 4070, 4071,\n",
       "       4072, 4073, 4074, 4075, 4076, 4077, 4078, 4079, 4080, 4095])"
      ]
     },
     "execution_count": 98,
     "metadata": {},
     "output_type": "execute_result"
    }
   ],
   "source": [
    "c"
   ]
  },
  {
   "cell_type": "code",
   "execution_count": 99,
   "id": "757e0e59-fc3e-4c9d-abb2-b7c9ee8241ce",
   "metadata": {},
   "outputs": [],
   "source": [
    "# Generate random y-values for the lines\n",
    "\n",
    "y_values = c # Example: 10 random y-values\n",
    "fig,ax=plt.subplots()\n",
    "# Create a 4096 by 4096 image\n",
    "image = np.zeros((4096, 4096))\n",
    "\n",
    "# Draw lines parallel to the x-axis at y-values\n",
    "for y in y_values:\n",
    "    image[y, :] = 1  # Set all pixels in row y to 1 (white)\n",
    "\n",
    "# Display the image\n",
    "plt.imshow(image, cmap='gray')\n",
    "plt.show()"
   ]
  },
  {
   "cell_type": "code",
   "execution_count": null,
   "id": "b830d6be-0917-4562-9c27-c65e76c9af8c",
   "metadata": {},
   "outputs": [],
   "source": []
  }
 ],
 "metadata": {
  "kernelspec": {
   "display_name": "Python 3 (ipykernel)",
   "language": "python",
   "name": "python3"
  },
  "language_info": {
   "codemirror_mode": {
    "name": "ipython",
    "version": 3
   },
   "file_extension": ".py",
   "mimetype": "text/x-python",
   "name": "python",
   "nbconvert_exporter": "python",
   "pygments_lexer": "ipython3",
   "version": "3.11.5"
  }
 },
 "nbformat": 4,
 "nbformat_minor": 5
}
