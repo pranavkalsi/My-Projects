{
 "cells": [
  {
   "cell_type": "markdown",
   "id": "6b5b51e3-65e9-4ad9-92bf-ba4343510274",
   "metadata": {},
   "source": [
    "# Single Pulse Jitter analysis "
   ]
  },
  {
   "cell_type": "markdown",
   "id": "6be09ecc-42f3-4314-8014-3c13b8abe357",
   "metadata": {},
   "source": [
    "## Introduction"
   ]
  },
  {
   "cell_type": "markdown",
   "id": "8c5fbf13-e83c-4c0c-83c9-f268fbdfa8f1",
   "metadata": {},
   "source": [
    "The pulse signals from pulsars recieved by a radio telesope are saved as time series. It becomes an important exercise to understand characteristics of the pulse signals for furthur study and application of the pulsar signals. "
   ]
  },
  {
   "cell_type": "markdown",
   "id": "8d0f3974-e695-4a91-9050-114971a3c220",
   "metadata": {},
   "source": [
    "Here we analyse and study the time of arrivals of a pulse signal to find any correlation of certain factors like frequency dependence for a specific pulsar and come up with possible explanation of the results obtained."
   ]
  },
  {
   "cell_type": "markdown",
   "id": "f7840dc9-2e5b-43fa-bcfd-a100f825d806",
   "metadata": {},
   "source": [
    "## Mathematical modelling"
   ]
  },
  {
   "cell_type": "markdown",
   "id": "72b2a11d-4c48-4aa4-95b2-cb96dde8ccea",
   "metadata": {},
   "source": [
    "Time of arrivals (TOA) of pulse signals can be modelled by ideal expected TOA with a noise. The noise in this case depends on two svereal phenomenon such as interstellar scintillations etc. But here in our analysis we consider only two parameters causing the Observed TOAs to deviate from expected TOAs, because we are integrating over longer time scales at which other phenomenons do not have significant contributions in the deviations."
   ]
  },
  {
   "cell_type": "markdown",
   "id": "2ea01b47-61a6-461e-a637-20afa4ac570b",
   "metadata": {},
   "source": [
    "We look at the residuals of the Observed TOAs and the Expected TOAs and call it Timing residuals $T_{res}$."
   ]
  },
  {
   "cell_type": "markdown",
   "id": "619b7866-b3b9-414b-a5fa-ce0a46f50714",
   "metadata": {},
   "source": [
    "Now $T_{res}$ can be modelled as a random variable which is sum of two other random variables, one related to Radiometer noise let's call it $R$. Note that Radiometer noise is white in nature, so it spans equally over all frequencies and time. The other sourse of timing noise is intrinsit to the pulsar caused by change in the shape in the pulse, lets call it Jitter, $J_{\\nu}$. We cannot assume this Jitter to be a white noise so it may be dependent on the frequency of the observation. The frequency dependence of jitter is captured by subsctript $\\nu$. However we can assume Jitter to be present uniformly at all times during the observation."
   ]
  },
  {
   "cell_type": "markdown",
   "id": "a231ee33-3331-41e1-a9b5-b52608a797c8",
   "metadata": {},
   "source": [
    "so, $$ T_{res} = R + J_{\\nu}                                        $$"
   ]
  },
  {
   "cell_type": "markdown",
   "id": "36fa3c4a-2491-498a-80ca-a573f16f4439",
   "metadata": {},
   "source": [
    "To move forward we keep our faith in Central Limit Theorem and take the both the random variables to be Gaussian.\n",
    "$$ R = \\mathcal{N}(0,\\sigma_{rad}^2)  \\space, and \\space  J_{\\nu} =  \\mathcal{N}(0,\\sigma_J^2(\\nu) )   $$"
   ]
  },
  {
   "cell_type": "markdown",
   "id": "9a825965-7933-4e63-9dff-90c9423e38d5",
   "metadata": {},
   "source": [
    "And since $R$ and $J_{\\nu}$ are independent random variables, $$T_{res} = \\mathcal{N}(0,\\sigma_{rad}^2+\\sigma_J^2(\\nu)) $$"
   ]
  },
  {
   "cell_type": "markdown",
   "id": "eb1eca90-7ec2-4229-9236-86749b5e99b4",
   "metadata": {},
   "source": [
    "Note that both Radiometer noise and Jitter noise, i.e. $\\sigma_{rad}$ and $\\sigma_{J}(\\nu)$ , when calculated from time integrated data will show $1/\\sqrt{n}$ dependence, where n is the number of subints or time of observation. "
   ]
  },
  {
   "cell_type": "markdown",
   "id": "2c1df73a-2f9a-48a3-979d-777b8043cb96",
   "metadata": {},
   "source": [
    "Thus one can scale the standard deviations as, $$ \\sigma(T_1) = \\sigma(T_2) \\sqrt{\\frac{T_2}{T_1} } $$"
   ]
  },
  {
   "cell_type": "markdown",
   "id": "f981ca41-c919-4e28-81e6-76c709055e85",
   "metadata": {},
   "source": [
    "### Estimators"
   ]
  },
  {
   "cell_type": "markdown",
   "id": "27463744-1f65-4824-a002-d89f41b06563",
   "metadata": {},
   "source": [
    "We desctribed above the mathematical relation between the observed parameter and the parameter which we wish to estimate. In this section we will descibe how to do we estimate from the sampled data."
   ]
  },
  {
   "cell_type": "markdown",
   "id": "fadf224a-7c70-458a-9e06-651a26de9f68",
   "metadata": {},
   "source": [
    "Tempo2 returns us two numbers, one is the timing residual and the other is error bar on the corresponding TOA. The TOA error bar gives us the measure of radiometer noise, which is independent from the changes in the pulse shape. And the residuals however are because of the changes in pulse shape as well as the radiometer noise."
   ]
  },
  {
   "cell_type": "markdown",
   "id": "a8199973-d8fb-4876-a7ac-5f3715bbf159",
   "metadata": {},
   "source": [
    "Let $ \\space T_{res\\space 1} ,\\space    T_{res\\space 2} \\space , T_{res\\space 3} \\space, . . ... ,T_{res\\space n} \\space$ denote the sampled values for the same integration time. We know that they are sampled from $\\space  \\mathcal{N}(0,\\sigma_{rad}^2+\\sigma_J^2(\\nu))$. Thus we can create a confidence interval of $\\sigma^2$ ."
   ]
  },
  {
   "cell_type": "markdown",
   "id": "0e7e7358-9ad6-4a28-b297-7283242ba9a9",
   "metadata": {},
   "source": [
    "One can show with a simple mathematical exercise that if n points are sampled from Normal distribution with a known mean, the confidence interval for $\\sigma^2$ is given by "
   ]
  },
  {
   "cell_type": "markdown",
   "id": "e6955529-9773-4279-8729-34f80125290a",
   "metadata": {},
   "source": []
  },
  {
   "cell_type": "markdown",
   "id": "34c40fe0-d015-4c6a-83ec-1f17530f6679",
   "metadata": {},
   "source": []
  },
  {
   "cell_type": "markdown",
   "id": "1f75d4ad-04fa-4f62-adac-3d3301be7dd7",
   "metadata": {},
   "source": []
  },
  {
   "cell_type": "markdown",
   "id": "16a69f91-b3ef-4c6f-aa82-d8d592e82170",
   "metadata": {},
   "source": []
  },
  {
   "cell_type": "markdown",
   "id": "2197153e-d420-4dab-995b-f8d149ad0d52",
   "metadata": {},
   "source": []
  },
  {
   "cell_type": "markdown",
   "id": "b0c4494f-6d2b-4345-b1cd-c85253e3c852",
   "metadata": {},
   "source": []
  },
  {
   "cell_type": "markdown",
   "id": "9f52a9c8-a43e-4f79-8fff-39ffe6c42e8c",
   "metadata": {},
   "source": []
  },
  {
   "cell_type": "markdown",
   "id": "01535efa-c828-4bc2-97a4-9d6089453826",
   "metadata": {},
   "source": []
  },
  {
   "cell_type": "markdown",
   "id": "b065c98d-177b-420d-8783-cf50ecb8b565",
   "metadata": {},
   "source": []
  },
  {
   "cell_type": "markdown",
   "id": "23fde63e-aba4-4c59-8251-37a5bc9d6573",
   "metadata": {},
   "source": [
    "# Plotting frequency dependance of Jitter"
   ]
  },
  {
   "cell_type": "markdown",
   "id": "f8e24b0a-44dc-422a-93eb-7652dcc8909c",
   "metadata": {},
   "source": [
    "For estimating jitter from the data we have to make certain assumptions"
   ]
  },
  {
   "cell_type": "markdown",
   "id": "f4839357-8ea6-415b-b85e-dc8edc8b41fa",
   "metadata": {},
   "source": [
    "Lets look at the graph of timing residuals after postfittin in tempo2"
   ]
  },
  {
   "attachments": {
    "dad13cdf-d33c-4323-889c-9fd08a9a1257.png": {
     "image/png": "[encoded data removed]"
    }
   },
   "cell_type": "markdown",
   "id": "5a8b2d01-a774-4d99-a378-cdea460e3323",
   "metadata": {},
   "source": [
    "![chan8_postfit.png](attachment:dad13cdf-d33c-4323-889c-9fd08a9a1257.png)"
   ]
  },
  {
   "cell_type": "code",
   "execution_count": 54,
   "id": "e280742b-41e5-4f6a-9949-716d321a05ed",
   "metadata": {},
   "outputs": [
    {
     "data": {
      "text/html": [
       "<div>\n",
       "<style scoped>\n",
       "    .dataframe tbody tr th:only-of-type {\n",
       "        vertical-align: middle;\n",
       "    }\n",
       "\n",
       "    .dataframe tbody tr th {\n",
       "        vertical-align: top;\n",
       "    }\n",
       "\n",
       "    .dataframe thead th {\n",
       "        text-align: right;\n",
       "    }\n",
       "</style>\n",
       "<table border=\"1\" class=\"dataframe\">\n",
       "  <thead>\n",
       "    <tr style=\"text-align: right;\">\n",
       "      <th></th>\n",
       "      <th>MJD_subint</th>\n",
       "      <th>residual</th>\n",
       "      <th>TOA_error</th>\n",
       "    </tr>\n",
       "  </thead>\n",
       "  <tbody>\n",
       "    <tr>\n",
       "      <th>0</th>\n",
       "      <td>12549.71554</td>\n",
       "      <td>-0.000029</td>\n",
       "      <td>9.710000e-07</td>\n",
       "    </tr>\n",
       "    <tr>\n",
       "      <th>1</th>\n",
       "      <td>12549.71850</td>\n",
       "      <td>0.000028</td>\n",
       "      <td>8.760000e-07</td>\n",
       "    </tr>\n",
       "    <tr>\n",
       "      <th>2</th>\n",
       "      <td>12549.72146</td>\n",
       "      <td>-0.000024</td>\n",
       "      <td>1.130000e-06</td>\n",
       "    </tr>\n",
       "    <tr>\n",
       "      <th>3</th>\n",
       "      <td>12549.72443</td>\n",
       "      <td>0.000035</td>\n",
       "      <td>8.840000e-07</td>\n",
       "    </tr>\n",
       "    <tr>\n",
       "      <th>4</th>\n",
       "      <td>12549.72738</td>\n",
       "      <td>0.000002</td>\n",
       "      <td>6.940000e-07</td>\n",
       "    </tr>\n",
       "    <tr>\n",
       "      <th>5</th>\n",
       "      <td>12549.73035</td>\n",
       "      <td>-0.000011</td>\n",
       "      <td>1.430000e-06</td>\n",
       "    </tr>\n",
       "    <tr>\n",
       "      <th>6</th>\n",
       "      <td>12549.73332</td>\n",
       "      <td>-0.000001</td>\n",
       "      <td>9.020000e-07</td>\n",
       "    </tr>\n",
       "    <tr>\n",
       "      <th>7</th>\n",
       "      <td>12549.73628</td>\n",
       "      <td>0.000018</td>\n",
       "      <td>1.671000e-06</td>\n",
       "    </tr>\n",
       "    <tr>\n",
       "      <th>8</th>\n",
       "      <td>12549.73924</td>\n",
       "      <td>0.000007</td>\n",
       "      <td>1.478000e-06</td>\n",
       "    </tr>\n",
       "    <tr>\n",
       "      <th>9</th>\n",
       "      <td>12549.74130</td>\n",
       "      <td>-0.000024</td>\n",
       "      <td>3.769000e-06</td>\n",
       "    </tr>\n",
       "  </tbody>\n",
       "</table>\n",
       "</div>"
      ],
      "text/plain": [
       "    MJD_subint  residual     TOA_error\n",
       "0  12549.71554 -0.000029  9.710000e-07\n",
       "1  12549.71850  0.000028  8.760000e-07\n",
       "2  12549.72146 -0.000024  1.130000e-06\n",
       "3  12549.72443  0.000035  8.840000e-07\n",
       "4  12549.72738  0.000002  6.940000e-07\n",
       "5  12549.73035 -0.000011  1.430000e-06\n",
       "6  12549.73332 -0.000001  9.020000e-07\n",
       "7  12549.73628  0.000018  1.671000e-06\n",
       "8  12549.73924  0.000007  1.478000e-06\n",
       "9  12549.74130 -0.000024  3.769000e-06"
      ]
     },
     "execution_count": 54,
     "metadata": {},
     "output_type": "execute_result"
    }
   ],
   "source": [
    "df1"
   ]
  },
  {
   "cell_type": "markdown",
   "id": "1d6ab59a-8d9c-4f95-8f55-215c0b9e9b41",
   "metadata": {},
   "source": [
    "Consider TOA_residual as a random variable $T_r$"
   ]
  },
  {
   "cell_type": "markdown",
   "id": "5ac6ef93-2b0a-49f9-a14f-d9eb993ec5ad",
   "metadata": {},
   "source": [
    "$$T_r  = Jitter + Radiometer $$\n",
    "$$ T_r = Normal(0,\\sigma_J^2) + Normal(0,\\sigma_{radiometer}^2)           $$"
   ]
  },
  {
   "cell_type": "markdown",
   "id": "0034e751-2e44-4430-8899-ca418f358311",
   "metadata": {},
   "source": [
    "$$T_r = Normal(0 , \\sigma_{J}^2 + \\sigma_{radiometer}^2 )  $$ , since Jitter and Radiometer are independent random variables."
   ]
  },
  {
   "cell_type": "markdown",
   "id": "19cd17e2-52e8-4335-9186-fd5f1f11fd96",
   "metadata": {},
   "source": [
    "Now from the graph above we have samples of $T_r$ , we know that that it is sampled from a normal distribution of known mean, $\\mu$=0  and unknown variance $\\sigma_{J}^2 + \\sigma_{radiometer}^2$"
   ]
  },
  {
   "cell_type": "markdown",
   "id": "20acd451-80f6-46cf-aa3e-114e8fc41769",
   "metadata": {},
   "source": []
  },
  {
   "cell_type": "markdown",
   "id": "10bf4ac8-5a52-428b-a0fc-7dd462555a39",
   "metadata": {},
   "source": []
  },
  {
   "cell_type": "markdown",
   "id": "e5d43340-c27e-47d4-9cb3-320961938cf6",
   "metadata": {},
   "source": []
  },
  {
   "cell_type": "code",
   "execution_count": 9,
   "id": "90071602-0684-43e9-aa76-7da73a2b8661",
   "metadata": {},
   "outputs": [],
   "source": [
    "import numpy as np\n",
    "from scipy.stats import chi2\n",
    "from scipy.optimize import curve_fit\n",
    "import matplotlib.pyplot as plt\n",
    "import pandas as pd"
   ]
  },
  {
   "cell_type": "code",
   "execution_count": 3,
   "id": "7de23244-c5c7-4c41-94d0-1f0fd5bcd96a",
   "metadata": {},
   "outputs": [
    {
     "name": "stderr",
     "output_type": "stream",
     "text": [
      "<>:2: SyntaxWarning: invalid escape sequence '\\s'\n",
      "<>:2: SyntaxWarning: invalid escape sequence '\\s'\n",
      "/tmp/ipykernel_189959/655911244.py:2: SyntaxWarning: invalid escape sequence '\\s'\n",
      "  df = pd.read_csv('tempo2_all_10subints_copy.txt', sep='\\s+', header=None)\n"
     ]
    }
   ],
   "source": [
    "# Read the text file into a DataFrame\n",
    "df = pd.read_csv('tempo2_all_10subints_copy.txt', sep='\\s+', header=None)\n",
    "# Rename the columns for clarity\n",
    "df.columns = ['MJD_subint', 'residual', 'TOA_error']\n",
    "# Create a dictionary to store the last two columns of each channel\n",
    "channels_data = {}"
   ]
  },
  {
   "cell_type": "code",
   "execution_count": 4,
   "id": "f0750521-07c9-4637-8c64-90f73935f73f",
   "metadata": {},
   "outputs": [],
   "source": [
    "# df[(df.residual)**2 < df.TOA_error**2]"
   ]
  },
  {
   "cell_type": "code",
   "execution_count": 5,
   "id": "6a42416a-23fc-4dc3-abcb-1d91e9130a6c",
   "metadata": {},
   "outputs": [],
   "source": [
    "df1=df.iloc[0:10,:]\n",
    "df2=df.iloc[10:20,:]\n",
    "df3=df.iloc[20:30,:]\n",
    "df4=df.iloc[30:40,:]\n",
    "df5=df.iloc[40:50,:]\n",
    "df6=df.iloc[50:60,:]\n",
    "df7=df.iloc[60:70,:]\n",
    "df8=df.iloc[70:,:]"
   ]
  },
  {
   "cell_type": "code",
   "execution_count": 6,
   "id": "52e93a4b-a9ea-43c8-9624-f2c29082a358",
   "metadata": {},
   "outputs": [
    {
     "data": {
      "text/html": [
       "<div>\n",
       "<style scoped>\n",
       "    .dataframe tbody tr th:only-of-type {\n",
       "        vertical-align: middle;\n",
       "    }\n",
       "\n",
       "    .dataframe tbody tr th {\n",
       "        vertical-align: top;\n",
       "    }\n",
       "\n",
       "    .dataframe thead th {\n",
       "        text-align: right;\n",
       "    }\n",
       "</style>\n",
       "<table border=\"1\" class=\"dataframe\">\n",
       "  <thead>\n",
       "    <tr style=\"text-align: right;\">\n",
       "      <th></th>\n",
       "      <th>MJD_subint</th>\n",
       "      <th>residual</th>\n",
       "      <th>TOA_error</th>\n",
       "    </tr>\n",
       "  </thead>\n",
       "  <tbody>\n",
       "    <tr>\n",
       "      <th>0</th>\n",
       "      <td>12549.71554</td>\n",
       "      <td>-0.000029</td>\n",
       "      <td>9.710000e-07</td>\n",
       "    </tr>\n",
       "    <tr>\n",
       "      <th>1</th>\n",
       "      <td>12549.71850</td>\n",
       "      <td>0.000028</td>\n",
       "      <td>8.760000e-07</td>\n",
       "    </tr>\n",
       "    <tr>\n",
       "      <th>2</th>\n",
       "      <td>12549.72146</td>\n",
       "      <td>-0.000024</td>\n",
       "      <td>1.130000e-06</td>\n",
       "    </tr>\n",
       "    <tr>\n",
       "      <th>3</th>\n",
       "      <td>12549.72443</td>\n",
       "      <td>0.000035</td>\n",
       "      <td>8.840000e-07</td>\n",
       "    </tr>\n",
       "    <tr>\n",
       "      <th>4</th>\n",
       "      <td>12549.72738</td>\n",
       "      <td>0.000002</td>\n",
       "      <td>6.940000e-07</td>\n",
       "    </tr>\n",
       "    <tr>\n",
       "      <th>5</th>\n",
       "      <td>12549.73035</td>\n",
       "      <td>-0.000011</td>\n",
       "      <td>1.430000e-06</td>\n",
       "    </tr>\n",
       "    <tr>\n",
       "      <th>6</th>\n",
       "      <td>12549.73332</td>\n",
       "      <td>-0.000001</td>\n",
       "      <td>9.020000e-07</td>\n",
       "    </tr>\n",
       "    <tr>\n",
       "      <th>7</th>\n",
       "      <td>12549.73628</td>\n",
       "      <td>0.000018</td>\n",
       "      <td>1.671000e-06</td>\n",
       "    </tr>\n",
       "    <tr>\n",
       "      <th>8</th>\n",
       "      <td>12549.73924</td>\n",
       "      <td>0.000007</td>\n",
       "      <td>1.478000e-06</td>\n",
       "    </tr>\n",
       "    <tr>\n",
       "      <th>9</th>\n",
       "      <td>12549.74130</td>\n",
       "      <td>-0.000024</td>\n",
       "      <td>3.769000e-06</td>\n",
       "    </tr>\n",
       "  </tbody>\n",
       "</table>\n",
       "</div>"
      ],
      "text/plain": [
       "    MJD_subint  residual     TOA_error\n",
       "0  12549.71554 -0.000029  9.710000e-07\n",
       "1  12549.71850  0.000028  8.760000e-07\n",
       "2  12549.72146 -0.000024  1.130000e-06\n",
       "3  12549.72443  0.000035  8.840000e-07\n",
       "4  12549.72738  0.000002  6.940000e-07\n",
       "5  12549.73035 -0.000011  1.430000e-06\n",
       "6  12549.73332 -0.000001  9.020000e-07\n",
       "7  12549.73628  0.000018  1.671000e-06\n",
       "8  12549.73924  0.000007  1.478000e-06\n",
       "9  12549.74130 -0.000024  3.769000e-06"
      ]
     },
     "execution_count": 6,
     "metadata": {},
     "output_type": "execute_result"
    }
   ],
   "source": [
    "df1 # these are the residuals and TOA_error bars in the "
   ]
  },
  {
   "cell_type": "code",
   "execution_count": 7,
   "id": "cb48ea11-dd66-4ecb-85a7-1e5c0211a02f",
   "metadata": {},
   "outputs": [],
   "source": [
    "List_df=[df1,df2,df3,df4,df5,df6,df7]\n",
    "channel=[312.277,337.372,362.054,387.487,413.063,437.08,461.851]"
   ]
  },
  {
   "cell_type": "code",
   "execution_count": 20,
   "id": "1f0b2c83-03cc-46c4-a126-af0874a21563",
   "metadata": {},
   "outputs": [],
   "source": [
    "def chi2_conf_interval(data,confidence_level):\n",
    "    sample_size = np.size(data)\n",
    "    df= sample_size\n",
    "    alpha = 1 - confidence_level\n",
    "    critical_value_lower = chi2.ppf(alpha / 2, df)\n",
    "    critical_value_upper = chi2.ppf(1 - alpha / 2, df)\n",
    "\n",
    "    w_n = sum([a**2 for a in data])\n",
    "    \n",
    "    #margin_of_error = chi2.ppf((1 + confidence_level) / 2, df)\n",
    "    #print(margin_of_error)\n",
    "    # Assuming you have a sample mean and standard deviation\n",
    "    \n",
    "    #sample_mean = np.mean(data)\n",
    "    #sample_std =  np.std(data)\n",
    "    \n",
    "\n",
    "    # Calculate the confidence interval\n",
    "    #lower_bound = sample_mean - (margin_of_error * sample_std / (df ** 0.5))\n",
    "    #upper_bound = sample_mean + (margin_of_error * sample_std / (df ** 0.5))\n",
    "    #half_uncer_bar_size = (margin_of_error * sample_std / (df ** 0.5) )\n",
    "    \n",
    "    conf_interval=np.array([df*w_n/critical_value_upper , df*w_n/critical_value_lower])\n",
    "    \n",
    "    return conf_interval"
   ]
  },
  {
   "cell_type": "code",
   "execution_count": 21,
   "id": "57e9f0c4-9ce5-4ede-ab7d-e8b6453ee5bd",
   "metadata": {},
   "outputs": [],
   "source": [
    "def get_Jitter(List_df,confidence_level):\n",
    "    L=[]\n",
    "    for DF in List_df:\n",
    "        data=DF.residual\n",
    "        conf_interval=chi2_conf_interval(data,confidence_level)\n",
    "        radio_noise=(np.mean(DF.TOA_error))**2\n",
    "        final_interval=conf_interval-radio_noise\n",
    "        L.append(final_interval)\n",
    "    return np.array(L)"
   ]
  },
  {
   "cell_type": "code",
   "execution_count": 43,
   "id": "debb9d13-5eb6-4809-be90-cfa9cbb900e8",
   "metadata": {},
   "outputs": [],
   "source": [
    "plot_jitter=get_Jitter(List_df,0.95)"
   ]
  },
  {
   "cell_type": "code",
   "execution_count": 44,
   "id": "703e87cd-91b5-47ac-a3ec-8d6318b03fc3",
   "metadata": {},
   "outputs": [
    {
     "data": {
      "text/plain": [
       "[8.172292220119756e-09,\n",
       " 1.0206241469420527e-08,\n",
       " 7.486340677220276e-09,\n",
       " 1.1341465557062957e-08,\n",
       " 1.0961761824169277e-08,\n",
       " 8.40061138453995e-09,\n",
       " 8.268182780583797e-09]"
      ]
     },
     "execution_count": 44,
     "metadata": {},
     "output_type": "execute_result"
    }
   ],
   "source": [
    "[np.mean(a) for a in plot_jitter]"
   ]
  },
  {
   "cell_type": "code",
   "execution_count": 45,
   "id": "ea3716cf-1778-41c2-82b1-24eb4942f4fd",
   "metadata": {},
   "outputs": [
    {
     "data": {
      "text/plain": [
       "[5.937263277167558e-09,\n",
       " 7.415881271245937e-09,\n",
       " 5.439838395377911e-09,\n",
       " 8.23923228687275e-09,\n",
       " 7.963351414422238e-09,\n",
       " 6.107162749027859e-09,\n",
       " 6.022350563937784e-09]"
      ]
     },
     "execution_count": 45,
     "metadata": {},
     "output_type": "execute_result"
    }
   ],
   "source": [
    "[(a[1]-a[0])/2 for a in plot_jitter]"
   ]
  },
  {
   "cell_type": "code",
   "execution_count": 46,
   "id": "66460f84-feca-47fc-ae0a-e948cc2133f5",
   "metadata": {},
   "outputs": [
    {
     "name": "stderr",
     "output_type": "stream",
     "text": [
      "<>:11: SyntaxWarning: invalid escape sequence '\\s'\n",
      "<>:11: SyntaxWarning: invalid escape sequence '\\s'\n",
      "/tmp/ipykernel_189959/1348929560.py:11: SyntaxWarning: invalid escape sequence '\\s'\n",
      "  ylabel = \" $\\sigma_{Jitter} ( s) $\"\n"
     ]
    },
    {
     "data": {
      "image/png": "[encoded data removed]",
      "text/plain": [
       "<Figure size 640x480 with 1 Axes>"
      ]
     },
     "metadata": {},
     "output_type": "display_data"
    }
   ],
   "source": [
    "# Plotting\n",
    "#plotting\n",
    "# linear regression with error bars\n",
    "x=channel\n",
    "y=[np.mean(a) for a in plot_jitter]\n",
    "yerror=np.array([(a[1]-a[0])/2 for a in plot_jitter])\n",
    "#INPUT PARAMETERS\n",
    "#dx = \n",
    "#dy =  np.array(df2.iloc[:,3])\n",
    "xlabel = \"$ frequency (MHz) $\"\n",
    "ylabel = \" $\\sigma_{Jitter} ( s) $\"\n",
    "x1=np.linspace(np.min(x), np.max(x) , 10) # creates array for plotting the line\n",
    "# defining linear function\n",
    "def line(x,m,c):\n",
    "    return (m*x + c)\n",
    "#var,pcov=curve_fit(line,x,y) # var contains the returned the optimized variables namely m ,c  \n",
    "#print(np.sqrt(pcov))\n",
    "#error bars\n",
    "#xerror=np.full(shape=len(x),fill_value=dx ,)\n",
    "#yerror=np.full(shape=len(y),fill_value=dy ,)\n",
    "#plotting the values and error bars\n",
    "plt.errorbar(x, y,yerr = yerror,fmt ='.',capsize=2,color='black')\n",
    "plt.scatter(x,y,color=\"r\",marker=\"o\")\n",
    "#plt.plot(x1,line(x1,*var),label= ylabel ,color='green')\n",
    "#plotting other important elements\n",
    "#st=str(\"variables\")+str(var)\n",
    "#st1=str(\"covariance\")+str(pcov)\n",
    "plt.ylabel(ylabel)\n",
    "plt.xlabel(xlabel)\n",
    "plt.title(\"Jitter for observation time approx 4min\")\n",
    "#plt.figtext(0.20, 0.76, st) # prints the string st at specified coordinates\n",
    "#plt.figtext(0.20,0.62,st1)\n",
    "plt.savefig(\"../Analysis4.1/Jitter_0.95.png\")\n",
    "plt.show()"
   ]
  },
  {
   "cell_type": "code",
   "execution_count": null,
   "id": "876b64ae-5086-46c6-ad2d-fd0739db1782",
   "metadata": {},
   "outputs": [],
   "source": []
  },
  {
   "cell_type": "code",
   "execution_count": null,
   "id": "6feccc80-85d3-4ba6-b3ea-249ec9fd2229",
   "metadata": {},
   "outputs": [],
   "source": []
  },
  {
   "cell_type": "code",
   "execution_count": null,
   "id": "2174c63d-d50c-4fe7-9748-50204b0bb12f",
   "metadata": {},
   "outputs": [],
   "source": []
  },
  {
   "cell_type": "code",
   "execution_count": 103,
   "id": "f8266b55-7bac-4779-a461-67de05060657",
   "metadata": {},
   "outputs": [
    {
     "data": {
      "image/png": "[encoded data removed]",
      "text/plain": [
       "<Figure size 640x480 with 1 Axes>"
      ]
     },
     "metadata": {},
     "output_type": "display_data"
    }
   ],
   "source": [
    "# Plotting\n",
    "#plotting\n",
    "# linear regression with error bars\n",
    "x=channel\n",
    "y=np.array([a[0] for a in Jit_chan])\n",
    "yerror=np.array([a[1] for a in Jit_chan])\n",
    "#INPUT PARAMETERS\n",
    "#dx = \n",
    "#dy =  np.array(df2.iloc[:,3])\n",
    "xlabel = \"$ frequency (MHz) $\"\n",
    "ylabel = \" $\\sigma_{Jitter} ( s) $\"\n",
    "x1=np.linspace(np.min(x), np.max(x) , 10) # creates array for plotting the line\n",
    "# defining linear function\n",
    "def line(x,m,c):\n",
    "    return (m*x + c)\n",
    "#var,pcov=curve_fit(line,x,y) # var contains the returned the optimized variables namely m ,c  \n",
    "#print(np.sqrt(pcov))\n",
    "#error bars\n",
    "#xerror=np.full(shape=len(x),fill_value=dx ,)\n",
    "#yerror=np.full(shape=len(y),fill_value=dy ,)\n",
    "#plotting the values and error bars\n",
    "plt.errorbar(x, y,yerr = yerror,fmt ='.',capsize=2,color='black')\n",
    "plt.scatter(x,y,color=\"r\",marker=\"o\")\n",
    "#plt.plot(x1,line(x1,*var),label= ylabel ,color='green')\n",
    "#plotting other important elements\n",
    "#st=str(\"variables\")+str(var)\n",
    "#st1=str(\"covariance\")+str(pcov)\n",
    "plt.ylabel(ylabel)\n",
    "plt.xlabel(xlabel)\n",
    "plt.title(\"Jitter for observation time approx 4min\")\n",
    "#plt.figtext(0.20, 0.76, st) # prints the string st at specified coordinates\n",
    "#plt.figtext(0.20,0.62,st1)\n",
    "plt.savefig(\"../Analysis4.0/screenshots/Jitter_corrected.png\")\n",
    "plt.show()"
   ]
  },
  {
   "cell_type": "markdown",
   "id": "f77d3239-4efa-4ab8-ab3c-cf1472fccd5b",
   "metadata": {},
   "source": [
    "The above plot was estimated as follows:\n",
    "$\\sigma_{Jitter}$ is modelled as a normal random variable:\n",
    "\n",
    "$$\\sigma(\\nu_j) = Norm(\\mu(\\nu_j),\\sigma'(\\nu_j))$$ , where $\\nu_j$ represent $\\space j^{th} \\space$ frequency channel. \n",
    "Now the distribution has unknown mean and unkown standard deviation.\n",
    "We just have the data points sampled from the distrition, we need to estimate the mean i.e. obtain a confidence interval for the mean, which determines the error bars on each data point."
   ]
  },
  {
   "cell_type": "markdown",
   "id": "0c7b4238-6c0f-48ef-a2a4-4b1c9f183437",
   "metadata": {},
   "source": [
    "For each frequency, the sampled data for Jitter for each sub-int $$\\sigma_{subint}(freq) = \\sqrt{residual^2 - TOA_{error}^2 }$$\n",
    "$$\\sigma_{subint}(freq) = \\sqrt{\\sigma_{Obs}^2 - \\sigma_{rad}^2 }$$\n",
    "For a given frequency channel say $\\nu_j$ and for n different subints ,we have , $$ \\sigma_1(\\nu_j) ,\\space \\sigma_2(\\nu_j) ,\\space \\sigma_3(\\nu_j),\\space .......\\sigma_n(\\nu_j) $$ in above example we have n = 10 , for certain frequencies and for some we have n<10 as we rejected to outliers where $ \\space \\space TOA_{error} > residual$."
   ]
  },
  {
   "cell_type": "markdown",
   "id": "0856dcbd-136f-49b2-9923-fea20e3a228c",
   "metadata": {},
   "source": [
    "For estimating the value of $\\mu(\\nu_j)$ , i.e the mean of the distribution from which $\\sigma_i(\\nu_j)$'s are sampled, We move to parameter estimation."
   ]
  },
  {
   "cell_type": "markdown",
   "id": "8216d282-c192-415c-9d8c-c13ac7932584",
   "metadata": {},
   "source": [
    "Confidence interval for mean of $x_i 's$ sampled from a Normal distribution $Norm(\\mu,\\sigma)$ of unkown mean and variance is given by:\n",
    "$$ \\mu \\in (\\bar{x} -t_{\\alpha/2 , n-1} \\frac{S}{\\sqrt{n}} , \\bar{x} +t_{\\alpha/2 , n-1} \\frac{S}{\\sqrt{n}}) $$\n",
    "where $S^2 = \\frac{1}{N-1} \\sum_i^N {(x_i - \\bar{x})^2} $, t is the students-t distribution with n-1 degrees of freedom."
   ]
  },
  {
   "cell_type": "markdown",
   "id": "d8b98c39-a032-4b2b-bf48-9fca06fbae1e",
   "metadata": {},
   "source": [
    "For the above example we chose the confidence level to be 95.45%"
   ]
  },
  {
   "cell_type": "markdown",
   "id": "f30c76f2-4928-4a20-ac73-39051273113b",
   "metadata": {},
   "source": [
    "# Jitter estimation using confidence intervals"
   ]
  },
  {
   "cell_type": "code",
   "execution_count": null,
   "id": "c48b0ff7-ab39-41bc-b63e-17d0b3ba05b8",
   "metadata": {},
   "outputs": [],
   "source": []
  },
  {
   "cell_type": "code",
   "execution_count": null,
   "id": "78abc749-eb36-40f4-8319-ddd267e3f105",
   "metadata": {},
   "outputs": [],
   "source": []
  },
  {
   "cell_type": "code",
   "execution_count": null,
   "id": "adcce379-9beb-4c91-971e-1d1c822e05f0",
   "metadata": {},
   "outputs": [],
   "source": []
  },
  {
   "cell_type": "code",
   "execution_count": null,
   "id": "e1ec3bc0-ad89-4271-8971-4a3d30678d7f",
   "metadata": {},
   "outputs": [],
   "source": []
  },
  {
   "cell_type": "code",
   "execution_count": null,
   "id": "bdaf16f6-4ad4-4fb5-9586-b847e43e4056",
   "metadata": {},
   "outputs": [],
   "source": []
  },
  {
   "cell_type": "code",
   "execution_count": null,
   "id": "6ed3ff7c-6a83-41ed-9d9f-2ed2fb19af55",
   "metadata": {},
   "outputs": [],
   "source": []
  }
 ],
 "metadata": {
  "kernelspec": {
   "display_name": "Python 3 (ipykernel)",
   "language": "python",
   "name": "python3"
  },
  "language_info": {
   "codemirror_mode": {
    "name": "ipython",
    "version": 3
   },
   "file_extension": ".py",
   "mimetype": "text/x-python",
   "name": "python",
   "nbconvert_exporter": "python",
   "pygments_lexer": "ipython3",
   "version": "3.12.3"
  }
 },
 "nbformat": 4,
 "nbformat_minor": 5
}
