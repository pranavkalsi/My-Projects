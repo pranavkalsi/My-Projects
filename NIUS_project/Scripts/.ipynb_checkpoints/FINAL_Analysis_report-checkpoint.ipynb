{
 "cells": [
  {
   "cell_type": "markdown",
   "id": "6b5b51e3-65e9-4ad9-92bf-ba4343510274",
   "metadata": {},
   "source": [
    "# Single Pulse Jitter analysis "
   ]
  },
  {
   "cell_type": "raw",
   "id": "261e5729-9d97-42ff-9fdd-7757431a3f2e",
   "metadata": {},
   "source": [
    "This notebook contains the computational part performed by me during my visit to NCRA from 29/4/2024 to 18/5/2024 under guidance of prof. B.C. Joshi."
   ]
  },
  {
   "cell_type": "markdown",
   "id": "6be09ecc-42f3-4314-8014-3c13b8abe357",
   "metadata": {},
   "source": [
    "## Introduction"
   ]
  },
  {
   "cell_type": "markdown",
   "id": "8c5fbf13-e83c-4c0c-83c9-f268fbdfa8f1",
   "metadata": {},
   "source": [
    "The pulse signals from pulsars recieved by a radio telesope are saved as time series. It becomes an important exercise to understand characteristics of the pulse signals for furthur study and applications. "
   ]
  },
  {
   "cell_type": "markdown",
   "id": "8d0f3974-e695-4a91-9050-114971a3c220",
   "metadata": {},
   "source": [
    "Here we analyse and study the time of arrivals of a pulse signal to find any correlation of certain factors like frequency dependence for a specific pulsar and come up with possible explanation of the results obtained."
   ]
  },
  {
   "cell_type": "markdown",
   "id": "f7840dc9-2e5b-43fa-bcfd-a100f825d806",
   "metadata": {},
   "source": [
    "## Mathematical modelling"
   ]
  },
  {
   "attachments": {},
   "cell_type": "markdown",
   "id": "8b199170-ec2e-4979-bc80-bba5e7bb770a",
   "metadata": {},
   "source": [
    "Time of arrivals (TOA) of pulse signals can be modelled by ideal expected TOA with a noise. The noise in this case depends on several phenomenon such as interstellar scintillations etc. But here in our analysis we consider only two parameters causing the Observed TOAs to deviate from expected TOAs, because we are integrating over longer time scales at which other phenomenons do not have significant contributions in the deviations.\n",
    "\n",
    "We look at the residuals of the Observed TOAs and the Expected TOAs and call it Timing residuals $T_{res}$.\n",
    "\n",
    "Now $T_{res}$ can be modelled as a random variable which is sum of two other random variables, one related to Radiometer noise let's call it $R$. Note that Radiometer noise is white in nature, so it spans equally over all frequencies and time. The other source of timing noise is intrinsit to the pulsar caused by change in the shape of the pulse, let's call it Jitter, $J_{\\nu}$. We cannot assume this Jitter to be a white noise so it may be dependent on the frequency of the observation. The frequency dependence of jitter is captured by subsctript $\\nu$. However we can assume Jitter to be present at all times during the observation.\n",
    "\n",
    "so, $$T_{res} = R + J_{\\nu}$$\n",
    "\n",
    "To move forward we keep our faith in Central Limit Theorem and take the both the random variables to be Gaussian.\n",
    "$$ R = \\mathcal{N}(0,\\sigma_{rad}^2)  \\space, and \\space  J_{\\nu} =  \\mathcal{N}(0,\\sigma_J^2(\\nu) )$$\n",
    "\n",
    "And since $R$ and $J_{\\nu}$ are independent random variables, $$T_{res} = \\mathcal{N}(0,\\sigma_{rad}^2+\\sigma_J^2(\\nu))$$\n",
    "\n",
    "Note that both Radiometer noise and Jitter noise, i.e. $\\sigma_{rad}$ and $\\sigma_{J}(\\nu)$ , when calculated from time integrated data will show $1/\\sqrt{n}$ dependence, where n is the number of subints or time of observation. \n",
    "\n",
    "Thus one can scale the standard deviations as, $$ \\sigma(T_1) = \\sigma(T_2) \\sqrt{\\frac{T_2}{T_1} }$$"
   ]
  },
  {
   "cell_type": "markdown",
   "id": "f981ca41-c919-4e28-81e6-76c709055e85",
   "metadata": {},
   "source": [
    "### Estimators"
   ]
  },
  {
   "attachments": {},
   "cell_type": "markdown",
   "id": "788f7a49-b609-45a2-81a3-dd4f3840762b",
   "metadata": {},
   "source": [
    "We desctribed above the mathematical relation between the observed parameter ($T_{res}$) and the parameter which we wish to estimate $\\sigma_{J}(\\nu) $. In this section we will descibe how do we estimate the Jitter from the sampled data.\n",
    "\n",
    "Tempo2 returns us two numbers, one is the timing residual and the other is error bar on the corresponding TOA. The TOA error bar gives us the measure of radiometer noise i.e. off-pulse rms, which is independent from the changes in the pulse shape. And the residuals however are because of the changes in pulse shape as well as the radiometer noise.\n",
    "\n",
    "Let $ \\space T_{res\\space 1} ,\\space    T_{res\\space 2} \\space , T_{res\\space 3} \\space, . . ... ,T_{res\\space n} \\space$ denote the sampled values for the same integration time. We know that they are sampled from $\\space  \\mathcal{N}(0,\\sigma_{rad}^2+\\sigma_J^2(\\nu))$.\n",
    "Note that these sampled values are the timing residuals, obtained by collapsing the whole observation into $n$ subints.\n",
    "\n",
    "Also let corresponding TOA error bars be denoted by $ \\space T_{error\\space 1} ,\\space    T_{error\\space 2} \\space , T_{error\\space 3} \\space, . . ... ,T_{error\\space n} \\space$ . Which we suppose is the sampled standard deviation of the $R$ random variable. i.e. $ \\space T_{error\\space,i} \\space = s_{rad \\space,i} \\space$   where s denotes the sample standard deviation because of rms value corresponding to off-pulse region.\n",
    "\n",
    "Thus, Now we can create a confidence interval for $\\space \\sigma^2 = \\sigma_{rad}^2+\\sigma_J^2(\\nu)$ .\n",
    "\n",
    "One can show with a simple mathematical exercise that if n points are sampled from Normal distribution with a known mean, the confidence interval for $\\sigma^2$ is given by \n",
    "\n",
    "$$ \\sigma^2 \\in [ \\frac{n W_n}{\\chi^{2}_{n} (\\frac{\\alpha} {2})   }  ,      \\frac{n W_n}{\\chi^{2}_{n} (1- \\frac{\\alpha}{2})   } ]  $$\n",
    "\n",
    "where, $$ W_n = \\frac{1}{n} \\sum_{i=1} ^n {(x_i - \\mu)^2 } \\space  $$ and  $$ \\space  \\chi^{2}_{n} (\\frac{\\alpha} {2}) $$  denotes the $1 - \\frac{\\alpha}{2} $ quantile of the $\\chi^2 $ distribution with n degrees of freedom. \n",
    "\n",
    "Using the above result, we get $$ \\sigma_{rad}^2 + \\sigma_{J}^2(\\nu) \\in [ \\frac{n W_n}{\\chi^{2}_{n} (\\frac{\\alpha} {2})   }  ,      \\frac{n W_n}{\\chi^{2}_{n} (1- \\frac{\\alpha}{2})   } ]  $$\n",
    "\n",
    "Here, $$ W_n = \\frac{1}{n} \\sum_{i=1} ^n {(T_{res \\space i } - \\mu)^2 } \\space  $$ and $\\mu$ = 0\n",
    "\n",
    "In order give bounds on $\\sigma_{J}^2(\\nu) $ we need an estimator of $\\sigma_{rad}^2 $\n",
    "\n",
    "As stated above $ \\space T_{error\\space,i} \\space = s_{rad \\space,i} \\space$, thus we can guess following estimator for $\\sigma_{rad}^2 \\space $ as  $$\\space \\hat{\\sigma}_{rad}^2 = mean{({s}_{rad}^{2})} \\space = \\frac{1}{n} \\sum_{i=1}^{n}{T_{error\\space,i}^2} $$\n",
    "\n",
    "\n",
    "\n",
    "so, $$  \\sigma_{J}^2(\\nu) \\in [ \\frac{n W_n}{\\chi^{2}_{n} (\\frac{\\alpha} {2})   } - \\hat{\\sigma}_{rad}^2   ,      \\frac{n W_n}{\\chi^{2}_{n} (1- \\frac{\\alpha}{2})   } -\\hat{\\sigma}_{rad}^2  ]  $$\n",
    "\n",
    "We need to take care of special case when, $\\space  \\frac{n W_n}{\\chi^{2}_{n}(\\frac{\\alpha}{2})} < \\hat{\\sigma}_{rad}^2  \\space $. This case arrises when, $\\sigma_{rad} > \\sigma_{J}(\\nu) $ and it does not make much sense to find confidence interval for $\\sigma_{J}^2(\\nu) $ using an estimator of other dominating quantity.\n",
    "\n",
    "But even if we wish to carry out this exercise, we may cleverly chose to divide our $\\chi^2_n $ intervals into ($\\alpha-\\beta$ , $1-\\alpha$ , $\\beta $) instead of ($\\frac{\\alpha}{2} , 1-\\alpha , \\frac{\\alpha}{2} $)\n",
    "\n",
    " $$  \\sigma_{J}^2(\\nu) \\in [ \\frac{n W_n}{\\chi^{2}_{n} ({\\beta} )   } - \\hat{\\sigma}_{rad}^2   ,      \\frac{n W_n}{\\chi^{2}_{n} (1- \\alpha + \\beta)   } -\\hat{\\sigma}_{rad}^2  ]  $$"
   ]
  },
  {
   "cell_type": "markdown",
   "id": "48741fec-f7ee-4c2c-8b9c-c7bba4ca36be",
   "metadata": {},
   "source": [
    "### Example plots"
   ]
  },
  {
   "cell_type": "markdown",
   "id": "c4c25e17-df49-40e2-8d0a-5e3b75cd36a8",
   "metadata": {},
   "source": [
    "In this section we will describte the quantities mentioned in the previous sections through some plots, just for clearification."
   ]
  },
  {
   "cell_type": "markdown",
   "id": "03eadf42-b8ab-4e8a-8a40-68f28ab26e58",
   "metadata": {},
   "source": [
    "## Analysis"
   ]
  },
  {
   "cell_type": "markdown",
   "id": "2cae026e-2e8a-471e-8d13-bf3c6b36f6ee",
   "metadata": {},
   "source": [
    "Purpose of the analysis is to find charateristics of jitter:\n",
    "1. Its dependence on time.\n",
    "   One expects Jitter to decrease by $\\sqrt{N}$, as we increse the number of subints i.e. the integration time.\n",
    "   We will find Jitter by collapsing the whole data into 10, 40, 160, 500 subints and check the dependence on N, And verify the expected trend.\n",
    "2. Dependence on frequency.\n",
    "   We will plot Jitter as a function frequency into 8, 16, 32, 64, 128.\n",
    "   And check whats the trend.\n",
    "3. We will also repeat the analysis in point 2. for different timing algoriths available with pat.   "
   ]
  },
  {
   "cell_type": "markdown",
   "id": "23fde63e-aba4-4c59-8251-37a5bc9d6573",
   "metadata": {},
   "source": [
    "# Plotting Jitter as a function of frequency"
   ]
  },
  {
   "cell_type": "raw",
   "id": "efb71708-f468-4e2b-930d-f71a4bdea839",
   "metadata": {},
   "source": [
    "We have already plotted Jitter as a function of frequency for data brocken into 8, 16 channels now we will repeat it for 32, 64 and 128.\n",
    "TODO:\n",
    "1. 32\n",
    "2. 64\n",
    "3. 128"
   ]
  },
  {
   "cell_type": "markdown",
   "id": "f8e24b0a-44dc-422a-93eb-7652dcc8909c",
   "metadata": {},
   "source": [
    "Let us look at the plot of residuals that we obtain in tempo2 after fitting in for f_0"
   ]
  },
  {
   "attachments": {
    "dad13cdf-d33c-4323-889c-9fd08a9a1257.png": {
     "image/png": "[encoded data removed]"
    }
   },
   "cell_type": "markdown",
   "id": "5a8b2d01-a774-4d99-a378-cdea460e3323",
   "metadata": {},
   "source": [
    "![chan8_postfit.png](attachment:dad13cdf-d33c-4323-889c-9fd08a9a1257.png)"
   ]
  },
  {
   "cell_type": "markdown",
   "id": "22d442c6-4a18-4176-8e8d-45946f12ff76",
   "metadata": {},
   "source": [
    "The numerical values are stored in the dataframe below."
   ]
  },
  {
   "cell_type": "markdown",
   "id": "8eed90f7-2ad3-49e7-82e7-95fe56894866",
   "metadata": {},
   "source": [
    "#### Python code for obtaining the Jitter values"
   ]
  },
  {
   "cell_type": "markdown",
   "id": "8efb4a76-59e4-47a5-bfb0-0d5732eb1700",
   "metadata": {},
   "source": [
    "### Steps to follow for obtaining the residuals and TOA_error"
   ]
  },
  {
   "cell_type": "markdown",
   "id": "caab0a8b-f771-45ee-99d1-f8b17387bb92",
   "metadata": {},
   "source": [
    "Here we summarize the steps followed for obtaining the TOA residuals and TOA errors:\n",
    "1. Clean the data from any RFI's if present.\n",
    "2. Prepare required frequency crunched and time crunched PSRfits files.\n",
    "3. Prepare smooth template profile, by maintaining the number of required frequency bands.\n",
    "4. Split the PSR fits files into the subchannels for fitting in tempo2.\n",
    "5. Obtain .tim files for all frequency channels using template and other files obtained in step 5.\n",
    "6. Now run tempo2 for different .tim filesa corresponding to different frequency channels. Remove any outliers, remember to remove same subints in the other channels as well in order to maintian uniformity in the analysis.\n",
    "7. Obtain the timing residuals and TOA_error by pressint the list option in the tempo2 GUI, numbers in three columns will be printed in the terminal window. Copy all and create a txt file containing the three numbers for all frequency channels. Please note the order in which the frequency channels are ru through this text file. Preffereably run last channel first i.e. in reverse order.\n",
    "8. After obtaining the text file it is given as an input to the following code."
   ]
  },
  {
   "cell_type": "markdown",
   "id": "da5b8c96-ad1e-4c5c-8217-d6b87e71cb4d",
   "metadata": {
    "jp-MarkdownHeadingCollapsed": true
   },
   "source": [
    "# Code"
   ]
  },
  {
   "cell_type": "code",
   "execution_count": 7,
   "id": "90071602-0684-43e9-aa76-7da73a2b8661",
   "metadata": {},
   "outputs": [],
   "source": [
    "import numpy as np\n",
    "from scipy.stats import chi2\n",
    "from scipy.optimize import curve_fit\n",
    "import matplotlib.pyplot as plt\n",
    "import pandas as pd\n",
    "import psrchive\n",
    "import os\n",
    "import subprocess"
   ]
  },
  {
   "cell_type": "markdown",
   "id": "e181a1c1-f38f-4a22-bf1a-c0717ac52c44",
   "metadata": {},
   "source": [
    "### Making .tim files"
   ]
  },
  {
   "cell_type": "markdown",
   "id": "972f34c3-bd89-43df-aa87-96057e967ab9",
   "metadata": {},
   "source": [
    "1. Input number of channels\n",
    "2. Path to template profile\n",
    "3. psrsplit command\n",
    "4. pat command on the split files\n",
    "5. path to .tim folder"
   ]
  },
  {
   "cell_type": "code",
   "execution_count": 7,
   "id": "3022d91a-24fe-4403-9192-058565674318",
   "metadata": {},
   "outputs": [
    {
     "name": "stdout",
     "output_type": "stream",
     "text": [
      "10_16_rfi\t 10_512_rfi\t 1_16_rfi.sm  1_2_rfi.sm  500_1_rfi\n",
      "10_16_rfi_files  10_8_rfi\t 1_1_rfi      1_8_rfi\t  500_512_rfi\n",
      "10_2_rfi\t 10_8_rfi_files  1_1_rfi.sm   1_8_rfi.sm  500_8_rfi\n",
      "10_2_rfi_files\t 1_16_rfi\t 1_2_rfi      500_16_rfi  500_8_rfi_files\n"
     ]
    }
   ],
   "source": [
    "!ls "
   ]
  },
  {
   "cell_type": "code",
   "execution_count": 5,
   "id": "03d862c1-2bd3-44aa-b0d5-79543ccff0f2",
   "metadata": {},
   "outputs": [],
   "source": [
    "#os.chdir('../Analysis4.1/')"
   ]
  },
  {
   "cell_type": "code",
   "execution_count": 8,
   "id": "8b88a95a-862e-46b6-ad88-c05dcb0a6088",
   "metadata": {},
   "outputs": [
    {
     "name": "stdout",
     "output_type": "stream",
     "text": [
      "10_16_rfi\t 10_512_rfi\t 1_16_rfi.sm  1_2_rfi.sm  500_1_rfi\n",
      "10_16_rfi_files  10_8_rfi\t 1_1_rfi      1_8_rfi\t  500_512_rfi\n",
      "10_2_rfi\t 10_8_rfi_files  1_1_rfi.sm   1_8_rfi.sm  500_8_rfi\n",
      "10_2_rfi_files\t 1_16_rfi\t 1_2_rfi      500_16_rfi  500_8_rfi_files\n"
     ]
    }
   ],
   "source": [
    "#!ls"
   ]
  },
  {
   "cell_type": "code",
   "execution_count": 19,
   "id": "73b25bf2-b974-486f-9ca1-32aa019b8260",
   "metadata": {},
   "outputs": [
    {
     "name": "stdout",
     "output_type": "stream",
     "text": [
      "Unrecognized telescope code (GMRT)\n",
      "10_512_rfi.tt written to disk\n"
     ]
    }
   ],
   "source": [
    "!pam --setnchn {channels} -e tt 10_512_rfi\n",
    "!mv 10_512_rfi.tt 10_{channels}_rfi"
   ]
  },
  {
   "cell_type": "code",
   "execution_count": 41,
   "id": "417832f3-9a8f-4e66-a375-679bb75e4841",
   "metadata": {},
   "outputs": [
    {
     "name": "stdout",
     "output_type": "stream",
     "text": [
      "10_128_rfi         10_64_rfi         1_1_rfi.sm   1_8_rfi.sm\n",
      "\u001b[0m\u001b[01;34m10_128_rfi_files\u001b[0m/  \u001b[01;34m10_64_rfi_files\u001b[0m/  1_2_rfi      500_16_rfi\n",
      "10_16_rfi          10_8_rfi          1_2_rfi.sm   500_1_rfi\n",
      "\u001b[01;34m10_16_rfi_files\u001b[0m/   \u001b[01;34m10_8_rfi_files\u001b[0m/   1_32_rfi     500_512_rfi\n",
      "10_2_rfi           1_128_rfi         1_32_rfi.sm  500_8_rfi\n",
      "\u001b[01;34m10_2_rfi_files\u001b[0m/    1_128_rfi.sm      1_512_rfi    \u001b[01;34m500_8_rfi_files\u001b[0m/\n",
      "10_32_rfi          1_16_rfi          1_64_rfi\n",
      "\u001b[01;34m10_32_rfi_files\u001b[0m/   1_16_rfi.sm       1_64_rfi.sm\n",
      "10_512_rfi         1_1_rfi           1_8_rfi\n"
     ]
    }
   ],
   "source": [
    "%ls "
   ]
  },
  {
   "cell_type": "code",
   "execution_count": 23,
   "id": "eefdac43-4194-456e-9ce0-35b318003c73",
   "metadata": {},
   "outputs": [],
   "source": [
    "os.makedirs('10_128_rfi_cleaned',exist_ok=True)"
   ]
  },
  {
   "cell_type": "code",
   "execution_count": 49,
   "id": "58e89cca-7d74-4be3-a988-6420948178cc",
   "metadata": {},
   "outputs": [],
   "source": [
    "channels=32"
   ]
  },
  {
   "cell_type": "code",
   "execution_count": 34,
   "id": "2b9dc187-938a-4217-9ad0-d09ea1f8e673",
   "metadata": {},
   "outputs": [],
   "source": [
    "#!mv 10_{channels}_rfi_cleaned 10_{channels}_rfi_files\n",
    "!mkdir 10_{channels}_rfi_files/tim_files"
   ]
  },
  {
   "cell_type": "code",
   "execution_count": 50,
   "id": "ff7d3e14-999a-4f0c-b334-f25c5d93edf2",
   "metadata": {},
   "outputs": [],
   "source": [
    "channels = 32"
   ]
  },
  {
   "cell_type": "code",
   "execution_count": 48,
   "id": "8f4150d5-241b-4506-9795-aea462d65934",
   "metadata": {},
   "outputs": [
    {
     "name": "stdout",
     "output_type": "stream",
     "text": [
      "Unrecognized telescope code (GMRT)\n",
      "psrsplit::process 1_64_rfi.sm\n",
      "psrsplit: extracting 0\n",
      "psrsplit: writing 10_64_rfi_files/template//1_64_rfi.0000_0000.sm\n",
      "psrsplit: writing 10_64_rfi_files/template//1_64_rfi.0001_0000.sm\n",
      "psrsplit: writing 10_64_rfi_files/template//1_64_rfi.0002_0000.sm\n",
      "psrsplit: writing 10_64_rfi_files/template//1_64_rfi.0003_0000.sm\n",
      "psrsplit: writing 10_64_rfi_files/template//1_64_rfi.0004_0000.sm\n",
      "psrsplit: writing 10_64_rfi_files/template//1_64_rfi.0005_0000.sm\n",
      "psrsplit: writing 10_64_rfi_files/template//1_64_rfi.0006_0000.sm\n",
      "psrsplit: writing 10_64_rfi_files/template//1_64_rfi.0007_0000.sm\n",
      "psrsplit: writing 10_64_rfi_files/template//1_64_rfi.0008_0000.sm\n",
      "psrsplit: writing 10_64_rfi_files/template//1_64_rfi.0009_0000.sm\n",
      "psrsplit: writing 10_64_rfi_files/template//1_64_rfi.0010_0000.sm\n",
      "psrsplit: writing 10_64_rfi_files/template//1_64_rfi.0011_0000.sm\n",
      "psrsplit: writing 10_64_rfi_files/template//1_64_rfi.0012_0000.sm\n",
      "psrsplit: writing 10_64_rfi_files/template//1_64_rfi.0013_0000.sm\n",
      "psrsplit: writing 10_64_rfi_files/template//1_64_rfi.0014_0000.sm\n",
      "psrsplit: writing 10_64_rfi_files/template//1_64_rfi.0015_0000.sm\n",
      "psrsplit: writing 10_64_rfi_files/template//1_64_rfi.0016_0000.sm\n",
      "psrsplit: writing 10_64_rfi_files/template//1_64_rfi.0017_0000.sm\n",
      "psrsplit: writing 10_64_rfi_files/template//1_64_rfi.0018_0000.sm\n",
      "psrsplit: writing 10_64_rfi_files/template//1_64_rfi.0019_0000.sm\n",
      "psrsplit: writing 10_64_rfi_files/template//1_64_rfi.0020_0000.sm\n",
      "psrsplit: writing 10_64_rfi_files/template//1_64_rfi.0021_0000.sm\n",
      "psrsplit: writing 10_64_rfi_files/template//1_64_rfi.0022_0000.sm\n",
      "psrsplit: writing 10_64_rfi_files/template//1_64_rfi.0023_0000.sm\n",
      "psrsplit: writing 10_64_rfi_files/template//1_64_rfi.0024_0000.sm\n",
      "psrsplit: writing 10_64_rfi_files/template//1_64_rfi.0025_0000.sm\n",
      "psrsplit: writing 10_64_rfi_files/template//1_64_rfi.0026_0000.sm\n",
      "psrsplit: writing 10_64_rfi_files/template//1_64_rfi.0027_0000.sm\n",
      "psrsplit: writing 10_64_rfi_files/template//1_64_rfi.0028_0000.sm\n",
      "psrsplit: writing 10_64_rfi_files/template//1_64_rfi.0029_0000.sm\n",
      "psrsplit: writing 10_64_rfi_files/template//1_64_rfi.0030_0000.sm\n",
      "psrsplit: writing 10_64_rfi_files/template//1_64_rfi.0031_0000.sm\n",
      "psrsplit: writing 10_64_rfi_files/template//1_64_rfi.0032_0000.sm\n",
      "psrsplit: writing 10_64_rfi_files/template//1_64_rfi.0033_0000.sm\n",
      "psrsplit: writing 10_64_rfi_files/template//1_64_rfi.0034_0000.sm\n",
      "psrsplit: writing 10_64_rfi_files/template//1_64_rfi.0035_0000.sm\n",
      "psrsplit: writing 10_64_rfi_files/template//1_64_rfi.0036_0000.sm\n",
      "psrsplit: writing 10_64_rfi_files/template//1_64_rfi.0037_0000.sm\n",
      "psrsplit: writing 10_64_rfi_files/template//1_64_rfi.0038_0000.sm\n",
      "psrsplit: writing 10_64_rfi_files/template//1_64_rfi.0039_0000.sm\n",
      "psrsplit: writing 10_64_rfi_files/template//1_64_rfi.0040_0000.sm\n",
      "psrsplit: writing 10_64_rfi_files/template//1_64_rfi.0041_0000.sm\n",
      "psrsplit: writing 10_64_rfi_files/template//1_64_rfi.0042_0000.sm\n",
      "psrsplit: writing 10_64_rfi_files/template//1_64_rfi.0043_0000.sm\n",
      "psrsplit: writing 10_64_rfi_files/template//1_64_rfi.0044_0000.sm\n",
      "psrsplit: writing 10_64_rfi_files/template//1_64_rfi.0045_0000.sm\n",
      "psrsplit: writing 10_64_rfi_files/template//1_64_rfi.0046_0000.sm\n",
      "psrsplit: writing 10_64_rfi_files/template//1_64_rfi.0047_0000.sm\n",
      "psrsplit: writing 10_64_rfi_files/template//1_64_rfi.0048_0000.sm\n",
      "psrsplit: writing 10_64_rfi_files/template//1_64_rfi.0049_0000.sm\n",
      "psrsplit: writing 10_64_rfi_files/template//1_64_rfi.0050_0000.sm\n",
      "psrsplit: writing 10_64_rfi_files/template//1_64_rfi.0051_0000.sm\n",
      "psrsplit: writing 10_64_rfi_files/template//1_64_rfi.0052_0000.sm\n",
      "psrsplit: writing 10_64_rfi_files/template//1_64_rfi.0053_0000.sm\n",
      "psrsplit: writing 10_64_rfi_files/template//1_64_rfi.0054_0000.sm\n",
      "psrsplit: writing 10_64_rfi_files/template//1_64_rfi.0055_0000.sm\n",
      "psrsplit: writing 10_64_rfi_files/template//1_64_rfi.0056_0000.sm\n",
      "psrsplit: writing 10_64_rfi_files/template//1_64_rfi.0057_0000.sm\n",
      "psrsplit: writing 10_64_rfi_files/template//1_64_rfi.0058_0000.sm\n",
      "psrsplit: writing 10_64_rfi_files/template//1_64_rfi.0059_0000.sm\n",
      "psrsplit: writing 10_64_rfi_files/template//1_64_rfi.0060_0000.sm\n",
      "psrsplit: writing 10_64_rfi_files/template//1_64_rfi.0061_0000.sm\n",
      "psrsplit: writing 10_64_rfi_files/template//1_64_rfi.0062_0000.sm\n",
      "psrsplit: writing 10_64_rfi_files/template//1_64_rfi.0063_0000.sm\n"
     ]
    }
   ],
   "source": [
    "## Splitting the files\n",
    "!psrsplit -c 1 1_{channels}_rfi.sm -O 10_{channels}_rfi_files/template/"
   ]
  },
  {
   "cell_type": "code",
   "execution_count": null,
   "id": "5fc25f81-15ac-4b71-95d4-75a8248dea05",
   "metadata": {},
   "outputs": [],
   "source": []
  },
  {
   "cell_type": "code",
   "execution_count": 58,
   "id": "ff312710-8485-4f13-b88e-8261969ed5fb",
   "metadata": {},
   "outputs": [
    {
     "name": "stdout",
     "output_type": "stream",
     "text": [
      "Unrecognized telescope code (GMRT)\n",
      "* [repeated 2 times]\n",
      "Unrecognized telescope code (GMRT)\n",
      "* [repeated 2 times]\n",
      "Unrecognized telescope code (GMRT)\n",
      "* [repeated 2 times]\n",
      "Unrecognized telescope code (GMRT)\n",
      "* [repeated 2 times]\n",
      "Unrecognized telescope code (GMRT)\n",
      "* [repeated 2 times]\n",
      "Unrecognized telescope code (GMRT)\n",
      "* [repeated 2 times]\n",
      "Unrecognized telescope code (GMRT)\n",
      "* [repeated 2 times]\n",
      "Unrecognized telescope code (GMRT)\n",
      "* [repeated 2 times]\n",
      "Unrecognized telescope code (GMRT)\n",
      "* [repeated 2 times]\n",
      "Unrecognized telescope code (GMRT)\n",
      "* [repeated 2 times]\n",
      "Unrecognized telescope code (GMRT)\n",
      "* [repeated 2 times]\n",
      "Unrecognized telescope code (GMRT)\n",
      "* [repeated 2 times]\n",
      "Unrecognized telescope code (GMRT)\n",
      "* [repeated 2 times]\n",
      "Unrecognized telescope code (GMRT)\n",
      "* [repeated 2 times]\n",
      "Unrecognized telescope code (GMRT)\n",
      "* [repeated 2 times]\n",
      "Unrecognized telescope code (GMRT)\n",
      "* [repeated 2 times]\n",
      "Unrecognized telescope code (GMRT)\n",
      "* [repeated 2 times]\n",
      "Unrecognized telescope code (GMRT)\n",
      "* [repeated 2 times]\n",
      "Unrecognized telescope code (GMRT)\n",
      "* [repeated 2 times]\n",
      "Unrecognized telescope code (GMRT)\n",
      "* [repeated 2 times]\n",
      "Unrecognized telescope code (GMRT)\n",
      "* [repeated 2 times]\n",
      "Unrecognized telescope code (GMRT)\n",
      "* [repeated 2 times]\n",
      "Unrecognized telescope code (GMRT)\n",
      "* [repeated 2 times]\n",
      "Unrecognized telescope code (GMRT)\n",
      "* [repeated 2 times]\n",
      "Unrecognized telescope code (GMRT)\n",
      "* [repeated 2 times]\n",
      "Unrecognized telescope code (GMRT)\n",
      "* [repeated 2 times]\n",
      "Unrecognized telescope code (GMRT)\n",
      "* [repeated 2 times]\n",
      "Unrecognized telescope code (GMRT)\n",
      "* [repeated 2 times]\n",
      "Unrecognized telescope code (GMRT)\n",
      "* [repeated 2 times]\n",
      "Unrecognized telescope code (GMRT)\n",
      "* [repeated 2 times]\n",
      "Unrecognized telescope code (GMRT)\n",
      "* [repeated 2 times]\n",
      "Unrecognized telescope code (GMRT)\n",
      "* [repeated 2 times]\n",
      "Unrecognized telescope code (GMRT)\n",
      "* [repeated 2 times]\n",
      "Unrecognized telescope code (GMRT)\n",
      "* [repeated 2 times]\n",
      "Unrecognized telescope code (GMRT)\n",
      "* [repeated 2 times]\n",
      "Unrecognized telescope code (GMRT)\n",
      "* [repeated 2 times]\n",
      "Unrecognized telescope code (GMRT)\n",
      "* [repeated 2 times]\n",
      "Unrecognized telescope code (GMRT)\n",
      "* [repeated 2 times]\n",
      "Unrecognized telescope code (GMRT)\n",
      "* [repeated 2 times]\n",
      "Unrecognized telescope code (GMRT)\n",
      "* [repeated 2 times]\n",
      "Unrecognized telescope code (GMRT)\n",
      "* [repeated 2 times]\n",
      "Unrecognized telescope code (GMRT)\n",
      "* [repeated 2 times]\n",
      "Unrecognized telescope code (GMRT)\n",
      "* [repeated 2 times]\n",
      "Unrecognized telescope code (GMRT)\n",
      "* [repeated 2 times]\n",
      "Unrecognized telescope code (GMRT)\n",
      "* [repeated 2 times]\n",
      "Unrecognized telescope code (GMRT)\n",
      "* [repeated 2 times]\n",
      "Unrecognized telescope code (GMRT)\n",
      "* [repeated 2 times]\n",
      "Unrecognized telescope code (GMRT)\n",
      "* [repeated 2 times]\n",
      "Unrecognized telescope code (GMRT)\n",
      "* [repeated 2 times]\n",
      "Unrecognized telescope code (GMRT)\n",
      "* [repeated 2 times]\n",
      "Unrecognized telescope code (GMRT)\n",
      "* [repeated 2 times]\n",
      "Unrecognized telescope code (GMRT)\n",
      "* [repeated 2 times]\n",
      "Unrecognized telescope code (GMRT)\n",
      "* [repeated 2 times]\n",
      "Unrecognized telescope code (GMRT)\n",
      "* [repeated 2 times]\n",
      "Unrecognized telescope code (GMRT)\n",
      "* [repeated 2 times]\n",
      "Unrecognized telescope code (GMRT)\n",
      "* [repeated 2 times]\n",
      "Unrecognized telescope code (GMRT)\n",
      "* [repeated 2 times]\n",
      "Unrecognized telescope code (GMRT)\n",
      "* [repeated 2 times]\n",
      "Unrecognized telescope code (GMRT)\n",
      "* [repeated 2 times]\n",
      "Unrecognized telescope code (GMRT)\n",
      "* [repeated 2 times]\n",
      "Unrecognized telescope code (GMRT)\n",
      "* [repeated 2 times]\n",
      "Unrecognized telescope code (GMRT)\n",
      "* [repeated 2 times]\n",
      "Unrecognized telescope code (GMRT)\n",
      "* [repeated 2 times]\n",
      "Unrecognized telescope code (GMRT)\n",
      "* [repeated 2 times]\n",
      "Unrecognized telescope code (GMRT)\n",
      "* [repeated 2 times]\n",
      "Unrecognized telescope code (GMRT)\n",
      "* [repeated 2 times]\n",
      "Unrecognized telescope code (GMRT)\n",
      "* [repeated 2 times]\n",
      "Unrecognized telescope code (GMRT)\n",
      "* [repeated 2 times]\n",
      "Unrecognized telescope code (GMRT)\n",
      "* [repeated 2 times]\n",
      "Unrecognized telescope code (GMRT)\n",
      "* [repeated 2 times]\n",
      "Unrecognized telescope code (GMRT)\n",
      "* [repeated 2 times]\n",
      "Unrecognized telescope code (GMRT)\n",
      "* [repeated 2 times]\n",
      "Unrecognized telescope code (GMRT)\n",
      "* [repeated 2 times]\n",
      "Unrecognized telescope code (GMRT)\n",
      "* [repeated 2 times]\n",
      "Unrecognized telescope code (GMRT)\n",
      "* [repeated 2 times]\n",
      "Unrecognized telescope code (GMRT)\n",
      "* [repeated 2 times]\n",
      "Unrecognized telescope code (GMRT)\n",
      "* [repeated 2 times]\n",
      "Unrecognized telescope code (GMRT)\n",
      "* [repeated 2 times]\n",
      "Unrecognized telescope code (GMRT)\n",
      "* [repeated 2 times]\n",
      "Unrecognized telescope code (GMRT)\n",
      "* [repeated 2 times]\n",
      "Unrecognized telescope code (GMRT)\n",
      "* [repeated 2 times]\n",
      "Unrecognized telescope code (GMRT)\n",
      "* [repeated 2 times]\n",
      "Unrecognized telescope code (GMRT)\n",
      "* [repeated 2 times]\n",
      "Unrecognized telescope code (GMRT)\n",
      "* [repeated 2 times]\n",
      "Unrecognized telescope code (GMRT)\n",
      "* [repeated 2 times]\n",
      "Unrecognized telescope code (GMRT)\n",
      "* [repeated 2 times]\n",
      "Unrecognized telescope code (GMRT)\n",
      "* [repeated 2 times]\n",
      "Unrecognized telescope code (GMRT)\n",
      "* [repeated 2 times]\n",
      "Unrecognized telescope code (GMRT)\n",
      "* [repeated 2 times]\n",
      "Unrecognized telescope code (GMRT)\n",
      "* [repeated 2 times]\n",
      "Unrecognized telescope code (GMRT)\n",
      "* [repeated 2 times]\n",
      "Unrecognized telescope code (GMRT)\n",
      "* [repeated 2 times]\n",
      "Unrecognized telescope code (GMRT)\n",
      "* [repeated 2 times]\n",
      "Unrecognized telescope code (GMRT)\n",
      "* [repeated 2 times]\n",
      "Unrecognized telescope code (GMRT)\n",
      "* [repeated 2 times]\n",
      "Unrecognized telescope code (GMRT)\n",
      "* [repeated 2 times]\n",
      "Unrecognized telescope code (GMRT)\n",
      "* [repeated 2 times]\n",
      "Unrecognized telescope code (GMRT)\n",
      "* [repeated 2 times]\n",
      "Unrecognized telescope code (GMRT)\n",
      "* [repeated 2 times]\n",
      "Unrecognized telescope code (GMRT)\n",
      "* [repeated 2 times]\n",
      "Unrecognized telescope code (GMRT)\n",
      "* [repeated 2 times]\n",
      "Unrecognized telescope code (GMRT)\n",
      "* [repeated 2 times]\n",
      "Unrecognized telescope code (GMRT)\n",
      "* [repeated 2 times]\n",
      "Unrecognized telescope code (GMRT)\n",
      "* [repeated 2 times]\n",
      "Unrecognized telescope code (GMRT)\n",
      "* [repeated 2 times]\n",
      "Unrecognized telescope code (GMRT)\n",
      "* [repeated 2 times]\n",
      "Unrecognized telescope code (GMRT)\n",
      "* [repeated 2 times]\n",
      "Unrecognized telescope code (GMRT)\n",
      "* [repeated 2 times]\n",
      "Unrecognized telescope code (GMRT)\n",
      "* [repeated 2 times]\n",
      "Unrecognized telescope code (GMRT)\n",
      "* [repeated 2 times]\n",
      "Unrecognized telescope code (GMRT)\n",
      "* [repeated 2 times]\n",
      "Unrecognized telescope code (GMRT)\n",
      "* [repeated 2 times]\n",
      "Unrecognized telescope code (GMRT)\n",
      "* [repeated 2 times]\n",
      "Unrecognized telescope code (GMRT)\n",
      "* [repeated 2 times]\n",
      "Unrecognized telescope code (GMRT)\n",
      "* [repeated 2 times]\n",
      "Unrecognized telescope code (GMRT)\n",
      "* [repeated 2 times]\n",
      "Unrecognized telescope code (GMRT)\n",
      "* [repeated 2 times]\n",
      "Unrecognized telescope code (GMRT)\n",
      "* [repeated 2 times]\n",
      "Unrecognized telescope code (GMRT)\n",
      "* [repeated 2 times]\n",
      "Unrecognized telescope code (GMRT)\n",
      "* [repeated 2 times]\n",
      "Unrecognized telescope code (GMRT)\n",
      "* [repeated 2 times]\n",
      "Unrecognized telescope code (GMRT)\n",
      "* [repeated 2 times]\n",
      "Unrecognized telescope code (GMRT)\n",
      "* [repeated 2 times]\n",
      "Unrecognized telescope code (GMRT)\n",
      "* [repeated 2 times]\n",
      "Unrecognized telescope code (GMRT)\n",
      "* [repeated 2 times]\n",
      "Unrecognized telescope code (GMRT)\n",
      "* [repeated 2 times]\n",
      "Unrecognized telescope code (GMRT)\n",
      "* [repeated 2 times]\n",
      "Unrecognized telescope code (GMRT)\n",
      "* [repeated 2 times]\n"
     ]
    }
   ],
   "source": [
    "## pat command \n",
    "channels=128\n",
    "for a in range(channels):\n",
    "    i=str(a)\n",
    "    if len(i)==1:\n",
    "        i='000'+i\n",
    "    elif len(i)==2:\n",
    "        i='00'+i\n",
    "    elif len(i)==3:\n",
    "        i='0'+i\n",
    "    k='1_'+str(channels)+'_rfi.'+i+'_0000.sm'\n",
    "    kf='10_'+ str(channels)+'_rfi.' + i + '_0000'\n",
    "    tim=i+'.tim'\n",
    "    format=\"tempo2\"\n",
    "    !pat -s 10_{channels}_rfi_files/template/{k} -f {format} 10_{channels}_rfi_files/{kf} > 10_{channels}_rfi_files/tim_files/{tim}"
   ]
  },
  {
   "cell_type": "raw",
   "id": "096e7cfd-b6b8-40b4-909f-4191f1681a66",
   "metadata": {},
   "source": [
    "os.chdir('10_128_rfi_files/tim_files/')"
   ]
  },
  {
   "cell_type": "raw",
   "id": "d41be892-4f05-43c2-87f9-df577db890fd",
   "metadata": {},
   "source": [
    "for filename in os.listdir('.'):\n",
    "    if len(filename)<=7:\n",
    "        #!rm {filename}"
   ]
  },
  {
   "cell_type": "code",
   "execution_count": 7,
   "id": "30828d84-c3df-449a-bdb0-8d5da1704855",
   "metadata": {},
   "outputs": [
    {
     "name": "stdout",
     "output_type": "stream",
     "text": [
      "10_32_rfi.0000_0000  10_32_rfi.0012_0000  10_32_rfi.0024_0000\n",
      "10_32_rfi.0001_0000  10_32_rfi.0013_0000  10_32_rfi.0025_0000\n",
      "10_32_rfi.0002_0000  10_32_rfi.0014_0000  10_32_rfi.0026_0000\n",
      "10_32_rfi.0003_0000  10_32_rfi.0015_0000  10_32_rfi.0027_0000\n",
      "10_32_rfi.0004_0000  10_32_rfi.0016_0000  10_32_rfi.0028_0000\n",
      "10_32_rfi.0005_0000  10_32_rfi.0017_0000  10_32_rfi.0029_0000\n",
      "10_32_rfi.0006_0000  10_32_rfi.0018_0000  10_32_rfi.0030_0000\n",
      "10_32_rfi.0007_0000  10_32_rfi.0019_0000  10_32_rfi.0031_0000\n",
      "10_32_rfi.0008_0000  10_32_rfi.0020_0000  \u001b[0m\u001b[01;34mtemplate\u001b[0m/\n",
      "10_32_rfi.0009_0000  10_32_rfi.0021_0000  \u001b[01;34mtim_files\u001b[0m/\n",
      "10_32_rfi.0010_0000  10_32_rfi.0022_0000\n",
      "10_32_rfi.0011_0000  10_32_rfi.0023_0000\n"
     ]
    }
   ],
   "source": [
    "%ls 10_32_rfi_files/"
   ]
  },
  {
   "cell_type": "code",
   "execution_count": 33,
   "id": "8a6c73b4-e7fe-4fe6-97da-c4c6ed0ae8f5",
   "metadata": {},
   "outputs": [],
   "source": [
    "os.chdir('/home/ega-ninja/Projects/NIUS_Jitter_Project/Analysis/Analysis4.1/')"
   ]
  },
  {
   "cell_type": "code",
   "execution_count": 35,
   "id": "d8cb206e-90a4-472b-a859-9a0ac23cc290",
   "metadata": {},
   "outputs": [],
   "source": [
    "os.chdir('10_64_rfi_files/')"
   ]
  },
  {
   "cell_type": "code",
   "execution_count": 36,
   "id": "5c2701bd-dbbe-4de3-aaac-4419b9671e75",
   "metadata": {},
   "outputs": [],
   "source": [
    "os.chdir('tim_files/')"
   ]
  },
  {
   "cell_type": "code",
   "execution_count": 37,
   "id": "08934df1-7cf3-4cf1-bad3-a2d6148467e8",
   "metadata": {},
   "outputs": [
    {
     "data": {
      "text/plain": [
       "['0034.tim',\n",
       " '0002.tim',\n",
       " '0010.tim',\n",
       " '0048.tim',\n",
       " '0062.tim',\n",
       " '0018.tim',\n",
       " '0011.tim',\n",
       " '0000.tim',\n",
       " '0001.tim',\n",
       " '0055.tim',\n",
       " '0031.tim',\n",
       " '0019.tim',\n",
       " '0012.tim',\n",
       " '0056.tim',\n",
       " '0051.tim',\n",
       " '0059.tim',\n",
       " '0003.tim',\n",
       " '0052.tim',\n",
       " '0015.tim',\n",
       " '0005.tim',\n",
       " '0049.tim',\n",
       " '0013.tim',\n",
       " '0007.tim',\n",
       " '0030.tim',\n",
       " '0028.tim',\n",
       " '0029.tim',\n",
       " '0042.tim',\n",
       " '0039.tim',\n",
       " '0008.tim',\n",
       " '0004.tim',\n",
       " '0033.tim',\n",
       " '0014.tim',\n",
       " '0016.tim',\n",
       " '0041.tim',\n",
       " '0061.tim',\n",
       " '0053.tim',\n",
       " '0026.tim',\n",
       " '0044.tim',\n",
       " '0050.tim',\n",
       " '0054.tim',\n",
       " '0043.tim',\n",
       " '0047.tim',\n",
       " '0032.tim',\n",
       " '0045.tim',\n",
       " '0060.tim',\n",
       " '0035.tim',\n",
       " '0027.tim',\n",
       " '0020.tim',\n",
       " '0038.tim',\n",
       " '0022.tim',\n",
       " '0021.tim',\n",
       " '0036.tim',\n",
       " '0040.tim',\n",
       " '0058.tim',\n",
       " '0025.tim',\n",
       " '0024.tim',\n",
       " '0063.tim',\n",
       " '0023.tim',\n",
       " '0009.tim',\n",
       " '0046.tim',\n",
       " '0057.tim',\n",
       " '0037.tim',\n",
       " '0006.tim',\n",
       " '0017.tim']"
      ]
     },
     "execution_count": 37,
     "metadata": {},
     "output_type": "execute_result"
    }
   ],
   "source": [
    "os.listdir('.')"
   ]
  },
  {
   "cell_type": "code",
   "execution_count": 42,
   "id": "b4537ddc-60d7-46b9-b4dc-55e712d04474",
   "metadata": {},
   "outputs": [
    {
     "name": "stdout",
     "output_type": "stream",
     "text": [
      "10_64_rfi.0000_0000  10_64_rfi.0022_0000  10_64_rfi.0044_0000\n",
      "10_64_rfi.0001_0000  10_64_rfi.0023_0000  10_64_rfi.0045_0000\n",
      "10_64_rfi.0002_0000  10_64_rfi.0024_0000  10_64_rfi.0046_0000\n",
      "10_64_rfi.0003_0000  10_64_rfi.0025_0000  10_64_rfi.0047_0000\n",
      "10_64_rfi.0004_0000  10_64_rfi.0026_0000  10_64_rfi.0048_0000\n",
      "10_64_rfi.0005_0000  10_64_rfi.0027_0000  10_64_rfi.0049_0000\n",
      "10_64_rfi.0006_0000  10_64_rfi.0028_0000  10_64_rfi.0050_0000\n",
      "10_64_rfi.0007_0000  10_64_rfi.0029_0000  10_64_rfi.0051_0000\n",
      "10_64_rfi.0008_0000  10_64_rfi.0030_0000  10_64_rfi.0052_0000\n",
      "10_64_rfi.0009_0000  10_64_rfi.0031_0000  10_64_rfi.0053_0000\n",
      "10_64_rfi.0010_0000  10_64_rfi.0032_0000  10_64_rfi.0054_0000\n",
      "10_64_rfi.0011_0000  10_64_rfi.0033_0000  10_64_rfi.0055_0000\n",
      "10_64_rfi.0012_0000  10_64_rfi.0034_0000  10_64_rfi.0056_0000\n",
      "10_64_rfi.0013_0000  10_64_rfi.0035_0000  10_64_rfi.0057_0000\n",
      "10_64_rfi.0014_0000  10_64_rfi.0036_0000  10_64_rfi.0058_0000\n",
      "10_64_rfi.0015_0000  10_64_rfi.0037_0000  10_64_rfi.0059_0000\n",
      "10_64_rfi.0016_0000  10_64_rfi.0038_0000  10_64_rfi.0060_0000\n",
      "10_64_rfi.0017_0000  10_64_rfi.0039_0000  10_64_rfi.0061_0000\n",
      "10_64_rfi.0018_0000  10_64_rfi.0040_0000  10_64_rfi.0062_0000\n",
      "10_64_rfi.0019_0000  10_64_rfi.0041_0000  10_64_rfi.0063_0000\n",
      "10_64_rfi.0020_0000  10_64_rfi.0042_0000  template\n",
      "10_64_rfi.0021_0000  10_64_rfi.0043_0000  tim_files\n"
     ]
    }
   ],
   "source": [
    "!ls .."
   ]
  },
  {
   "cell_type": "code",
   "execution_count": 48,
   "id": "a4151485-5ee5-45b3-b8cc-403c7c820648",
   "metadata": {},
   "outputs": [],
   "source": [
    "os.chdir('../')"
   ]
  },
  {
   "cell_type": "code",
   "execution_count": 49,
   "id": "635cd5e8-629b-4ce2-a585-53a525860df3",
   "metadata": {},
   "outputs": [
    {
     "name": "stdout",
     "output_type": "stream",
     "text": [
      "10_64_rfi.0000_0000  10_64_rfi.0022_0000  10_64_rfi.0044_0000\n",
      "10_64_rfi.0001_0000  10_64_rfi.0023_0000  10_64_rfi.0045_0000\n",
      "10_64_rfi.0002_0000  10_64_rfi.0024_0000  10_64_rfi.0046_0000\n",
      "10_64_rfi.0003_0000  10_64_rfi.0025_0000  10_64_rfi.0047_0000\n",
      "10_64_rfi.0004_0000  10_64_rfi.0026_0000  10_64_rfi.0048_0000\n",
      "10_64_rfi.0005_0000  10_64_rfi.0027_0000  10_64_rfi.0049_0000\n",
      "10_64_rfi.0006_0000  10_64_rfi.0028_0000  10_64_rfi.0050_0000\n",
      "10_64_rfi.0007_0000  10_64_rfi.0029_0000  10_64_rfi.0051_0000\n",
      "10_64_rfi.0008_0000  10_64_rfi.0030_0000  10_64_rfi.0052_0000\n",
      "10_64_rfi.0009_0000  10_64_rfi.0031_0000  10_64_rfi.0053_0000\n",
      "10_64_rfi.0010_0000  10_64_rfi.0032_0000  10_64_rfi.0054_0000\n",
      "10_64_rfi.0011_0000  10_64_rfi.0033_0000  10_64_rfi.0055_0000\n",
      "10_64_rfi.0012_0000  10_64_rfi.0034_0000  10_64_rfi.0056_0000\n",
      "10_64_rfi.0013_0000  10_64_rfi.0035_0000  10_64_rfi.0057_0000\n",
      "10_64_rfi.0014_0000  10_64_rfi.0036_0000  10_64_rfi.0058_0000\n",
      "10_64_rfi.0015_0000  10_64_rfi.0037_0000  10_64_rfi.0059_0000\n",
      "10_64_rfi.0016_0000  10_64_rfi.0038_0000  10_64_rfi.0060_0000\n",
      "10_64_rfi.0017_0000  10_64_rfi.0039_0000  10_64_rfi.0061_0000\n",
      "10_64_rfi.0018_0000  10_64_rfi.0040_0000  10_64_rfi.0062_0000\n",
      "10_64_rfi.0019_0000  10_64_rfi.0041_0000  10_64_rfi.0063_0000\n",
      "10_64_rfi.0020_0000  10_64_rfi.0042_0000  template\n",
      "10_64_rfi.0021_0000  10_64_rfi.0043_0000  tim_files\n"
     ]
    },
    {
     "data": {
      "text/plain": [
       "9"
      ]
     },
     "execution_count": 49,
     "metadata": {},
     "output_type": "execute_result"
    }
   ],
   "source": [
    "\n",
    "!ls\n",
    "os.path.getsize('tim_files/'+name1)"
   ]
  },
  {
   "cell_type": "code",
   "execution_count": 39,
   "id": "a7946353-40eb-4f70-aeca-bc2718d6cd04",
   "metadata": {},
   "outputs": [
    {
     "name": "stdout",
     "output_type": "stream",
     "text": [
      "849\n",
      "9\n",
      "9\n",
      "849\n",
      "849\n",
      "849\n",
      "9\n",
      "9\n",
      "9\n",
      "849\n",
      "849\n",
      "849\n",
      "9\n",
      "849\n",
      "849\n",
      "849\n",
      "9\n",
      "849\n",
      "9\n",
      "9\n",
      "849\n",
      "9\n",
      "9\n",
      "849\n",
      "849\n",
      "849\n",
      "849\n",
      "849\n",
      "9\n",
      "9\n",
      "849\n",
      "9\n",
      "9\n",
      "849\n",
      "849\n",
      "849\n",
      "849\n",
      "849\n",
      "849\n",
      "849\n",
      "9\n",
      "849\n",
      "849\n",
      "849\n",
      "849\n",
      "849\n",
      "849\n",
      "849\n",
      "849\n",
      "849\n",
      "849\n",
      "849\n",
      "849\n",
      "849\n",
      "849\n",
      "849\n",
      "849\n",
      "849\n",
      "9\n",
      "849\n",
      "849\n",
      "849\n",
      "9\n",
      "849\n"
     ]
    }
   ],
   "source": [
    "for file in os.listdir('.'):\n",
    "    #print(file)\n",
    "    print(os.path.getsize(file))"
   ]
  },
  {
   "cell_type": "code",
   "execution_count": null,
   "id": "0031245b-a1e6-4028-a0ed-8776e6659c2f",
   "metadata": {},
   "outputs": [],
   "source": [
    "channels=32\n",
    "subint=10\n",
    "rfi_clean=True\n",
    "\n",
    "\n",
    "os.chdir('/home/ega-ninja/Projects/NIUS_Jitter_Project/Analysis/Analysis4.1/')\n",
    "#%ls\n",
    "if rfi_clean:\n",
    "    %cd {subint}_{channels}_rfi_files\n",
    "    #%ls\n",
    "else:\n",
    "    !cd {subint}_{channels}_files\n",
    "    #%ls\n",
    "os.chdir('tim_files/')\n",
    "#%ls\n",
    "n=0\n",
    "su1m=0\n",
    "for g in os.listdir('.'):\n",
    "    su1m+=os.path.getsize(g)\n",
    "    n+=1\n",
    "os.chdir('../')\n",
    "dataframe_list=[]\n",
    "channel_list=[]\n",
    "for a in range(channels):\n",
    "\n",
    "    #%ls\n",
    "\n",
    "    name=generate_name_str(subint,channels,a,rfi_cleaned=True)\n",
    "    format=\"tempo2\"\n",
    "    \n",
    "    name1=name+\".tim\"\n",
    "    name2='df'+name\n",
    "    #!pat -s 10_{channels}_rfi_files/template/{k} -f {format} 10_{channels}_rfi_files/{kf} > 10_{channels}_rfi_files/tim_files/{tim}\n",
    "    #%capture\n",
    "    \n",
    "    if os.path.getsize('tim_files/'+name1) < su1m/n :\n",
    "        continue\n",
    "    else:\n",
    "        #%%capture\n",
    "        !tempo2 -f ../J1645-0317_long.par tim_files/{name1} -fit F0 -residuals -noWarnings\n",
    "        globals()[name2]= pd.read_csv('residuals.dat', sep='\\s+', header=None)\n",
    "        # Rename the columns for clarity\n",
    "        globals()[name2].columns = ['MJD_subint', 'residual', 'TOA_error']\n",
    "        dataframe_list.append(globals()[name2])\n",
    "        name3=str(subint) + '_'+ str(channels)+'_rfi.' + name + '_0000'\n",
    "        archive=psrchive.Archive_load(name3)\n",
    "        channel_list.append(archive.get_centre_frequency())\n",
    "        #print(globals()[name2])  "
   ]
  },
  {
   "cell_type": "code",
   "execution_count": 72,
   "id": "74ff1695-a05e-4f01-bd01-7ccd38c17342",
   "metadata": {},
   "outputs": [
    {
     "name": "stderr",
     "output_type": "stream",
     "text": [
      "Unrecognized telescope code (GMRT)\n"
     ]
    }
   ],
   "source": [
    "a1=psrchive.Archive_load('10_32_rfi.0000_0000')"
   ]
  },
  {
   "cell_type": "code",
   "execution_count": 73,
   "id": "d256493e-1258-4459-a073-c0454540971e",
   "metadata": {},
   "outputs": [
    {
     "data": {
      "text/plain": [
       "496.899"
      ]
     },
     "execution_count": 73,
     "metadata": {},
     "output_type": "execute_result"
    }
   ],
   "source": [
    "a1.get_centre_frequency()"
   ]
  },
  {
   "cell_type": "code",
   "execution_count": 71,
   "id": "3299a7e4-87eb-4e4e-b3f2-bdb4a11afe4f",
   "metadata": {},
   "outputs": [
    {
     "name": "stdout",
     "output_type": "stream",
     "text": [
      "    MJD_subint  residual  TOA_error\n",
      "0  12549.71864 -0.000020   0.000001\n",
      "1  12549.72096  0.000014   0.000001\n",
      "2  12549.72327  0.000024   0.000002\n",
      "3  12549.72559 -0.000038   0.000002\n",
      "4  12549.72790  0.000030   0.000002\n",
      "5  12549.73021 -0.000015   0.000002\n",
      "6  12549.73253  0.000045   0.000001\n",
      "7  12549.73484 -0.000035   0.000002\n",
      "8  12549.73716 -0.000025   0.000002\n",
      "9  12549.73948  0.000020   0.000002\n"
     ]
    }
   ],
   "source": [
    "print(df0011)"
   ]
  },
  {
   "cell_type": "code",
   "execution_count": null,
   "id": "2c388d6f-5899-4a35-9925-7c3d7e79c1a3",
   "metadata": {},
   "outputs": [],
   "source": []
  },
  {
   "cell_type": "code",
   "execution_count": 108,
   "id": "eed7d669-04ae-4ad3-9d61-6e483c50f2a3",
   "metadata": {},
   "outputs": [
    {
     "data": {
      "text/plain": [
       "24"
      ]
     },
     "execution_count": 108,
     "metadata": {},
     "output_type": "execute_result"
    }
   ],
   "source": [
    "#print(dataframe_list)\n",
    "len(channel_list)"
   ]
  },
  {
   "cell_type": "code",
   "execution_count": 3,
   "id": "284393dd-6a16-4fc6-a940-b853c2e4bf63",
   "metadata": {},
   "outputs": [],
   "source": [
    "def generate_name_str(subints, channels,i,rfi_cleaned=True):\n",
    "    i=str(i)\n",
    "    if len(i)==1:\n",
    "        i='000'+i\n",
    "    elif len(i)==2:\n",
    "        i='00'+i\n",
    "    elif len(i)==3:\n",
    "        i='0'+i\n",
    "    #k='1_'+str(channels)+'_rfi.'+i+'_0000.sm'\n",
    "    #kf = str(subints) + '_'+ str(channels)+'_rfi.' + i + '_0000'\n",
    "    #tim=i+'.tim'\n",
    "    return i"
   ]
  },
  {
   "cell_type": "code",
   "execution_count": 11,
   "id": "221dad34-94b9-45a4-b92c-73e1220e0551",
   "metadata": {},
   "outputs": [
    {
     "name": "stdout",
     "output_type": "stream",
     "text": [
      "10_128_rfi         10_64_rfi         1_1_rfi.sm   1_8_rfi.sm\n",
      "\u001b[0m\u001b[01;34m10_128_rfi_files\u001b[0m/  \u001b[01;34m10_64_rfi_files\u001b[0m/  1_2_rfi      500_16_rfi\n",
      "10_16_rfi          10_8_rfi          1_2_rfi.sm   500_1_rfi\n",
      "\u001b[01;34m10_16_rfi_files\u001b[0m/   \u001b[01;34m10_8_rfi_files\u001b[0m/   1_32_rfi     500_512_rfi\n",
      "10_2_rfi           1_128_rfi         1_32_rfi.sm  500_8_rfi\n",
      "\u001b[01;34m10_2_rfi_files\u001b[0m/    1_128_rfi.sm      1_512_rfi    \u001b[01;34m500_8_rfi_files\u001b[0m/\n",
      "10_32_rfi          1_16_rfi          1_64_rfi     J1645-0317_long.par\n",
      "\u001b[01;34m10_32_rfi_files\u001b[0m/   1_16_rfi.sm       1_64_rfi.sm\n",
      "10_512_rfi         1_1_rfi           1_8_rfi\n"
     ]
    }
   ],
   "source": [
    "%ls .."
   ]
  },
  {
   "cell_type": "code",
   "execution_count": 23,
   "id": "67de6422-d05d-4aac-bedb-d660e4af8c42",
   "metadata": {},
   "outputs": [
    {
     "name": "stdout",
     "output_type": "stream",
     "text": [
      "/home/ega-ninja/Projects/NIUS_Jitter_Project/Analysis/Analysis4.1/10_16_rfi_files\n",
      "10_16_chan10.tim     10_16_rfi.0002_0000    1_16_rfi.0001_0000.sm\n",
      "10_16_chan11.tim     10_16_rfi.0003_0000    1_16_rfi.0002_0000.sm\n",
      "10_16_chan12.tim     10_16_rfi.0004_0000    1_16_rfi.0003_0000.sm\n",
      "10_16_chan13.tim     10_16_rfi.0005_0000    1_16_rfi.0004_0000.sm\n",
      "10_16_chan14.tim     10_16_rfi.0006_0000    1_16_rfi.0005_0000.sm\n",
      "10_16_chan15.tim     10_16_rfi.0007_0000    1_16_rfi.0006_0000.sm\n",
      "10_16_chan16.tim     10_16_rfi.0008_0000    1_16_rfi.0007_0000.sm\n",
      "10_16_chan1.tim      10_16_rfi.0009_0000    1_16_rfi.0008_0000.sm\n",
      "10_16_chan2.tim      10_16_rfi.0010_0000    1_16_rfi.0009_0000.sm\n",
      "10_16_chan3.tim      10_16_rfi.0011_0000    1_16_rfi.0010_0000.sm\n",
      "10_16_chan4.tim      10_16_rfi.0012_0000    1_16_rfi.0011_0000.sm\n",
      "10_16_chan5.tim      10_16_rfi.0013_0000    1_16_rfi.0012_0000.sm\n",
      "10_16_chan6.tim      10_16_rfi.0014_0000    1_16_rfi.0013_0000.sm\n",
      "10_16_chan7.tim      10_16_rfi.0015_0000    1_16_rfi.0014_0000.sm\n",
      "10_16_chan8.tim      10_16_rfi_0.6827.csv   1_16_rfi.0015_0000.sm\n",
      "10_16_chan9.tim      \u001b[0m\u001b[01;35m10_16_rfi_0.6827.png\u001b[0m   residuals.dat\n",
      "10_16_rfi.0000_0000  10_16_tim.txt\n",
      "10_16_rfi.0001_0000  1_16_rfi.0000_0000.sm\n",
      "    MJD_subint  residual  TOA_error\n",
      "0  12549.71864 -0.000005   0.000002\n",
      "1  12549.72096  0.000006   0.000001\n",
      "2  12549.72327  0.000019   0.000002\n",
      "3  12549.72559 -0.000022   0.000001\n",
      "4  12549.72790  0.000019   0.000002\n",
      "5  12549.73021 -0.000024   0.000001\n",
      "6  12549.73253  0.000041   0.000001\n",
      "7  12549.73484 -0.000063   0.000002\n",
      "8  12549.73716 -0.000008   0.000002\n",
      "9  12549.73948  0.000035   0.000003\n"
     ]
    },
    {
     "name": "stderr",
     "output_type": "stream",
     "text": [
      "<>:3: SyntaxWarning: invalid escape sequence '\\s'\n",
      "<>:3: SyntaxWarning: invalid escape sequence '\\s'\n",
      "/tmp/ipykernel_2919/952019256.py:3: SyntaxWarning: invalid escape sequence '\\s'\n",
      "  df = pd.read_csv('residuals.dat', sep='\\s+', header=None)\n"
     ]
    }
   ],
   "source": [
    "%cd ../10_16_rfi_files/\n",
    "%ls\n",
    "df = pd.read_csv('residuals.dat', sep='\\s+', header=None)\n",
    "# Rename the columns for clarity\n",
    "df.columns = ['MJD_subint', 'residual', 'TOA_error']\n",
    "print(df)"
   ]
  },
  {
   "cell_type": "code",
   "execution_count": 4,
   "id": "456ac959-f6b9-43fd-b33a-1d2af1bf8840",
   "metadata": {},
   "outputs": [
    {
     "data": {
      "text/plain": [
       "-2"
      ]
     },
     "execution_count": 4,
     "metadata": {},
     "output_type": "execute_result"
    }
   ],
   "source": [
    "-5+6+19-22+19-24+41-63-8+35"
   ]
  },
  {
   "cell_type": "code",
   "execution_count": 19,
   "id": "a38f719a-0fed-45d3-964a-217fc1016cbc",
   "metadata": {},
   "outputs": [],
   "source": [
    "df1=pd.concat([df,df],ignore_index=True)"
   ]
  },
  {
   "cell_type": "code",
   "execution_count": 20,
   "id": "6967da2d-f53e-43a0-b652-2d07809e48c4",
   "metadata": {},
   "outputs": [
    {
     "data": {
      "text/html": [
       "<div>\n",
       "<style scoped>\n",
       "    .dataframe tbody tr th:only-of-type {\n",
       "        vertical-align: middle;\n",
       "    }\n",
       "\n",
       "    .dataframe tbody tr th {\n",
       "        vertical-align: top;\n",
       "    }\n",
       "\n",
       "    .dataframe thead th {\n",
       "        text-align: right;\n",
       "    }\n",
       "</style>\n",
       "<table border=\"1\" class=\"dataframe\">\n",
       "  <thead>\n",
       "    <tr style=\"text-align: right;\">\n",
       "      <th></th>\n",
       "      <th>MJD_subint</th>\n",
       "      <th>residual</th>\n",
       "      <th>TOA_error</th>\n",
       "    </tr>\n",
       "  </thead>\n",
       "  <tbody>\n",
       "    <tr>\n",
       "      <th>0</th>\n",
       "      <td>12549.71864</td>\n",
       "      <td>-0.000005</td>\n",
       "      <td>0.000002</td>\n",
       "    </tr>\n",
       "    <tr>\n",
       "      <th>1</th>\n",
       "      <td>12549.72096</td>\n",
       "      <td>0.000006</td>\n",
       "      <td>0.000001</td>\n",
       "    </tr>\n",
       "    <tr>\n",
       "      <th>2</th>\n",
       "      <td>12549.72327</td>\n",
       "      <td>0.000019</td>\n",
       "      <td>0.000002</td>\n",
       "    </tr>\n",
       "    <tr>\n",
       "      <th>3</th>\n",
       "      <td>12549.72559</td>\n",
       "      <td>-0.000022</td>\n",
       "      <td>0.000001</td>\n",
       "    </tr>\n",
       "    <tr>\n",
       "      <th>4</th>\n",
       "      <td>12549.72790</td>\n",
       "      <td>0.000019</td>\n",
       "      <td>0.000002</td>\n",
       "    </tr>\n",
       "    <tr>\n",
       "      <th>5</th>\n",
       "      <td>12549.73021</td>\n",
       "      <td>-0.000024</td>\n",
       "      <td>0.000001</td>\n",
       "    </tr>\n",
       "    <tr>\n",
       "      <th>6</th>\n",
       "      <td>12549.73253</td>\n",
       "      <td>0.000041</td>\n",
       "      <td>0.000001</td>\n",
       "    </tr>\n",
       "    <tr>\n",
       "      <th>7</th>\n",
       "      <td>12549.73484</td>\n",
       "      <td>-0.000063</td>\n",
       "      <td>0.000002</td>\n",
       "    </tr>\n",
       "    <tr>\n",
       "      <th>8</th>\n",
       "      <td>12549.73716</td>\n",
       "      <td>-0.000008</td>\n",
       "      <td>0.000002</td>\n",
       "    </tr>\n",
       "    <tr>\n",
       "      <th>9</th>\n",
       "      <td>12549.73948</td>\n",
       "      <td>0.000035</td>\n",
       "      <td>0.000003</td>\n",
       "    </tr>\n",
       "    <tr>\n",
       "      <th>10</th>\n",
       "      <td>12549.71864</td>\n",
       "      <td>-0.000005</td>\n",
       "      <td>0.000002</td>\n",
       "    </tr>\n",
       "    <tr>\n",
       "      <th>11</th>\n",
       "      <td>12549.72096</td>\n",
       "      <td>0.000006</td>\n",
       "      <td>0.000001</td>\n",
       "    </tr>\n",
       "    <tr>\n",
       "      <th>12</th>\n",
       "      <td>12549.72327</td>\n",
       "      <td>0.000019</td>\n",
       "      <td>0.000002</td>\n",
       "    </tr>\n",
       "    <tr>\n",
       "      <th>13</th>\n",
       "      <td>12549.72559</td>\n",
       "      <td>-0.000022</td>\n",
       "      <td>0.000001</td>\n",
       "    </tr>\n",
       "    <tr>\n",
       "      <th>14</th>\n",
       "      <td>12549.72790</td>\n",
       "      <td>0.000019</td>\n",
       "      <td>0.000002</td>\n",
       "    </tr>\n",
       "    <tr>\n",
       "      <th>15</th>\n",
       "      <td>12549.73021</td>\n",
       "      <td>-0.000024</td>\n",
       "      <td>0.000001</td>\n",
       "    </tr>\n",
       "    <tr>\n",
       "      <th>16</th>\n",
       "      <td>12549.73253</td>\n",
       "      <td>0.000041</td>\n",
       "      <td>0.000001</td>\n",
       "    </tr>\n",
       "    <tr>\n",
       "      <th>17</th>\n",
       "      <td>12549.73484</td>\n",
       "      <td>-0.000063</td>\n",
       "      <td>0.000002</td>\n",
       "    </tr>\n",
       "    <tr>\n",
       "      <th>18</th>\n",
       "      <td>12549.73716</td>\n",
       "      <td>-0.000008</td>\n",
       "      <td>0.000002</td>\n",
       "    </tr>\n",
       "    <tr>\n",
       "      <th>19</th>\n",
       "      <td>12549.73948</td>\n",
       "      <td>0.000035</td>\n",
       "      <td>0.000003</td>\n",
       "    </tr>\n",
       "  </tbody>\n",
       "</table>\n",
       "</div>"
      ],
      "text/plain": [
       "     MJD_subint  residual  TOA_error\n",
       "0   12549.71864 -0.000005   0.000002\n",
       "1   12549.72096  0.000006   0.000001\n",
       "2   12549.72327  0.000019   0.000002\n",
       "3   12549.72559 -0.000022   0.000001\n",
       "4   12549.72790  0.000019   0.000002\n",
       "5   12549.73021 -0.000024   0.000001\n",
       "6   12549.73253  0.000041   0.000001\n",
       "7   12549.73484 -0.000063   0.000002\n",
       "8   12549.73716 -0.000008   0.000002\n",
       "9   12549.73948  0.000035   0.000003\n",
       "10  12549.71864 -0.000005   0.000002\n",
       "11  12549.72096  0.000006   0.000001\n",
       "12  12549.72327  0.000019   0.000002\n",
       "13  12549.72559 -0.000022   0.000001\n",
       "14  12549.72790  0.000019   0.000002\n",
       "15  12549.73021 -0.000024   0.000001\n",
       "16  12549.73253  0.000041   0.000001\n",
       "17  12549.73484 -0.000063   0.000002\n",
       "18  12549.73716 -0.000008   0.000002\n",
       "19  12549.73948  0.000035   0.000003"
      ]
     },
     "execution_count": 20,
     "metadata": {},
     "output_type": "execute_result"
    }
   ],
   "source": [
    "df1"
   ]
  },
  {
   "cell_type": "code",
   "execution_count": null,
   "id": "2ae529f4-8921-42c9-8272-c9bb1411090c",
   "metadata": {},
   "outputs": [],
   "source": []
  },
  {
   "cell_type": "code",
   "execution_count": null,
   "id": "6dd5dbfb-fa7f-4bdf-98bb-96e9bb223599",
   "metadata": {},
   "outputs": [],
   "source": []
  },
  {
   "cell_type": "code",
   "execution_count": null,
   "id": "927adf73-be0d-4b0e-a1ed-ed2490b74e79",
   "metadata": {},
   "outputs": [],
   "source": []
  },
  {
   "cell_type": "code",
   "execution_count": null,
   "id": "0214725a-26b9-44eb-b099-fbc6106653d0",
   "metadata": {},
   "outputs": [],
   "source": []
  },
  {
   "cell_type": "code",
   "execution_count": null,
   "id": "452d0fb4-62f0-4d3e-a612-9a38fb9a7824",
   "metadata": {},
   "outputs": [],
   "source": []
  },
  {
   "cell_type": "code",
   "execution_count": null,
   "id": "257cab8c-50d3-4ae3-b0ba-78d130242c12",
   "metadata": {},
   "outputs": [],
   "source": []
  },
  {
   "cell_type": "code",
   "execution_count": null,
   "id": "bc245df6-b79c-429d-b6fc-11b0cb319cbc",
   "metadata": {},
   "outputs": [],
   "source": []
  },
  {
   "cell_type": "code",
   "execution_count": null,
   "id": "a91728d1-1fae-4b92-bd51-5063cca3a633",
   "metadata": {},
   "outputs": [],
   "source": []
  },
  {
   "cell_type": "code",
   "execution_count": 91,
   "id": "2cab0205-13ed-448e-93a6-1c4627b139da",
   "metadata": {},
   "outputs": [],
   "source": [
    "def tim_files(nchan,template_path,psrfits_path,rfi_cleaned=True):\n",
    "    #'This function takes in larger PSRfits file and splits it into different PSRfits file containing 1 channel each'\n",
    "    tim_files='tim_files'\n",
    "    split_files='split_files'\n",
    "    archive=psrchive.Archive_load(psrfits_path)\n",
    "    subints=archive.get_nsubint()\n",
    "    channels=archive.get_nchan()\n",
    "    dir_name=str(subints)+'_'+str(channels)\n",
    "    if rfi_cleaned is True:\n",
    "        dir_name+='_rfi_cleaned'\n",
    "        os.makedirs(dir_name,exist_ok=True)\n",
    "    else:\n",
    "        os.makedirs(dir_name,exist_ok=True)\n",
    "    os.chdir(dir_name)\n",
    "    os.makedirs(tim_files,exist_ok=True)\n",
    "    os.makedirs(split_files,exist_ok=True)\n",
    "    output_var=split_files\n",
    "    ! echo {psrfits_path}\n",
    "    ! echo {split_files}\n",
    "    split_command = f\"psrsplit -c {nchan} ../{psrfits_path} -O {split_files_dir}/ \"\n",
    "    \n",
    "    os.chdir('..')"
   ]
  },
  {
   "cell_type": "code",
   "execution_count": 3,
   "id": "0c001094-872e-4942-b95a-a26345e04581",
   "metadata": {},
   "outputs": [
    {
     "name": "stderr",
     "output_type": "stream",
     "text": [
      "Unrecognized telescope code (GMRT)\n"
     ]
    }
   ],
   "source": [
    "archtest=psrchive.Archive_load(\"../Analysis4.1/10_8_rfi_files/10_8_rfi.0001_0000\")"
   ]
  },
  {
   "cell_type": "code",
   "execution_count": 4,
   "id": "cec66ae5-4bd5-4754-b49d-bb1166c53910",
   "metadata": {},
   "outputs": [
    {
     "data": {
      "text/plain": [
       "10"
      ]
     },
     "execution_count": 4,
     "metadata": {},
     "output_type": "execute_result"
    }
   ],
   "source": [
    "archtest.get_nchan()"
   ]
  },
  {
   "cell_type": "code",
   "execution_count": 11,
   "id": "a909cdc4-a315-4344-a581-d5250b698565",
   "metadata": {},
   "outputs": [],
   "source": [
    "!mkdir script_test_dir"
   ]
  },
  {
   "cell_type": "code",
   "execution_count": 54,
   "id": "0a9f2eec-9ba7-4b26-b22e-48f01f488819",
   "metadata": {},
   "outputs": [
    {
     "name": "stdout",
     "output_type": "stream",
     "text": [
      "10_8_rfi  10_8_rfi_cleaned\n"
     ]
    }
   ],
   "source": [
    "!ls"
   ]
  },
  {
   "cell_type": "code",
   "execution_count": 38,
   "id": "5a2674ac-d255-475d-9972-b076e5a9638d",
   "metadata": {},
   "outputs": [],
   "source": [
    "os.chdir('..')"
   ]
  },
  {
   "cell_type": "code",
   "execution_count": 73,
   "id": "fd530d0a-45b0-4f46-b5dd-a5df5eff2e9f",
   "metadata": {},
   "outputs": [
    {
     "data": {
      "text/plain": [
       "['10_8_rfi_cleaned', '10_8_rfi']"
      ]
     },
     "execution_count": 73,
     "metadata": {},
     "output_type": "execute_result"
    }
   ],
   "source": [
    "os.listdir()\n"
   ]
  },
  {
   "cell_type": "code",
   "execution_count": 85,
   "id": "7474d3d3-5f0e-44fb-917f-c66bb2273750",
   "metadata": {},
   "outputs": [
    {
     "name": "stdout",
     "output_type": "stream",
     "text": [
      "10_8_rfi  10_8_rfi_cleaned\n"
     ]
    }
   ],
   "source": [
    "!ls"
   ]
  },
  {
   "cell_type": "code",
   "execution_count": 74,
   "id": "fbb65d9a-8e7e-4e5e-8865-426a29b17955",
   "metadata": {},
   "outputs": [],
   "source": [
    "! rm -rf 10_8_rfi_cleaned"
   ]
  },
  {
   "cell_type": "code",
   "execution_count": 75,
   "id": "2825d146-1342-4a1a-843b-78ec53c351d0",
   "metadata": {},
   "outputs": [
    {
     "name": "stdout",
     "output_type": "stream",
     "text": [
      "10_8_rfi\n"
     ]
    }
   ],
   "source": [
    "!ls"
   ]
  },
  {
   "cell_type": "code",
   "execution_count": 95,
   "id": "548b7f85-d807-4e10-806c-5c9aea491845",
   "metadata": {},
   "outputs": [
    {
     "name": "stdout",
     "output_type": "stream",
     "text": [
      "Running command: psrsplit -c 4 ../10_8_rfi -O split_files/ -e\n",
      "psrsplit command completed successfully. Output:\n",
      "\n",
      "Completed splitting PSRFITS file: 10_8_rfi\n",
      "Sub-integrations: 10\n",
      "Channels: 8\n",
      "Output directory: 10_8_rfi_cleaned\n",
      "TIM files directory: tim_files\n",
      "Split files directory: split_files\n"
     ]
    }
   ],
   "source": [
    "tim_files(4,'10_8_rfi','10_8_rfi',rfi_cleaned=True)"
   ]
  },
  {
   "cell_type": "code",
   "execution_count": 96,
   "id": "416d5147-c9e8-4ae3-a2e3-05f35b1bb1a9",
   "metadata": {},
   "outputs": [
    {
     "name": "stdout",
     "output_type": "stream",
     "text": [
      "10_8_rfi  10_8_rfi_cleaned\n"
     ]
    }
   ],
   "source": []
  },
  {
   "cell_type": "code",
   "execution_count": 80,
   "id": "5b7c5028-d0bc-4578-99ff-a206a8034347",
   "metadata": {},
   "outputs": [
    {
     "name": "stdout",
     "output_type": "stream",
     "text": [
      "Unrecognized telescope code (GMRT)\n",
      "psrsplit::process 10_8_rfi\n",
      "psrsplit: extracting 0 1 2 3 4 5 6 7 8 9\n",
      "psrsplit: writing 10_8_rfi_cleaned/split_files//10_8_rfi.0000_0000\n",
      "psrsplit: writing 10_8_rfi_cleaned/split_files//10_8_rfi.0001_0000\n"
     ]
    }
   ],
   "source": [
    "! psrsplit -c 4 10_8_rfi -O 10_8_rfi_cleaned/split_files/"
   ]
  },
  {
   "cell_type": "code",
   "execution_count": null,
   "id": "7f6608ca-e2c6-4e1f-8772-1e59cfc8a180",
   "metadata": {},
   "outputs": [],
   "source": []
  },
  {
   "cell_type": "code",
   "execution_count": 90,
   "id": "57a35568-21d1-415e-8925-40dfa9cef4a5",
   "metadata": {},
   "outputs": [
    {
     "ename": "TypeError",
     "evalue": "makedirs() missing 1 required positional argument: 'name'",
     "output_type": "error",
     "traceback": [
      "\u001b[0;31m---------------------------------------------------------------------------\u001b[0m",
      "\u001b[0;31mTypeError\u001b[0m                                 Traceback (most recent call last)",
      "Cell \u001b[0;32mIn[90], line 1\u001b[0m\n\u001b[0;32m----> 1\u001b[0m \u001b[43mos\u001b[49m\u001b[38;5;241;43m.\u001b[39;49m\u001b[43mmakedirs\u001b[49m\u001b[43m(\u001b[49m\u001b[43m)\u001b[49m\n",
      "\u001b[0;31mTypeError\u001b[0m: makedirs() missing 1 required positional argument: 'name'"
     ]
    }
   ],
   "source": [
    "os.makedirs()"
   ]
  },
  {
   "cell_type": "code",
   "execution_count": 94,
   "id": "98fc7b1d-cd6b-40c9-a1dd-a36b22ef8283",
   "metadata": {},
   "outputs": [],
   "source": [
    "import os\n",
    "import subprocess\n",
    "import psrchive\n",
    "\n",
    "def tim_files(nchan, template_path, psrfits_path, rfi_cleaned=True):\n",
    "    \"\"\"\n",
    "    This function takes in a larger PSRFITS file and splits it into different PSRFITS files containing 1 channel each.\n",
    "    \n",
    "    Parameters:\n",
    "    - nchan: Number of channels\n",
    "    - template_path: Path to the template file (not used in the current implementation but kept for future use)\n",
    "    - psrfits_path: Path to the input PSRFITS file\n",
    "    - rfi_cleaned: Boolean flag to indicate if the data is RFI cleaned (default: True)\n",
    "    \"\"\"\n",
    "    \n",
    "    tim_files_dir = 'tim_files'\n",
    "    split_files_dir = 'split_files'\n",
    "    \n",
    "    # Load the archive\n",
    "    archive = psrchive.Archive_load(psrfits_path)\n",
    "    subints = archive.get_nsubint()\n",
    "    channels = archive.get_nchan()\n",
    "    \n",
    "    # Construct directory name\n",
    "    dir_name = f\"{subints}_{channels}\"\n",
    "    if rfi_cleaned:\n",
    "        dir_name += '_rfi_cleaned'\n",
    "    \n",
    "    # Create the main directory\n",
    "    os.makedirs(dir_name, exist_ok=True)\n",
    "    \n",
    "    # Change to the new directory\n",
    "    os.chdir(dir_name)\n",
    "    \n",
    "    # Create subdirectories\n",
    "    os.makedirs(tim_files_dir, exist_ok=True)\n",
    "    os.makedirs(split_files_dir, exist_ok=True)\n",
    "    \n",
    "    # Run the psrsplit command to split the file by channel\n",
    "    split_command = f\"psrsplit -c {nchan} ../{psrfits_path} -O {split_files_dir}/ -e\"\n",
    "    print(f\"Running command: {split_command}\")\n",
    "    result = subprocess.run(split_command, shell=True, capture_output=True, text=True)\n",
    "    \n",
    "    if result.returncode != 0:\n",
    "        print(f\"Error: psrsplit command failed with error:\\n{result.stderr}\")\n",
    "    else:\n",
    "        print(f\"psrsplit command completed successfully. Output:\\n{result.stdout}\")\n",
    "    \n",
    "    # Change back to the original directory\n",
    "    os.chdir('..')\n",
    "    \n",
    "    # Debugging information\n",
    "    print(f\"Completed splitting PSRFITS file: {psrfits_path}\")\n",
    "    print(f\"Sub-integrations: {subints}\")\n",
    "    print(f\"Channels: {channels}\")\n",
    "    print(f\"Output directory: {dir_name}\")\n",
    "    print(f\"TIM files directory: {tim_files_dir}\")\n",
    "    print(f\"Split files directory: {split_files_dir}\")\n",
    "\n",
    "# Example usage:\n",
    "# tim_files(nchan=1, template_path='path_to_template', psrfits_path='path_to_psrfits', rfi_cleaned=True)\n"
   ]
  },
  {
   "cell_type": "code",
   "execution_count": null,
   "id": "63bd9515-7e6b-40d8-8d3b-66f8ee7cacf3",
   "metadata": {},
   "outputs": [],
   "source": []
  },
  {
   "cell_type": "code",
   "execution_count": null,
   "id": "31753e60-4234-4db7-abb0-c63d8d4989ee",
   "metadata": {},
   "outputs": [],
   "source": []
  },
  {
   "cell_type": "code",
   "execution_count": null,
   "id": "cf8f2c74-650f-4820-8bce-690763354fe5",
   "metadata": {},
   "outputs": [],
   "source": []
  },
  {
   "cell_type": "code",
   "execution_count": null,
   "id": "18481ea1-0a1e-4a7e-aa3d-aaa6585fb1d4",
   "metadata": {},
   "outputs": [],
   "source": []
  },
  {
   "cell_type": "code",
   "execution_count": 93,
   "id": "7de23244-c5c7-4c41-94d0-1f0fd5bcd96a",
   "metadata": {},
   "outputs": [
    {
     "name": "stderr",
     "output_type": "stream",
     "text": [
      "<>:2: SyntaxWarning: invalid escape sequence '\\s'\n",
      "<>:2: SyntaxWarning: invalid escape sequence '\\s'\n",
      "/tmp/ipykernel_227122/4017819306.py:2: SyntaxWarning: invalid escape sequence '\\s'\n",
      "  df = pd.read_csv('../Analysis4.1/10_8_rfi_files/tempo_output.txt', sep='\\s+', header=None)\n"
     ]
    }
   ],
   "source": [
    "# Read the text file into a DataFrame\n",
    "df = pd.read_csv('../Analysis4.1/10_8_rfi_files/tempo_output.txt', sep='\\s+', header=None)\n",
    "# Rename the columns for clarity\n",
    "df.columns = ['MJD_subint', 'residual', 'TOA_error']\n",
    "# Create a dictionary to store the last two columns of each channel\n",
    "channels_data = {}"
   ]
  },
  {
   "cell_type": "code",
   "execution_count": 94,
   "id": "5fb890bd-eee1-4881-8549-886c8406b2c3",
   "metadata": {},
   "outputs": [
    {
     "data": {
      "text/plain": [
       "(60, 3)"
      ]
     },
     "execution_count": 94,
     "metadata": {},
     "output_type": "execute_result"
    }
   ],
   "source": [
    "df.shape"
   ]
  },
  {
   "cell_type": "code",
   "execution_count": 4,
   "id": "f0750521-07c9-4637-8c64-90f73935f73f",
   "metadata": {},
   "outputs": [],
   "source": [
    "# df[(df.residual)**2 < df.TOA_error**2]"
   ]
  },
  {
   "cell_type": "code",
   "execution_count": 95,
   "id": "6a42416a-23fc-4dc3-abcb-1d91e9130a6c",
   "metadata": {},
   "outputs": [],
   "source": [
    "df1=df.iloc[0:10,:]\n",
    "df2=df.iloc[10:20,:]\n",
    "df3=df.iloc[20:30,:]\n",
    "df4=df.iloc[30:40,:]\n",
    "df5=df.iloc[40:50,:]\n",
    "df6=df.iloc[50:60,:]\n",
    "#df7=df.iloc[60:70,:]\n",
    "#df8=df.iloc[70:80,:]\n",
    "#df9=df.iloc[80:90,:]\n",
    "#df10=df.iloc[90:100,:]\n",
    "#df11=df.iloc[100:110,:]\n",
    "#df12=df.iloc[110:120,:]\n",
    "#df8=df.iloc[70:80,:]\n",
    "#df8=df.iloc[70:80,:]\n",
    "#df8=df.iloc[70:80,:]"
   ]
  },
  {
   "cell_type": "code",
   "execution_count": 96,
   "id": "52e93a4b-a9ea-43c8-9624-f2c29082a358",
   "metadata": {},
   "outputs": [
    {
     "data": {
      "text/plain": [
       "(10, 3)"
      ]
     },
     "execution_count": 96,
     "metadata": {},
     "output_type": "execute_result"
    }
   ],
   "source": [
    "df1.shape # these are the residuals and TOA_error bars in the "
   ]
  },
  {
   "cell_type": "code",
   "execution_count": 42,
   "id": "e788c1f3-efd3-4218-a646-a3671b0b26ed",
   "metadata": {},
   "outputs": [
    {
     "name": "stderr",
     "output_type": "stream",
     "text": [
      "Unrecognized telescope code (GMRT)\n"
     ]
    }
   ],
   "source": [
    "test_arch=psrchive.Archive_load(\"../Analysis4.1/10_16_rfi_files/1_16_rfi.0015_0000.sm\")"
   ]
  },
  {
   "cell_type": "code",
   "execution_count": 43,
   "id": "9fb1f602-9ab4-4110-9e01-25ab200d2b2c",
   "metadata": {},
   "outputs": [
    {
     "data": {
      "text/plain": [
       "array([306.33])"
      ]
     },
     "execution_count": 43,
     "metadata": {},
     "output_type": "execute_result"
    }
   ],
   "source": [
    "test_arch.get_frequencies()"
   ]
  },
  {
   "cell_type": "code",
   "execution_count": 97,
   "id": "db9c3a62-5c11-4ecb-bac2-797517696ef9",
   "metadata": {},
   "outputs": [],
   "source": [
    "test_arch2=psrchive.Archive_load(\"../Analysis4.1/10_8_rfi\")"
   ]
  },
  {
   "cell_type": "code",
   "execution_count": 98,
   "id": "c35665eb-5ab6-4a70-9a0d-edc5ddba2ebe",
   "metadata": {},
   "outputs": [],
   "source": [
    "channels=test_arch2.get_frequencies()[::-1]"
   ]
  },
  {
   "cell_type": "code",
   "execution_count": 99,
   "id": "7d8c82d5-fa87-4fc2-9ef3-70c099bb2731",
   "metadata": {},
   "outputs": [
    {
     "data": {
      "text/plain": [
       "array([312.278, 337.399, 362.055, 387.488, 413.064, 434.528])"
      ]
     },
     "execution_count": 99,
     "metadata": {},
     "output_type": "execute_result"
    }
   ],
   "source": [
    "channels[:-2]"
   ]
  },
  {
   "cell_type": "code",
   "execution_count": 5,
   "id": "cb48ea11-dd66-4ecb-85a7-1e5c0211a02f",
   "metadata": {},
   "outputs": [],
   "source": [
    "List_df=dataframe_list#[df1,df2,df3,df4,df5,df6]\n",
    "channel=channel_list#channels[:-2]"
   ]
  },
  {
   "cell_type": "code",
   "execution_count": 6,
   "id": "1f0b2c83-03cc-46c4-a126-af0874a21563",
   "metadata": {},
   "outputs": [],
   "source": [
    "def chi2_conf_interval(data,confidence_level):\n",
    "    sample_size = np.size(data)\n",
    "    df= sample_size\n",
    "    alpha = 1 - confidence_level\n",
    "    critical_value_lower = chi2.ppf(alpha / 2, df)\n",
    "    critical_value_upper = chi2.ppf(1 - alpha / 2, df)\n",
    "\n",
    "    w_n = sum([a**2 for a in data])\n",
    "    \n",
    "    #margin_of_error = chi2.ppf((1 + confidence_level) / 2, df)\n",
    "    #print(margin_of_error)\n",
    "    # Assuming you have a sample mean and standard deviation\n",
    "    \n",
    "    #sample_mean = np.mean(data)\n",
    "    #sample_std =  np.std(data)\n",
    "    \n",
    "\n",
    "    # Calculate the confidence interval\n",
    "    #lower_bound = sample_mean - (margin_of_error * sample_std / (df ** 0.5))\n",
    "    #upper_bound = sample_mean + (margin_of_error * sample_std / (df ** 0.5))\n",
    "    #half_uncer_bar_size = (margin_of_error * sample_std / (df ** 0.5) )\n",
    "    \n",
    "    conf_interval=np.array([w_n/critical_value_upper , w_n/critical_value_lower])\n",
    "    \n",
    "    return conf_interval"
   ]
  },
  {
   "cell_type": "code",
   "execution_count": 7,
   "id": "57e9f0c4-9ce5-4ede-ab7d-e8b6453ee5bd",
   "metadata": {},
   "outputs": [],
   "source": [
    "def get_Jitter(List_df,confidence_level):\n",
    "    L=[]\n",
    "    for DF in List_df:\n",
    "        data=DF.residual\n",
    "        print(data)\n",
    "        conf_interval=chi2_conf_interval(data,confidence_level)\n",
    "        radio_noise=np.mean((DF.TOA_error)**2)\n",
    "        final_interval=conf_interval-radio_noise\n",
    "        L.append(final_interval)\n",
    "    return np.array(L)"
   ]
  },
  {
   "cell_type": "code",
   "execution_count": 8,
   "id": "debb9d13-5eb6-4809-be90-cfa9cbb900e8",
   "metadata": {
    "scrolled": true
   },
   "outputs": [
    {
     "name": "stdout",
     "output_type": "stream",
     "text": [
      "0   -2.354698e-05\n",
      "1   -5.718944e-06\n",
      "2    3.632500e-05\n",
      "3   -3.466025e-05\n",
      "4    4.319557e-05\n",
      "5   -9.303519e-07\n",
      "6    3.755641e-05\n",
      "7   -5.157620e-05\n",
      "8   -1.044338e-05\n",
      "9    9.799130e-06\n",
      "Name: residual, dtype: float64\n",
      "0   -0.000003\n",
      "1    0.000007\n",
      "2    0.000018\n",
      "3   -0.000020\n",
      "4    0.000016\n",
      "5   -0.000026\n",
      "6    0.000041\n",
      "7   -0.000065\n",
      "8   -0.000007\n",
      "9    0.000038\n",
      "Name: residual, dtype: float64\n",
      "0   -0.000023\n",
      "1    0.000008\n",
      "2    0.000035\n",
      "3   -0.000031\n",
      "4    0.000024\n",
      "5   -0.000013\n",
      "6    0.000038\n",
      "7   -0.000039\n",
      "8   -0.000016\n",
      "9    0.000017\n",
      "Name: residual, dtype: float64\n",
      "0   -0.000020\n",
      "1    0.000014\n",
      "2    0.000024\n",
      "3   -0.000038\n",
      "4    0.000030\n",
      "5   -0.000015\n",
      "6    0.000045\n",
      "7   -0.000035\n",
      "8   -0.000025\n",
      "9    0.000020\n",
      "Name: residual, dtype: float64\n",
      "0   -0.000017\n",
      "1    0.000008\n",
      "2    0.000021\n",
      "3   -0.000031\n",
      "4    0.000025\n",
      "5   -0.000006\n",
      "6    0.000038\n",
      "7   -0.000032\n",
      "8   -0.000023\n",
      "9    0.000018\n",
      "Name: residual, dtype: float64\n",
      "0   -0.000016\n",
      "1    0.000016\n",
      "2    0.000022\n",
      "3   -0.000044\n",
      "4    0.000027\n",
      "5   -0.000006\n",
      "6    0.000030\n",
      "7   -0.000027\n",
      "8   -0.000025\n",
      "9    0.000022\n",
      "Name: residual, dtype: float64\n",
      "0   -0.000010\n",
      "1    0.000014\n",
      "2    0.000019\n",
      "3   -0.000036\n",
      "4    0.000015\n",
      "5   -0.000005\n",
      "6    0.000029\n",
      "7   -0.000029\n",
      "8   -0.000021\n",
      "9    0.000025\n",
      "Name: residual, dtype: float64\n",
      "0   -0.000017\n",
      "1   -0.000001\n",
      "2    0.000021\n",
      "3   -0.000039\n",
      "4    0.000041\n",
      "5    0.000010\n",
      "6    0.000036\n",
      "7   -0.000041\n",
      "8   -0.000023\n",
      "9    0.000013\n",
      "Name: residual, dtype: float64\n",
      "0   -0.000028\n",
      "1    0.000022\n",
      "2    0.000007\n",
      "3   -0.000033\n",
      "4    0.000027\n",
      "5    0.000015\n",
      "6    0.000052\n",
      "7   -0.000059\n",
      "8   -0.000023\n",
      "9    0.000017\n",
      "Name: residual, dtype: float64\n",
      "0   -0.000023\n",
      "1    0.000004\n",
      "2    0.000012\n",
      "3   -0.000028\n",
      "4    0.000039\n",
      "5    0.000012\n",
      "6    0.000051\n",
      "7   -0.000055\n",
      "8   -0.000032\n",
      "9    0.000019\n",
      "Name: residual, dtype: float64\n",
      "0   -0.000021\n",
      "1    0.000008\n",
      "2    0.000006\n",
      "3   -0.000022\n",
      "4    0.000040\n",
      "5    0.000007\n",
      "6    0.000037\n",
      "7   -0.000050\n",
      "8   -0.000025\n",
      "9    0.000020\n",
      "Name: residual, dtype: float64\n",
      "0   -0.000025\n",
      "1    0.000009\n",
      "2    0.000007\n",
      "3   -0.000014\n",
      "4    0.000032\n",
      "5    0.000003\n",
      "6    0.000041\n",
      "7   -0.000038\n",
      "8   -0.000037\n",
      "9    0.000020\n",
      "Name: residual, dtype: float64\n",
      "0   -0.000027\n",
      "1    0.000005\n",
      "2    0.000018\n",
      "3   -0.000018\n",
      "4    0.000036\n",
      "5    0.000002\n",
      "6    0.000042\n",
      "7   -0.000056\n",
      "8   -0.000026\n",
      "9    0.000023\n",
      "Name: residual, dtype: float64\n",
      "0    0.000019\n",
      "1   -0.000014\n",
      "2   -0.000012\n",
      "3   -0.000013\n",
      "4    0.000035\n",
      "5   -0.000009\n",
      "6    0.000018\n",
      "7   -0.000036\n",
      "8   -0.000023\n",
      "9    0.000034\n",
      "Name: residual, dtype: float64\n",
      "0   -0.000019\n",
      "1   -0.000007\n",
      "2    0.000022\n",
      "3   -0.000022\n",
      "4    0.000026\n",
      "5    0.000016\n",
      "6    0.000039\n",
      "7   -0.000043\n",
      "8   -0.000019\n",
      "9    0.000007\n",
      "Name: residual, dtype: float64\n",
      "0   -0.000027\n",
      "1    0.000002\n",
      "2    0.000027\n",
      "3   -0.000018\n",
      "4    0.000025\n",
      "5    0.000003\n",
      "6    0.000041\n",
      "7   -0.000048\n",
      "8   -0.000022\n",
      "9    0.000017\n",
      "Name: residual, dtype: float64\n",
      "0   -0.000016\n",
      "1    0.000009\n",
      "2    0.000014\n",
      "3   -0.000028\n",
      "4    0.000014\n",
      "5    0.000014\n",
      "6    0.000040\n",
      "7   -0.000043\n",
      "8   -0.000024\n",
      "9    0.000019\n",
      "Name: residual, dtype: float64\n",
      "0   -0.000022\n",
      "1    0.000006\n",
      "2    0.000022\n",
      "3   -0.000027\n",
      "4    0.000025\n",
      "5    0.000009\n",
      "6    0.000041\n",
      "7   -0.000048\n",
      "8   -0.000021\n",
      "9    0.000017\n",
      "Name: residual, dtype: float64\n",
      "0   -0.000030\n",
      "1    0.000007\n",
      "2    0.000013\n",
      "3   -0.000010\n",
      "4    0.000021\n",
      "5    0.000022\n",
      "6    0.000042\n",
      "7   -0.000054\n",
      "8   -0.000034\n",
      "9    0.000022\n",
      "Name: residual, dtype: float64\n",
      "0   -0.000026\n",
      "1    0.000004\n",
      "2    0.000018\n",
      "3   -0.000013\n",
      "4    0.000030\n",
      "5    0.000004\n",
      "6    0.000037\n",
      "7   -0.000050\n",
      "8   -0.000028\n",
      "9    0.000023\n",
      "Name: residual, dtype: float64\n",
      "0   -0.000022\n",
      "1    0.000002\n",
      "2    0.000015\n",
      "3   -0.000007\n",
      "4    0.000029\n",
      "5   -0.000004\n",
      "6    0.000034\n",
      "7   -0.000035\n",
      "8   -0.000034\n",
      "9    0.000023\n",
      "Name: residual, dtype: float64\n",
      "0   -1.815151e-05\n",
      "1    1.606786e-06\n",
      "2    2.634723e-05\n",
      "3   -1.751969e-05\n",
      "4    2.087288e-05\n",
      "5   -1.858158e-07\n",
      "6    2.641572e-05\n",
      "7   -4.774362e-05\n",
      "8   -1.617526e-05\n",
      "9    2.453328e-05\n",
      "Name: residual, dtype: float64\n",
      "0   -0.000021\n",
      "1   -0.000011\n",
      "2    0.000022\n",
      "3   -0.000009\n",
      "4    0.000032\n",
      "5    0.000007\n",
      "6    0.000033\n",
      "7   -0.000047\n",
      "8   -0.000016\n",
      "9    0.000009\n",
      "Name: residual, dtype: float64\n",
      "0   -3.338131e-05\n",
      "1   -3.179161e-06\n",
      "2    1.680257e-05\n",
      "3    7.178240e-07\n",
      "4    2.663916e-05\n",
      "5    1.519217e-05\n",
      "6    3.934114e-05\n",
      "7   -4.415020e-05\n",
      "8   -1.973295e-05\n",
      "9    1.750766e-06\n",
      "Name: residual, dtype: float64\n"
     ]
    }
   ],
   "source": [
    "plot_jitter=get_Jitter(List_df,0.6827)\n",
    "#print(np.array([a**2 for a in df0018.residual]))"
   ]
  },
  {
   "cell_type": "code",
   "execution_count": 13,
   "id": "8e0de3f7-39cd-4d57-81e7-17b31b629927",
   "metadata": {},
   "outputs": [],
   "source": [
    "#Exporting Jitter values to a text file.\n",
    "MEAN=np.sqrt(np.array([np.mean(a) for a in plot_jitter]))\n",
    "BAR=np.sqrt(np.array([(a[1]-a[0])/2 for a in plot_jitter]))\n",
    "ADF=pd.DataFrame({\"mean\":MEAN,\"error\":BAR},index=channel)\n",
    "#ADF.to_csv(\"10_32_rfi_0.6827.csv\")"
   ]
  },
  {
   "cell_type": "code",
   "execution_count": 114,
   "id": "703e87cd-91b5-47ac-a3ec-8d6318b03fc3",
   "metadata": {},
   "outputs": [
    {
     "data": {
      "text/plain": [
       "[6.610157017533353e-10,\n",
       " 8.653665560422221e-10,\n",
       " 8.359665339428116e-10,\n",
       " 1.0946847037847118e-09,\n",
       " 7.448177179734213e-10,\n",
       " 9.061472836156029e-10]"
      ]
     },
     "execution_count": 114,
     "metadata": {},
     "output_type": "execute_result"
    }
   ],
   "source": [
    "[np.mean(a) for a in plot_jitter]"
   ]
  },
  {
   "cell_type": "code",
   "execution_count": 115,
   "id": "ea3716cf-1778-41c2-82b1-24eb4942f4fd",
   "metadata": {},
   "outputs": [
    {
     "data": {
      "text/plain": [
       "[2.864702730245727e-10,\n",
       " 3.7467496365676477e-10,\n",
       " 3.6247033542201916e-10,\n",
       " 4.73904946529813e-10,\n",
       " 3.227007379332545e-10,\n",
       " 3.924356762849768e-10]"
      ]
     },
     "execution_count": 115,
     "metadata": {},
     "output_type": "execute_result"
    }
   ],
   "source": [
    "[(a[1]-a[0])/2 for a in plot_jitter]"
   ]
  },
  {
   "cell_type": "code",
   "execution_count": 12,
   "id": "66460f84-feca-47fc-ae0a-e948cc2133f5",
   "metadata": {},
   "outputs": [
    {
     "name": "stderr",
     "output_type": "stream",
     "text": [
      "<>:11: SyntaxWarning: invalid escape sequence '\\s'\n",
      "<>:11: SyntaxWarning: invalid escape sequence '\\s'\n",
      "/tmp/ipykernel_16280/3683558883.py:11: SyntaxWarning: invalid escape sequence '\\s'\n",
      "  ylabel = \"$\\sigma_{Jitter}(s)$\"\n"
     ]
    },
    {
     "data": {
      "image/png": "[encoded data removed]",
      "text/plain": [
       "<Figure size 640x480 with 1 Axes>"
      ]
     },
     "metadata": {},
     "output_type": "display_data"
    }
   ],
   "source": [
    "# Plotting\n",
    "#plotting\n",
    "# linear regression with error bars\n",
    "x=channel\n",
    "y=np.array([np.mean(a) for a in plot_jitter])**0.5\n",
    "yerror=np.array([(a[1]-a[0])/2 for a in plot_jitter])**0.5\n",
    "#INPUT PARAMETERS\n",
    "#dx = \n",
    "#dy =  np.array(df2.iloc[:,3])\n",
    "xlabel = \"$frequency (MHz)$\"\n",
    "ylabel = \"$\\sigma_{Jitter}(s)$\"\n",
    "x1=np.linspace(np.min(x), np.max(x) , 10) # creates array for plotting the line\n",
    "# defining linear function\n",
    "def line(x,m,c):\n",
    "    return (m*x + c)\n",
    "#var,pcov=curve_fit(line,x,y) # var contains the returned the optimized variables namely m ,c  \n",
    "#print(np.sqrt(pcov))\n",
    "#error bars\n",
    "#xerror=np.full(shape=len(x),fill_value=dx ,)\n",
    "#yerror=np.full(shape=len(y),fill_value=dy ,)\n",
    "#plotting the values and error bars\n",
    "plt.errorbar(x, y,yerr = yerror,fmt ='.',capsize=2,color='black')\n",
    "plt.scatter(x,y,color=\"r\",marker=\"o\")\n",
    "#plt.plot(x1,line(x1,*var),label= ylabel ,color='green')\n",
    "#plotting other important elements\n",
    "#st=str(\"variables\")+str(var)\n",
    "#st1=str(\"covariance\")+str(pcov)\n",
    "plt.ylabel(ylabel)\n",
    "plt.xlabel(xlabel)\n",
    "plt.title(\"Jitter for observation time approx 4_min\")\n",
    "#plt.figtext(0.20, 0.76, st) # prints the string st at specified coordinates\n",
    "#plt.figtext(0.20,0.62,st1)\n",
    "#plt.savefig(\"10_32_rfi_0.6827.png\")\n",
    "plt.show()"
   ]
  },
  {
   "cell_type": "code",
   "execution_count": 11,
   "id": "f54911c0-88ff-4530-973b-d0cd19055a69",
   "metadata": {},
   "outputs": [
    {
     "name": "stdout",
     "output_type": "stream",
     "text": [
      "10_32_rfi.0000_0000  10_32_rfi.0012_0000  10_32_rfi.0024_0000\n",
      "10_32_rfi.0001_0000  10_32_rfi.0013_0000  10_32_rfi.0025_0000\n",
      "10_32_rfi.0002_0000  10_32_rfi.0014_0000  10_32_rfi.0026_0000\n",
      "10_32_rfi.0003_0000  10_32_rfi.0015_0000  10_32_rfi.0027_0000\n",
      "10_32_rfi.0004_0000  10_32_rfi.0016_0000  10_32_rfi.0028_0000\n",
      "10_32_rfi.0005_0000  10_32_rfi.0017_0000  10_32_rfi.0029_0000\n",
      "10_32_rfi.0006_0000  10_32_rfi.0018_0000  10_32_rfi.0030_0000\n",
      "10_32_rfi.0007_0000  10_32_rfi.0019_0000  10_32_rfi.0031_0000\n",
      "10_32_rfi.0008_0000  10_32_rfi.0020_0000  residuals.dat\n",
      "10_32_rfi.0009_0000  10_32_rfi.0021_0000  template\n",
      "10_32_rfi.0010_0000  10_32_rfi.0022_0000  tim_files\n",
      "10_32_rfi.0011_0000  10_32_rfi.0023_0000\n"
     ]
    }
   ],
   "source": [
    "!ls"
   ]
  },
  {
   "cell_type": "markdown",
   "id": "a6115683-bbcb-4f05-a50e-29e54dcd8c83",
   "metadata": {},
   "source": [
    "# Plots and interpretation"
   ]
  },
  {
   "cell_type": "markdown",
   "id": "9995f997-35df-4829-80d0-8d1f6b5e2f38",
   "metadata": {
    "jp-MarkdownHeadingCollapsed": true
   },
   "source": [
    "## Plotting code"
   ]
  },
  {
   "cell_type": "code",
   "execution_count": 7,
   "id": "78abc749-eb36-40f4-8319-ddd267e3f105",
   "metadata": {},
   "outputs": [],
   "source": [
    "#importing the jitter values saved \n",
    "df1=pd.read_csv('../Analysis4.1/10_8_rfi_files/10_8_rfi_0.6827.csv')\n",
    "df2=pd.read_csv('../Analysis4.1/10_16_rfi_files/10_16_rfi_0.6827.csv')\n",
    "df3=pd.read_csv('../Analysis4.1/10_32_rfi_files/10_32_rfi_0.6827.csv')"
   ]
  },
  {
   "cell_type": "code",
   "execution_count": 28,
   "id": "528a1e10-609f-4716-89ec-6f5cc0076233",
   "metadata": {},
   "outputs": [],
   "source": [
    "J08=(np.mean(df1.iloc[:,1] - df1.iloc[:,2])*m_factor,np.mean(df1.iloc[:,1] + df1.iloc[:,2])*m_factor)"
   ]
  },
  {
   "cell_type": "code",
   "execution_count": 29,
   "id": "0040b472-4c08-4005-aa12-b198739836fb",
   "metadata": {},
   "outputs": [],
   "source": [
    "J16=(np.mean(df2.iloc[:,1] - df2.iloc[:,2])*m_factor,np.mean(df2.iloc[:,1] + df2.iloc[:,2])*m_factor)"
   ]
  },
  {
   "cell_type": "code",
   "execution_count": 30,
   "id": "bc23320a-0c83-4346-86f4-bc128e815163",
   "metadata": {},
   "outputs": [],
   "source": [
    "J32=(np.mean(df3.iloc[:,1] - df3.iloc[:,2])*m_factor,np.mean(df3.iloc[:,1] + df3.iloc[:,2])*m_factor)"
   ]
  },
  {
   "cell_type": "code",
   "execution_count": 8,
   "id": "dc0fece0-4b5b-46fe-b454-b174681cd175",
   "metadata": {},
   "outputs": [
    {
     "name": "stdout",
     "output_type": "stream",
     "text": [
      "observation time for each subint = 199.96809625600005 s\n"
     ]
    }
   ],
   "source": [
    "time_int=psrchive.get_tobs('../Analysis4.1/10_8_rfi')/10\n",
    "print('observation time for each subint =',time_int ,'s')"
   ]
  },
  {
   "cell_type": "markdown",
   "id": "f7ce0344-c1e4-49e6-ac78-45f060cb1785",
   "metadata": {},
   "source": [
    "Scaling to one hour:\n",
    "$$\\sigma_{J}(T_2) = \\sigma_{J}(T_1)\\sqrt{\\frac{T_1}{T_2}}$$"
   ]
  },
  {
   "cell_type": "markdown",
   "id": "e23a96ef-75e1-49e1-8002-183819db3ebd",
   "metadata": {},
   "source": [
    "$$T_1 = 199.968 , T_2 = 3600 $$"
   ]
  },
  {
   "cell_type": "code",
   "execution_count": 9,
   "id": "e5d695c4-a1c4-410d-8382-5a476908d224",
   "metadata": {},
   "outputs": [],
   "source": [
    "m_factor=np.sqrt(time_int/3600)"
   ]
  },
  {
   "cell_type": "code",
   "execution_count": 10,
   "id": "e837e5bf-0fb1-4658-a0c1-c3ace5610c53",
   "metadata": {},
   "outputs": [
    {
     "name": "stderr",
     "output_type": "stream",
     "text": [
      "<>:7: SyntaxWarning: invalid escape sequence '\\s'\n",
      "<>:7: SyntaxWarning: invalid escape sequence '\\s'\n",
      "/tmp/ipykernel_9178/812330347.py:7: SyntaxWarning: invalid escape sequence '\\s'\n",
      "  ylabel = \"$\\sigma_{Jitter}(s)$\"\n"
     ]
    },
    {
     "data": {
      "image/png": "[encoded data removed]",
      "text/plain": [
       "<Figure size 640x480 with 1 Axes>"
      ]
     },
     "metadata": {},
     "output_type": "display_data"
    }
   ],
   "source": [
    "x = df1.iloc[:,0]\n",
    "y = df1.iloc[:,1]*m_factor\n",
    "yerror = df1.iloc[:,2]*m_factor\n",
    "\n",
    "\n",
    "xlabel = \"$frequency (MHz)$\"\n",
    "ylabel = \"$\\sigma_{Jitter}(s)$\"\n",
    "\n",
    "plt.errorbar(x, y,yerr = yerror,fmt ='.',capsize=2,color='black')\n",
    "plt.scatter(x,y,color=\"r\",marker=\"o\")\n",
    "plt.ylabel(ylabel)\n",
    "plt.xlabel(xlabel)\n",
    "plt.title(\"Jitter scaled to 1 hr observation time\")\n",
    "#plt.savefig(\"../Analysis4.1/10_8_rfi.png\")\n",
    "plt.show()"
   ]
  },
  {
   "cell_type": "code",
   "execution_count": 11,
   "id": "e9affe63-5e94-47e7-8327-b0e7b27c23b2",
   "metadata": {},
   "outputs": [
    {
     "name": "stderr",
     "output_type": "stream",
     "text": [
      "<>:7: SyntaxWarning: invalid escape sequence '\\s'\n",
      "<>:7: SyntaxWarning: invalid escape sequence '\\s'\n",
      "/tmp/ipykernel_9178/3731659293.py:7: SyntaxWarning: invalid escape sequence '\\s'\n",
      "  ylabel = \"$\\sigma_{Jitter}(s)$\"\n"
     ]
    },
    {
     "data": {
      "image/png": "[encoded data removed]",
      "text/plain": [
       "<Figure size 640x480 with 1 Axes>"
      ]
     },
     "metadata": {},
     "output_type": "display_data"
    }
   ],
   "source": [
    "x = df2.iloc[:,0]\n",
    "y = df2.iloc[:,1]*m_factor\n",
    "yerror = df2.iloc[:,2]*m_factor\n",
    "\n",
    "\n",
    "xlabel = \"$frequency (MHz)$\"\n",
    "ylabel = \"$\\sigma_{Jitter}(s)$\"\n",
    "\n",
    "plt.errorbar(x, y,yerr = yerror,fmt ='.',capsize=2,color='black')\n",
    "plt.scatter(x,y,color=\"r\",marker=\"o\")\n",
    "plt.ylabel(ylabel)\n",
    "plt.xlabel(xlabel)\n",
    "plt.title(\"Jitter scaled to 1 hr observation time\")\n",
    "#plt.savefig(\"../Analysis4.1/10_16_rfi.png\")\n",
    "plt.show()"
   ]
  },
  {
   "cell_type": "code",
   "execution_count": 12,
   "id": "490e6070-77db-478b-8879-7839b7e4a631",
   "metadata": {},
   "outputs": [
    {
     "name": "stderr",
     "output_type": "stream",
     "text": [
      "<>:7: SyntaxWarning: invalid escape sequence '\\s'\n",
      "<>:7: SyntaxWarning: invalid escape sequence '\\s'\n",
      "/tmp/ipykernel_9178/3687368294.py:7: SyntaxWarning: invalid escape sequence '\\s'\n",
      "  ylabel = \"$\\sigma_{Jitter}(s)$\"\n"
     ]
    },
    {
     "data": {
      "image/png": "[encoded data removed]",
      "text/plain": [
       "<Figure size 640x480 with 1 Axes>"
      ]
     },
     "metadata": {},
     "output_type": "display_data"
    }
   ],
   "source": [
    "x = df3.iloc[:,0].drop(13)\n",
    "y = df3.iloc[:,1].drop(13)*m_factor\n",
    "yerror = df3.iloc[:,2].drop(13)*m_factor\n",
    "\n",
    "\n",
    "xlabel = \"$frequency (MHz)$\"\n",
    "ylabel = \"$\\sigma_{Jitter}(s)$\"\n",
    "\n",
    "plt.errorbar(x, y,yerr = yerror,fmt ='.',capsize=2,color='black')\n",
    "plt.scatter(x,y,color=\"r\",marker=\"o\")\n",
    "plt.ylabel(ylabel)\n",
    "plt.xlabel(xlabel)\n",
    "plt.title(\"Jitter scaled to 1 hr observation time\")\n",
    "#plt.savefig(\"../Analysis4.1/10_32_rfi.png\")\n",
    "plt.show()"
   ]
  },
  {
   "cell_type": "markdown",
   "id": "dd9e6a79-e365-4eb7-9194-80375bd4d8d1",
   "metadata": {},
   "source": [
    "## final plots"
   ]
  },
  {
   "attachments": {
    "dfa93464-799e-4184-9c75-be55f8560f3e.png": {
     "image/png": "[encoded data removed]"
    }
   },
   "cell_type": "markdown",
   "id": "a3930cbd-37ec-4a45-b243-f6093ea0c2d4",
   "metadata": {},
   "source": [
    "![10_8_rfi.png](attachment:dfa93464-799e-4184-9c75-be55f8560f3e.png)"
   ]
  },
  {
   "cell_type": "code",
   "execution_count": 31,
   "id": "443413e4-59b1-485a-b31b-0e038c118225",
   "metadata": {},
   "outputs": [
    {
     "name": "stdout",
     "output_type": "stream",
     "text": [
      "Average value over all the channels = (2.3433316816602246e-06, 1.1367166600050536e-05)\n"
     ]
    }
   ],
   "source": [
    "print(\"Average value over all the channels =\", J08)"
   ]
  },
  {
   "attachments": {
    "11cca666-70d6-45d8-963d-eb8ca169c045.png": {
     "image/png": "[encoded data removed]"
    }
   },
   "cell_type": "markdown",
   "id": "8b08a33c-bf73-4ab3-9179-eb70ac31fad0",
   "metadata": {},
   "source": [
    "![10_16_rfi.png](attachment:11cca666-70d6-45d8-963d-eb8ca169c045.png)"
   ]
  },
  {
   "cell_type": "code",
   "execution_count": 32,
   "id": "40f872ca-2b64-4fae-9136-f6265b93beb6",
   "metadata": {},
   "outputs": [
    {
     "name": "stdout",
     "output_type": "stream",
     "text": [
      "Average value over all the channels = (2.3686263184113997e-06, 1.1525029512399845e-05)\n"
     ]
    }
   ],
   "source": [
    "print(\"Average value over all the channels =\", J16)"
   ]
  },
  {
   "attachments": {
    "a9f91b73-ac6c-4572-8851-c6acd4447fea.png": {
     "image/png": "[encoded data removed]"
    }
   },
   "cell_type": "markdown",
   "id": "4bee6598-ebc6-4489-93b0-2bd68c10e755",
   "metadata": {},
   "source": [
    "![10_32_rfi.png](attachment:a9f91b73-ac6c-4572-8851-c6acd4447fea.png)"
   ]
  },
  {
   "cell_type": "code",
   "execution_count": 33,
   "id": "fa0575f5-0878-40e9-9f56-294a72dba2dc",
   "metadata": {},
   "outputs": [
    {
     "name": "stdout",
     "output_type": "stream",
     "text": [
      "Average value over all the channels = (2.1931239915144816e-06, 1.1373934692788155e-05)\n"
     ]
    }
   ],
   "source": [
    "print(\"Average value over all the channels =\", J32)"
   ]
  },
  {
   "cell_type": "markdown",
   "id": "2098cb72-2b86-4904-9ce3-571358cd3ed6",
   "metadata": {},
   "source": [
    "## Explanation"
   ]
  },
  {
   "cell_type": "markdown",
   "id": "962c633b-3ffd-4c2a-bc0d-aa80beac8d45",
   "metadata": {},
   "source": [
    "As stated above we modelled Jitter as a Normal random variable.$$J_{\\nu}=\\mathcal{N}(0,\\sigma_{J}^2(\\nu))$$"
   ]
  },
  {
   "cell_type": "markdown",
   "id": "309ac89b-6ed5-44b6-821b-6f980bc8542e",
   "metadata": {},
   "source": [
    "Let's denote the Jitter in 'n' subbands as $J_{\\nu1} , J_{\\nu2} ,J_{\\nu3} , J_{\\nu4} , .... J_{\\nu n}$.\n",
    "\n",
    "The observed time of arrival of the pulses after collapsing two consecutive subbands is the average of individual TOA before collapsing. Hence one can follow the extension that residuals are also averaged out during collapsing process."
   ]
  },
  {
   "cell_type": "markdown",
   "id": "00a17f72-50a6-43a2-a785-fca5ea8d692e",
   "metadata": {},
   "source": [
    "so, \n",
    "$$T_{res \\space i} = R_{i} + J_{\\nu_i} $$ , where i denotes the i$^{th}$ frequency channel."
   ]
  },
  {
   "cell_type": "markdown",
   "id": "66d7aed7-42a1-42dc-b85b-176dbc82c1b4",
   "metadata": {},
   "source": [
    "Note that $R$ is white in nature so one can drop the subscript i."
   ]
  },
  {
   "cell_type": "markdown",
   "id": "7509354c-63b0-4539-aaf1-dfa595acc258",
   "metadata": {},
   "source": [
    "we restate th assumption we made before,\n",
    "$$ R = \\mathcal{N}(0,\\sigma_{rad}^2) \\space \\space and \\space \\space J_{\\nu_i} = \\mathcal{N}(0,\\sigma_{J}^2(\\nu_{i})) $$"
   ]
  },
  {
   "cell_type": "markdown",
   "id": "1d0941b2-6f88-4d4d-9d39-db2afadfd974",
   "metadata": {},
   "source": [
    "Now suppose we collapse 'm' consecutive channels to form n/m channels on which we perform jitter analysis."
   ]
  },
  {
   "cell_type": "markdown",
   "id": "b385a362-4cdd-4c6c-adab-92227603ed45",
   "metadata": {},
   "source": [
    "$$ T'_{res \\space j} = \\frac{1}{m} \\sum_{i= {mj - m +1} } ^{ mj } T_{res \\space i} \\space \\space  = \\mathcal{N}(0,\\frac{\\sigma_{rad}^2}{m}) \\space  +  \\frac{1}{m} \\sum_{i= {mj - m +1} } ^{ mj } J_{\\nu_i} $$\n",
    "j = 1, 2, 3 ... n/m"
   ]
  },
  {
   "cell_type": "markdown",
   "id": "61452c92-42f9-425f-b9dc-81691399487b",
   "metadata": {},
   "source": [
    "If $J_{\\nu_i}$ were independent normals then the sum will also be a normal with variance scaled by a factor of $\\frac{1}{m}$.\n",
    "$$ T'_{res \\space j} =  \\mathcal{N}(0,\\frac{\\sigma_{rad}^2}{m}) + \\mathcal{N}(0,\\frac{\\sigma_{J}^2 (\\nu)}{m}) \\space \\space = \\mathcal{N}(0,\\frac{\\sigma_{rad}^2 }{m} + \\frac{1}{m^2}\\sum \\sigma_{J}^{2}(\\nu) )  $$\n",
    "now if we assume that the variance of the independent $J_{\\nu_i}$ are same, we get\n",
    "$$ T'_{res \\space j} = \\mathcal{N}(0,\\frac{\\sigma_{rad}^2 + \\sigma_{J}^{2}}{m} )  $$\n"
   ]
  },
  {
   "cell_type": "markdown",
   "id": "b110652f-4824-4b8b-9c4b-7ff87592361c",
   "metadata": {},
   "source": [
    "So, if $J_{\\nu_i}$ are were independent random varibles the observed rms of the should decrease as $\\frac{1}{m}$ , where m is the number of collapsed channels. This statement is infact even true if $J_{\\nu_i}$ were not identically distributed i.e. $\\sigma_{J}^2(\\nu)$ were different."
   ]
  },
  {
   "cell_type": "markdown",
   "id": "b843d1fd-e23c-4fb5-b293-81bb228077b4",
   "metadata": {},
   "source": [
    "But we don't see any significant decrease in the value thus $J_{\\nu_i}$ are not independent hence are correlated."
   ]
  },
  {
   "cell_type": "markdown",
   "id": "b310254c-c0c0-4a92-9415-4c7da6a07880",
   "metadata": {
    "jp-MarkdownHeadingCollapsed": true
   },
   "source": [
    "### Examples supporting the stated explanation.\n",
    "Here is an example.\n",
    "Let's look at the time of arrivals generated by 'pat' :\n"
   ]
  },
  {
   "cell_type": "raw",
   "id": "991581c3-00cf-454d-a2f2-cc94ab7eb836",
   "metadata": {},
   "source": [
    "tim file\n",
    "\n",
    "File name          frequency  MJD_TOA                 TOA_error \n",
    "\n",
    "10_8_rfi.0004_0000 387.488000 59064.715212674589031   1.391  gmrt \n",
    "10_8_rfi.0004_0000 387.488000 59064.717532733919601   1.101  gmrt \n",
    "10_8_rfi.0004_0000 387.488000 59064.719839330185985   1.702  gmrt \n",
    "10_8_rfi.0004_0000 387.488000 59064.722159388797145   1.068  gmrt \n",
    "10_8_rfi.0004_0000 387.488000 59064.724474960992196   1.412  gmrt \n",
    "10_8_rfi.0004_0000 387.488000 59064.726786044712486   1.052  gmrt \n",
    "10_8_rfi.0004_0000 387.488000 59064.729101616726010   0.810  gmrt \n",
    "10_8_rfi.0004_0000 387.488000 59064.731417187202160   1.186  gmrt \n",
    "10_8_rfi.0004_0000 387.488000 59064.733728271601430   1.740  gmrt \n",
    "10_8_rfi.0004_0000 387.488000 59064.736048331411066   2.178  gmrt \n",
    "\n",
    "0    59064.715213\n",
    "1    59064.717533\n",
    "2    59064.719839\n",
    "3    59064.722159\n",
    "4    59064.724475\n",
    "5    59064.726786\n",
    "6    59064.729102\n",
    "7    59064.731417\n",
    "8    59064.733728\n",
    "9    59064.736048\n",
    "Name: 2, dtype: float64\n",
    "\n"
   ]
  },
  {
   "cell_type": "code",
   "execution_count": 15,
   "id": "2b83be0c-71b8-471c-9246-42e8ac6d66f8",
   "metadata": {},
   "outputs": [
    {
     "name": "stderr",
     "output_type": "stream",
     "text": [
      "<>:1: SyntaxWarning: invalid escape sequence '\\s'\n",
      "<>:2: SyntaxWarning: invalid escape sequence '\\s'\n",
      "<>:3: SyntaxWarning: invalid escape sequence '\\s'\n",
      "<>:1: SyntaxWarning: invalid escape sequence '\\s'\n",
      "<>:2: SyntaxWarning: invalid escape sequence '\\s'\n",
      "<>:3: SyntaxWarning: invalid escape sequence '\\s'\n",
      "/tmp/ipykernel_2734/1367323530.py:1: SyntaxWarning: invalid escape sequence '\\s'\n",
      "  df1 = pd.read_csv('../Analysis4.1/10_8_rfi_files/10_16_rfi.0008_0000.txt', sep='\\s+', header=None)\n",
      "/tmp/ipykernel_2734/1367323530.py:2: SyntaxWarning: invalid escape sequence '\\s'\n",
      "  df2 = pd.read_csv('../Analysis4.1/10_8_rfi_files/10_16_rfi.0009_0000.txt', sep='\\s+', header=None)\n",
      "/tmp/ipykernel_2734/1367323530.py:3: SyntaxWarning: invalid escape sequence '\\s'\n",
      "  df3 = pd.read_csv('../Analysis4.1/10_8_rfi_files/10_8_rfi.0004_0000.txt', sep='\\s+', header=None)\n"
     ]
    }
   ],
   "source": [
    "df1 = pd.read_csv('../Analysis4.1/10_8_rfi_files/10_16_rfi.0008_0000.txt', sep='\\s+', header=None)\n",
    "df2 = pd.read_csv('../Analysis4.1/10_8_rfi_files/10_16_rfi.0009_0000.txt', sep='\\s+', header=None)\n",
    "df3 = pd.read_csv('../Analysis4.1/10_8_rfi_files/10_8_rfi.0004_0000.txt', sep='\\s+', header=None)\n"
   ]
  },
  {
   "cell_type": "code",
   "execution_count": 25,
   "id": "c3089d7a-540c-4a12-b606-68796f628361",
   "metadata": {},
   "outputs": [
    {
     "data": {
      "text/plain": [
       "0   -0.000295\n",
       "1   -0.000294\n",
       "2   -0.000295\n",
       "3   -0.000295\n",
       "4   -0.000295\n",
       "5   -0.000294\n",
       "6   -0.000292\n",
       "7   -0.000297\n",
       "8   -0.000295\n",
       "9   -0.000295\n",
       "Name: 2, dtype: float64"
      ]
     },
     "execution_count": 25,
     "metadata": {},
     "output_type": "execute_result"
    }
   ],
   "source": [
    "(df3.iloc[:,2] - (df1.iloc[:,2]+df2.iloc[:,2])/2)*86400"
   ]
  },
  {
   "cell_type": "code",
   "execution_count": 11,
   "id": "227d8674-7a8e-4d47-bd54-151a85eaec6c",
   "metadata": {},
   "outputs": [
    {
     "data": {
      "text/html": [
       "<div>\n",
       "<style scoped>\n",
       "    .dataframe tbody tr th:only-of-type {\n",
       "        vertical-align: middle;\n",
       "    }\n",
       "\n",
       "    .dataframe tbody tr th {\n",
       "        vertical-align: top;\n",
       "    }\n",
       "\n",
       "    .dataframe thead th {\n",
       "        text-align: right;\n",
       "    }\n",
       "</style>\n",
       "<table border=\"1\" class=\"dataframe\">\n",
       "  <thead>\n",
       "    <tr style=\"text-align: right;\">\n",
       "      <th></th>\n",
       "      <th>0</th>\n",
       "      <th>1</th>\n",
       "      <th>2</th>\n",
       "      <th>3</th>\n",
       "      <th>4</th>\n",
       "    </tr>\n",
       "  </thead>\n",
       "  <tbody>\n",
       "    <tr>\n",
       "      <th>0</th>\n",
       "      <td>10_16_rfi.0008_0000</td>\n",
       "      <td>394.111</td>\n",
       "      <td>59064.715212</td>\n",
       "      <td>1.384</td>\n",
       "      <td>gmrt</td>\n",
       "    </tr>\n",
       "    <tr>\n",
       "      <th>1</th>\n",
       "      <td>10_16_rfi.0008_0000</td>\n",
       "      <td>394.111</td>\n",
       "      <td>59064.717532</td>\n",
       "      <td>1.069</td>\n",
       "      <td>gmrt</td>\n",
       "    </tr>\n",
       "    <tr>\n",
       "      <th>2</th>\n",
       "      <td>10_16_rfi.0008_0000</td>\n",
       "      <td>394.111</td>\n",
       "      <td>59064.719839</td>\n",
       "      <td>1.544</td>\n",
       "      <td>gmrt</td>\n",
       "    </tr>\n",
       "    <tr>\n",
       "      <th>3</th>\n",
       "      <td>10_16_rfi.0008_0000</td>\n",
       "      <td>394.111</td>\n",
       "      <td>59064.722159</td>\n",
       "      <td>1.159</td>\n",
       "      <td>gmrt</td>\n",
       "    </tr>\n",
       "    <tr>\n",
       "      <th>4</th>\n",
       "      <td>10_16_rfi.0008_0000</td>\n",
       "      <td>394.111</td>\n",
       "      <td>59064.724475</td>\n",
       "      <td>1.481</td>\n",
       "      <td>gmrt</td>\n",
       "    </tr>\n",
       "    <tr>\n",
       "      <th>5</th>\n",
       "      <td>10_16_rfi.0008_0000</td>\n",
       "      <td>394.111</td>\n",
       "      <td>59064.726786</td>\n",
       "      <td>0.977</td>\n",
       "      <td>gmrt</td>\n",
       "    </tr>\n",
       "    <tr>\n",
       "      <th>6</th>\n",
       "      <td>10_16_rfi.0008_0000</td>\n",
       "      <td>394.111</td>\n",
       "      <td>59064.729101</td>\n",
       "      <td>0.921</td>\n",
       "      <td>gmrt</td>\n",
       "    </tr>\n",
       "    <tr>\n",
       "      <th>7</th>\n",
       "      <td>10_16_rfi.0008_0000</td>\n",
       "      <td>394.111</td>\n",
       "      <td>59064.731417</td>\n",
       "      <td>1.089</td>\n",
       "      <td>gmrt</td>\n",
       "    </tr>\n",
       "    <tr>\n",
       "      <th>8</th>\n",
       "      <td>10_16_rfi.0008_0000</td>\n",
       "      <td>394.111</td>\n",
       "      <td>59064.733728</td>\n",
       "      <td>1.737</td>\n",
       "      <td>gmrt</td>\n",
       "    </tr>\n",
       "    <tr>\n",
       "      <th>9</th>\n",
       "      <td>10_16_rfi.0008_0000</td>\n",
       "      <td>394.111</td>\n",
       "      <td>59064.736048</td>\n",
       "      <td>2.459</td>\n",
       "      <td>gmrt</td>\n",
       "    </tr>\n",
       "  </tbody>\n",
       "</table>\n",
       "</div>"
      ],
      "text/plain": [
       "                     0        1             2      3     4\n",
       "0  10_16_rfi.0008_0000  394.111  59064.715212  1.384  gmrt\n",
       "1  10_16_rfi.0008_0000  394.111  59064.717532  1.069  gmrt\n",
       "2  10_16_rfi.0008_0000  394.111  59064.719839  1.544  gmrt\n",
       "3  10_16_rfi.0008_0000  394.111  59064.722159  1.159  gmrt\n",
       "4  10_16_rfi.0008_0000  394.111  59064.724475  1.481  gmrt\n",
       "5  10_16_rfi.0008_0000  394.111  59064.726786  0.977  gmrt\n",
       "6  10_16_rfi.0008_0000  394.111  59064.729101  0.921  gmrt\n",
       "7  10_16_rfi.0008_0000  394.111  59064.731417  1.089  gmrt\n",
       "8  10_16_rfi.0008_0000  394.111  59064.733728  1.737  gmrt\n",
       "9  10_16_rfi.0008_0000  394.111  59064.736048  2.459  gmrt"
      ]
     },
     "execution_count": 11,
     "metadata": {},
     "output_type": "execute_result"
    }
   ],
   "source": [
    "df1"
   ]
  },
  {
   "cell_type": "code",
   "execution_count": 19,
   "id": "aa3e589d-11db-4b75-8463-303167d38051",
   "metadata": {},
   "outputs": [
    {
     "data": {
      "text/html": [
       "<div>\n",
       "<style scoped>\n",
       "    .dataframe tbody tr th:only-of-type {\n",
       "        vertical-align: middle;\n",
       "    }\n",
       "\n",
       "    .dataframe tbody tr th {\n",
       "        vertical-align: top;\n",
       "    }\n",
       "\n",
       "    .dataframe thead th {\n",
       "        text-align: right;\n",
       "    }\n",
       "</style>\n",
       "<table border=\"1\" class=\"dataframe\">\n",
       "  <thead>\n",
       "    <tr style=\"text-align: right;\">\n",
       "      <th></th>\n",
       "      <th>0</th>\n",
       "      <th>1</th>\n",
       "      <th>2</th>\n",
       "      <th>3</th>\n",
       "      <th>4</th>\n",
       "    </tr>\n",
       "  </thead>\n",
       "  <tbody>\n",
       "    <tr>\n",
       "      <th>0</th>\n",
       "      <td>10_16_rfi.0009_0000</td>\n",
       "      <td>381.078</td>\n",
       "      <td>59064.715213</td>\n",
       "      <td>1.749</td>\n",
       "      <td>gmrt</td>\n",
       "    </tr>\n",
       "    <tr>\n",
       "      <th>1</th>\n",
       "      <td>10_16_rfi.0009_0000</td>\n",
       "      <td>381.078</td>\n",
       "      <td>59064.717533</td>\n",
       "      <td>1.775</td>\n",
       "      <td>gmrt</td>\n",
       "    </tr>\n",
       "    <tr>\n",
       "      <th>2</th>\n",
       "      <td>10_16_rfi.0009_0000</td>\n",
       "      <td>381.078</td>\n",
       "      <td>59064.719840</td>\n",
       "      <td>2.415</td>\n",
       "      <td>gmrt</td>\n",
       "    </tr>\n",
       "    <tr>\n",
       "      <th>3</th>\n",
       "      <td>10_16_rfi.0009_0000</td>\n",
       "      <td>381.078</td>\n",
       "      <td>59064.722160</td>\n",
       "      <td>1.577</td>\n",
       "      <td>gmrt</td>\n",
       "    </tr>\n",
       "    <tr>\n",
       "      <th>4</th>\n",
       "      <td>10_16_rfi.0009_0000</td>\n",
       "      <td>381.078</td>\n",
       "      <td>59064.724475</td>\n",
       "      <td>1.651</td>\n",
       "      <td>gmrt</td>\n",
       "    </tr>\n",
       "    <tr>\n",
       "      <th>5</th>\n",
       "      <td>10_16_rfi.0009_0000</td>\n",
       "      <td>381.078</td>\n",
       "      <td>59064.726786</td>\n",
       "      <td>1.491</td>\n",
       "      <td>gmrt</td>\n",
       "    </tr>\n",
       "    <tr>\n",
       "      <th>6</th>\n",
       "      <td>10_16_rfi.0009_0000</td>\n",
       "      <td>381.078</td>\n",
       "      <td>59064.729102</td>\n",
       "      <td>1.235</td>\n",
       "      <td>gmrt</td>\n",
       "    </tr>\n",
       "    <tr>\n",
       "      <th>7</th>\n",
       "      <td>10_16_rfi.0009_0000</td>\n",
       "      <td>381.078</td>\n",
       "      <td>59064.731418</td>\n",
       "      <td>1.728</td>\n",
       "      <td>gmrt</td>\n",
       "    </tr>\n",
       "    <tr>\n",
       "      <th>8</th>\n",
       "      <td>10_16_rfi.0009_0000</td>\n",
       "      <td>381.078</td>\n",
       "      <td>59064.733729</td>\n",
       "      <td>2.076</td>\n",
       "      <td>gmrt</td>\n",
       "    </tr>\n",
       "    <tr>\n",
       "      <th>9</th>\n",
       "      <td>10_16_rfi.0009_0000</td>\n",
       "      <td>381.078</td>\n",
       "      <td>59064.736049</td>\n",
       "      <td>2.119</td>\n",
       "      <td>gmrt</td>\n",
       "    </tr>\n",
       "  </tbody>\n",
       "</table>\n",
       "</div>"
      ],
      "text/plain": [
       "                     0        1             2      3     4\n",
       "0  10_16_rfi.0009_0000  381.078  59064.715213  1.749  gmrt\n",
       "1  10_16_rfi.0009_0000  381.078  59064.717533  1.775  gmrt\n",
       "2  10_16_rfi.0009_0000  381.078  59064.719840  2.415  gmrt\n",
       "3  10_16_rfi.0009_0000  381.078  59064.722160  1.577  gmrt\n",
       "4  10_16_rfi.0009_0000  381.078  59064.724475  1.651  gmrt\n",
       "5  10_16_rfi.0009_0000  381.078  59064.726786  1.491  gmrt\n",
       "6  10_16_rfi.0009_0000  381.078  59064.729102  1.235  gmrt\n",
       "7  10_16_rfi.0009_0000  381.078  59064.731418  1.728  gmrt\n",
       "8  10_16_rfi.0009_0000  381.078  59064.733729  2.076  gmrt\n",
       "9  10_16_rfi.0009_0000  381.078  59064.736049  2.119  gmrt"
      ]
     },
     "execution_count": 19,
     "metadata": {},
     "output_type": "execute_result"
    }
   ],
   "source": [
    "df2"
   ]
  },
  {
   "cell_type": "code",
   "execution_count": 26,
   "id": "2490617d-cabf-4709-9d14-61c490f3a2ab",
   "metadata": {},
   "outputs": [],
   "source": [
    "alpha=(387.488-381.078)/(394.111-381.078)"
   ]
  },
  {
   "cell_type": "code",
   "execution_count": 27,
   "id": "b194f66c-62ff-4c92-8ffe-6ef46d0eff21",
   "metadata": {},
   "outputs": [
    {
     "data": {
      "text/html": [
       "<div>\n",
       "<style scoped>\n",
       "    .dataframe tbody tr th:only-of-type {\n",
       "        vertical-align: middle;\n",
       "    }\n",
       "\n",
       "    .dataframe tbody tr th {\n",
       "        vertical-align: top;\n",
       "    }\n",
       "\n",
       "    .dataframe thead th {\n",
       "        text-align: right;\n",
       "    }\n",
       "</style>\n",
       "<table border=\"1\" class=\"dataframe\">\n",
       "  <thead>\n",
       "    <tr style=\"text-align: right;\">\n",
       "      <th></th>\n",
       "      <th>0</th>\n",
       "      <th>1</th>\n",
       "      <th>2</th>\n",
       "      <th>3</th>\n",
       "      <th>4</th>\n",
       "    </tr>\n",
       "  </thead>\n",
       "  <tbody>\n",
       "    <tr>\n",
       "      <th>0</th>\n",
       "      <td>10_8_rfi.0004_0000</td>\n",
       "      <td>387.488</td>\n",
       "      <td>59064.715213</td>\n",
       "      <td>1.391</td>\n",
       "      <td>gmrt</td>\n",
       "    </tr>\n",
       "    <tr>\n",
       "      <th>1</th>\n",
       "      <td>10_8_rfi.0004_0000</td>\n",
       "      <td>387.488</td>\n",
       "      <td>59064.717533</td>\n",
       "      <td>1.101</td>\n",
       "      <td>gmrt</td>\n",
       "    </tr>\n",
       "    <tr>\n",
       "      <th>2</th>\n",
       "      <td>10_8_rfi.0004_0000</td>\n",
       "      <td>387.488</td>\n",
       "      <td>59064.719839</td>\n",
       "      <td>1.702</td>\n",
       "      <td>gmrt</td>\n",
       "    </tr>\n",
       "    <tr>\n",
       "      <th>3</th>\n",
       "      <td>10_8_rfi.0004_0000</td>\n",
       "      <td>387.488</td>\n",
       "      <td>59064.722159</td>\n",
       "      <td>1.068</td>\n",
       "      <td>gmrt</td>\n",
       "    </tr>\n",
       "    <tr>\n",
       "      <th>4</th>\n",
       "      <td>10_8_rfi.0004_0000</td>\n",
       "      <td>387.488</td>\n",
       "      <td>59064.724475</td>\n",
       "      <td>1.412</td>\n",
       "      <td>gmrt</td>\n",
       "    </tr>\n",
       "    <tr>\n",
       "      <th>5</th>\n",
       "      <td>10_8_rfi.0004_0000</td>\n",
       "      <td>387.488</td>\n",
       "      <td>59064.726786</td>\n",
       "      <td>1.052</td>\n",
       "      <td>gmrt</td>\n",
       "    </tr>\n",
       "    <tr>\n",
       "      <th>6</th>\n",
       "      <td>10_8_rfi.0004_0000</td>\n",
       "      <td>387.488</td>\n",
       "      <td>59064.729102</td>\n",
       "      <td>0.810</td>\n",
       "      <td>gmrt</td>\n",
       "    </tr>\n",
       "    <tr>\n",
       "      <th>7</th>\n",
       "      <td>10_8_rfi.0004_0000</td>\n",
       "      <td>387.488</td>\n",
       "      <td>59064.731417</td>\n",
       "      <td>1.186</td>\n",
       "      <td>gmrt</td>\n",
       "    </tr>\n",
       "    <tr>\n",
       "      <th>8</th>\n",
       "      <td>10_8_rfi.0004_0000</td>\n",
       "      <td>387.488</td>\n",
       "      <td>59064.733728</td>\n",
       "      <td>1.740</td>\n",
       "      <td>gmrt</td>\n",
       "    </tr>\n",
       "    <tr>\n",
       "      <th>9</th>\n",
       "      <td>10_8_rfi.0004_0000</td>\n",
       "      <td>387.488</td>\n",
       "      <td>59064.736048</td>\n",
       "      <td>2.178</td>\n",
       "      <td>gmrt</td>\n",
       "    </tr>\n",
       "  </tbody>\n",
       "</table>\n",
       "</div>"
      ],
      "text/plain": [
       "                    0        1             2      3     4\n",
       "0  10_8_rfi.0004_0000  387.488  59064.715213  1.391  gmrt\n",
       "1  10_8_rfi.0004_0000  387.488  59064.717533  1.101  gmrt\n",
       "2  10_8_rfi.0004_0000  387.488  59064.719839  1.702  gmrt\n",
       "3  10_8_rfi.0004_0000  387.488  59064.722159  1.068  gmrt\n",
       "4  10_8_rfi.0004_0000  387.488  59064.724475  1.412  gmrt\n",
       "5  10_8_rfi.0004_0000  387.488  59064.726786  1.052  gmrt\n",
       "6  10_8_rfi.0004_0000  387.488  59064.729102  0.810  gmrt\n",
       "7  10_8_rfi.0004_0000  387.488  59064.731417  1.186  gmrt\n",
       "8  10_8_rfi.0004_0000  387.488  59064.733728  1.740  gmrt\n",
       "9  10_8_rfi.0004_0000  387.488  59064.736048  2.178  gmrt"
      ]
     },
     "execution_count": 27,
     "metadata": {},
     "output_type": "execute_result"
    }
   ],
   "source": [
    "df3"
   ]
  },
  {
   "cell_type": "markdown",
   "id": "9f881f94-9f4c-49b2-a108-8c77585bb5ba",
   "metadata": {},
   "source": [
    "## Result"
   ]
  },
  {
   "cell_type": "markdown",
   "id": "488243f8-929e-4f69-8149-c6e79b98dfff",
   "metadata": {},
   "source": [
    "We stated that the Jitter observed in different frequency channels is not independent random variable but is correlated.\n",
    "The observed value of jitter being same over different frequency chanels even after collapsing suggests that the pulse shape changes (because of which jitter is observed) occur almost the same way for adjoining channels, hence still remain the same after collapsing a few channels.\n",
    "Moreover no general trend (increasing or decreasing) was observed over different frequency channels. So the Jitter behaves same for all the frequencies for the pulsar we considered. "
   ]
  }
 ],
 "metadata": {
  "kernelspec": {
   "display_name": "Python 3 (ipykernel)",
   "language": "python",
   "name": "python3"
  },
  "language_info": {
   "codemirror_mode": {
    "name": "ipython",
    "version": 3
   },
   "file_extension": ".py",
   "mimetype": "text/x-python",
   "name": "python",
   "nbconvert_exporter": "python",
   "pygments_lexer": "ipython3",
   "version": "3.12.2"
  }
 },
 "nbformat": 4,
 "nbformat_minor": 5
}
