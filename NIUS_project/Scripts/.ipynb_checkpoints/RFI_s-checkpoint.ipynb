{
 "cells": [
  {
   "cell_type": "markdown",
   "id": "3749a021-7baf-4a5c-9637-55f9dc9dd837",
   "metadata": {},
   "source": [
    "# Removing RFI's from data\n",
    "This notebook is meant to exclude rfi's by deleting the frequency channels with an of pulse rms value is n-$\\sigma$ away from "
   ]
  },
  {
   "cell_type": "markdown",
   "id": "6de10eeb-56fe-4583-b058-b2555595351e",
   "metadata": {},
   "source": [
    "Definition of noise and signal and SNR\n",
    "1. Noise : we define noise as the standard deviation of off pulse values\n",
    "2. Signal: It is the sum of all the values under the puls.\n",
    "   Note that since bin width is kept constant for all pulses(subints/channels) Signal value if proportional to the area under the pulse.\n",
    "3. SNR   : The signal to noise ratio is defined as ratio of above two quantities"
   ]
  },
  {
   "cell_type": "markdown",
   "id": "228bc536-4b39-4e1b-99bc-9de262149665",
   "metadata": {},
   "source": [
    "Procedure we will follow:\n",
    "1. Compute off pulse noise value (SD) as defined above for all frequency channels \n",
    "2. Compute off pulse mean value for all frequancy channels\n",
    "3. We then take an estimator, as sample mean/median value for an estimate.\n",
    "   i.e. mean/median of values obtained in 1.\n",
    "   and mean/median of values obtained in 2.\n",
    "4. The estimator will give us an estimate of "
   ]
  },
  {
   "cell_type": "markdown",
   "id": "6e4e9500-2e8e-46d3-b336-84c42a012124",
   "metadata": {},
   "source": [
    "What we assume and why we take the above steps:\n",
    "1. We assume that noise for a signle frequency channel is a gaussian random variable i.e Norm($\\mu({\\nu})$,$\\sigma({\\nu})$).\n",
    "2. And if that noise is white, then it should be same for all frequency channels.\n",
    "   Thus noise for all frequency channels is an IID. i.e. Norm($\\mu$,$\\sigma$).\n",
    "3. We need an estimator for $\\mu$ and $\\sigma$ if the distribution.\n",
    "   Let $\\hat{\\mu}$,$\\hat{\\sigma}$ denote the estimator of $\\mu$,$\\sigma$.\n",
    "   Let $\\mu_{\\nu}$,$\\sigma_{\\nu}$ denote the sample-mean,sample-standard-deviation of single frequency channel.\n",
    "4. Estimators:\n",
    "    1. Estimator 1:\n",
    "      $\\hat{\\mu}$ = $\\frac{1}{N_{chan}}$ $\\sum_{\\nu} \\mu_{\\nu}$,\n",
    "      $\\hat{\\sigma}$ = $\\frac{1}{N_{chan}}$ $\\sum_{\\nu} \\sigma_{\\nu}$\n",
    "    2. Estimator 2:\n",
    "      $\\hat{\\mu}$ = median( {$\\mu_{\\nu}$} ) ,\n",
    "      $\\hat{\\sigma}$ = median({$\\sigma_{\\nu}$})\n",
    "    3. Estimator 3:\n",
    "       $\\hat{\\sigma} ^2 $ = $\\frac{1}{N_{chan}\\times{n_bins}}$ $\\sum_{\\nu} \\sum_{bins}$($x_{bin} - \\hat{\\mu} $)$^2$\n",
    "\n",
    "7. So we consider two hypothesis:\n",
    "   1. $H_0$: The frequency channel is dominated by white noise.\n",
    "   2. $H_1$: The frequency channel is not dominated by white noise, i.e. dominated by RFI's.\n",
    "8. Hypothesis testing:\n",
    "   1. Test 1:\n",
    "    If $\\bar{\\mu_{\\nu}}$ is \"n\"-$\\sigma$ away from $\\mu$, accept $H_1$\n",
    "    Else $H_0$\n",
    "   2. Test 2:\n",
    "\n",
    "    add an or condition to above, $\\bar{\\sigma}$ is \"n\"-$\\sigma'$ away"
   ]
  },
  {
   "cell_type": "code",
   "execution_count": 133,
   "id": "c3f65452-17b4-42e4-a234-87f36e0b0658",
   "metadata": {},
   "outputs": [],
   "source": [
    "import numpy as np\n",
    "import matplotlib.pyplot as plt\n",
    "%matplotlib qt\n",
    "from astropy.io import fits\n",
    "import pandas as pd\n",
    "from scipy.optimize import curve_fit"
   ]
  },
  {
   "cell_type": "code",
   "execution_count": 4,
   "id": "7609dc2c-2c24-4354-9bc7-deabd1dfa07d",
   "metadata": {},
   "outputs": [],
   "source": [
    "#Estimator A.\n",
    "def SNR(Dataset,Pulse_start_bin,Pulse_end_bin):\n",
    "    data1=Dataset[0:Pulse_start_bin]\n",
    "    data2=Dataset[Pulse_start_bin:Pulse_end_bin]\n",
    "    data3=Dataset[Pulse_end_bin:-1]\n",
    "    #mean=np.mean([data1,data3])\n",
    "    #ssr=(1/(512-(Pulse_end_bin-Pulse_start_bin))) *  (np.sum( ) + np.sum( (Dataset[Pulse_start_bin:-1])**2 ) )\n",
    "    noise_sd_nu=np.std(np.concatenate([data1,data3]))\n",
    "    noise_mean_nu=np.mean(np.concatenate([data1,data3]))\n",
    "    signal=np.sum(data2)\n",
    "    #off_pstd = np.sqrt( ssr )\n",
    "    #on_pstd = np.sqrt((1/( Pulse_end_bin-Pulse_start_bin) )*np.sum((Dataset[Pulse_start_bin:Pulse_end_bin])**2) )\n",
    "    #pstd=np.std(Dataset)\n",
    "    snr=signal/noise_sd_nu\n",
    "    return [signal,noise_mean_nu,noise_sd_nu,snr]\n",
    "\n",
    "# a 2-D array frequency chan vs pluse phase bin as second index\n",
    "def get_dataframe(Data,Pulse_start_bin,Pulse_end_bin):\n",
    "    stat={}\n",
    "    for n_chan in range(len(Data)):\n",
    "        stat[n_chan]=SNR(Data[n_chan],Pulse_start_bin,Pulse_end_bin)\n",
    "    # Making a data frame from the dictionary to make it easy for manipulation   \n",
    "    df=pd.DataFrame(stat).T\n",
    "    df.columns=[\"signal\",\"noise_mean_nu\",\"noise_sd_nu\",\"snr\"]\n",
    "    return df"
   ]
  },
  {
   "cell_type": "code",
   "execution_count": 5,
   "id": "23e6b1d5-5b58-45f6-bbe0-e9340fa6cd89",
   "metadata": {},
   "outputs": [],
   "source": [
    "def Estimator1(Data,Pulse_start_bin,Pulse_end_bin):\n",
    "    df1=get_dataframe(Data,Pulse_start_bin,Pulse_end_bin)\n",
    "    mu_hat=np.mean(df1.noise_mean_nu)\n",
    "    sigma_hat=np.mean(df1.noise_sd_nu)\n",
    "    return [mu_hat,sigma_hat]\n",
    "\n",
    "def Estimator2(Data,Pulse_start_bin,Pulse_end_bin):\n",
    "    df1=get_dataframe(Data,Pulse_start_bin,Pulse_end_bin)\n",
    "    mu_hat=np.median(df1.noise_mean_nu)\n",
    "    sigma_hat=np.median(df1.noise_sd_nu)\n",
    "    return [mu_hat,sigma_hat]\n",
    "\n",
    "def Estimator3(Data,Pulse_start_bin,Pulse_end_bin):\n",
    "    Superset=np.array([])\n",
    "    for i in range(len(Data)):\n",
    "        Dataset=Data[i]\n",
    "        Superset=np.append(Superset,np.concatenate([Dataset[0:Pulse_start_bin],Dataset[Pulse_end_bin:-1]]))\n",
    "    mu_hat=np.mean(Superset)\n",
    "    sigma_hat=np.std(Superset)\n",
    "    return [mu_hat,sigma_hat]"
   ]
  },
  {
   "cell_type": "code",
   "execution_count": 6,
   "id": "fb77ca3b-8107-414f-a0be-3397f57c3a6d",
   "metadata": {},
   "outputs": [],
   "source": [
    "hdul1=fits.open(\"/home/ega-ninja/Projects/NIUS_Jitter_Project/Analysis/1_subint_512_chan_B1642-03.fits\")\n",
    "hdul2=fits.open(\"/home/ega-ninja/Projects/NIUS_Jitter_Project/Analysis/1_subint_4096_chan_B1642-03.fits\")\n",
    "Data512=hdul1[0].data[0][0]\n",
    "Data4096=hdul2[0].data[0][0]"
   ]
  },
  {
   "cell_type": "markdown",
   "id": "7293c223-0192-48d8-bfee-e506adf7d294",
   "metadata": {},
   "source": [
    "## Hypothesis testing"
   ]
  },
  {
   "cell_type": "code",
   "execution_count": 7,
   "id": "11f09d6b-1831-4c59-a58b-3ad4b374ac07",
   "metadata": {},
   "outputs": [],
   "source": [
    "# Test1\n",
    "def rfi_removal(Data,Pulse_start_bin,Pulse_end_bin,Estimator,n_value):\n",
    "    df1=get_dataframe(Data,Pulse_start_bin,Pulse_end_bin)\n",
    "    df2=df1[np.abs(df1.noise_mean_nu)-Estimator[0]>(n_value*Estimator[1])]\n",
    "    return np.array(df2.index)"
   ]
  },
  {
   "cell_type": "code",
   "execution_count": 11,
   "id": "1035b387-f701-4e7e-8b1e-1753ab7675a5",
   "metadata": {},
   "outputs": [],
   "source": [
    "# Generate random y-values for the lines\n",
    "def plot(c):\n",
    "    y_values = c # Example: 10 random y-values\n",
    "    fig,ax=plt.subplots()\n",
    "    # Create a 4096 by 4096 image\n",
    "    image = np.zeros((4096,4096))\n",
    "\n",
    "    # Draw lines parallel to the x-axis at y-values\n",
    "    for y in y_values:\n",
    "        image[y, :] = 100  # Set all pixels in row y to 1 (white)\n",
    "\n",
    "    # Display the image\n",
    "    plt.imshow(image, cmap='gray')\n",
    "    plt.show()\n",
    "    "
   ]
  },
  {
   "cell_type": "code",
   "execution_count": 12,
   "id": "ead5138a-545e-43b8-91e4-6074ac5647a6",
   "metadata": {},
   "outputs": [],
   "source": [
    "Estimator=Estimator1(Data512,200,260)\n",
    "\n",
    "plot(rfi_removal(Data4096,200,260,Estimator,0.20))"
   ]
  },
  {
   "cell_type": "code",
   "execution_count": 74,
   "id": "062c9c82-d044-428d-a72c-ae1936a0578a",
   "metadata": {},
   "outputs": [
    {
     "data": {
      "text/plain": [
       "(417,)"
      ]
     },
     "execution_count": 74,
     "metadata": {},
     "output_type": "execute_result"
    }
   ],
   "source": [
    "rfi_removal(Data4096,200,260,Estimator,0.20).shape"
   ]
  },
  {
   "cell_type": "code",
   "execution_count": 20,
   "id": "27373f2f-fd70-46d6-92dc-2bffe1cea046",
   "metadata": {},
   "outputs": [],
   "source": [
    "array1=rfi_removal(Data512,200,260,Estimator,0.20)"
   ]
  },
  {
   "cell_type": "code",
   "execution_count": 25,
   "id": "b9b7745f-a375-4602-9a68-a82bd6d94641",
   "metadata": {},
   "outputs": [
    {
     "data": {
      "text/plain": [
       "(78,)"
      ]
     },
     "execution_count": 25,
     "metadata": {},
     "output_type": "execute_result"
    }
   ],
   "source": [
    "array1.shape"
   ]
  },
  {
   "cell_type": "code",
   "execution_count": 27,
   "id": "c978c08c-ae53-40c1-9fb2-3a638bd5569d",
   "metadata": {},
   "outputs": [],
   "source": [
    "x= \" \".join(str(array1[i]) for i in range(len(array1)) )"
   ]
  },
  {
   "cell_type": "code",
   "execution_count": 28,
   "id": "98da2fa4-bf35-43c4-9844-a251ee7b2748",
   "metadata": {},
   "outputs": [
    {
     "data": {
      "text/plain": [
       "'0 3 6 8 9 12 13 15 16 18 19 21 25 26 27 28 31 32 34 35 37 38 40 41 43 44 47 48 50 54 56 57 60 61 62 63 66 69 70 77 79 81 84 99 112 125 128 141 150 151 249 251 255 284 285 288 338 342 343 344 345 346 347 348 349 350 351 389 418 449 473 474 475 476 477 478 479 500'"
      ]
     },
     "execution_count": 28,
     "metadata": {},
     "output_type": "execute_result"
    }
   ],
   "source": [
    "x"
   ]
  },
  {
   "cell_type": "code",
   "execution_count": null,
   "id": "83d9ec7d-6b58-4753-a76f-8ac536c770bb",
   "metadata": {},
   "outputs": [],
   "source": []
  },
  {
   "cell_type": "code",
   "execution_count": null,
   "id": "ff84f7af-c044-47d7-82b5-6ce1d58000be",
   "metadata": {},
   "outputs": [],
   "source": []
  },
  {
   "cell_type": "code",
   "execution_count": null,
   "id": "c4239c99-8e17-4f6a-b277-4e9c0a0e9771",
   "metadata": {},
   "outputs": [],
   "source": []
  },
  {
   "cell_type": "code",
   "execution_count": null,
   "id": "b8a876ad-45c6-4701-a9fb-b1ef7d8dfc15",
   "metadata": {},
   "outputs": [],
   "source": []
  },
  {
   "cell_type": "code",
   "execution_count": null,
   "id": "5e932945-bbf2-4715-9ce8-5dfb38ad2356",
   "metadata": {},
   "outputs": [],
   "source": []
  },
  {
   "cell_type": "code",
   "execution_count": 37,
   "id": "0aa4fede-6803-4f8c-8bec-aa189a820ac5",
   "metadata": {},
   "outputs": [
    {
     "data": {
      "text/plain": [
       "[0.11012433, 1.8570501]"
      ]
     },
     "execution_count": 37,
     "metadata": {},
     "output_type": "execute_result"
    }
   ],
   "source": [
    "Estimator1(Data512,200,260)"
   ]
  },
  {
   "cell_type": "code",
   "execution_count": 38,
   "id": "f444962d-d1a6-46f3-81fe-0df5eedd8b10",
   "metadata": {},
   "outputs": [
    {
     "data": {
      "text/plain": [
       "[0.020662261, 0.78277826]"
      ]
     },
     "execution_count": 38,
     "metadata": {},
     "output_type": "execute_result"
    }
   ],
   "source": [
    "Estimator2(Data512,200,260)"
   ]
  },
  {
   "cell_type": "code",
   "execution_count": 39,
   "id": "a0cb990f-2a1a-4207-add6-bda90a4ebddf",
   "metadata": {},
   "outputs": [
    {
     "data": {
      "text/plain": [
       "[0.11012433660053848, 4.020231569296013]"
      ]
     },
     "execution_count": 39,
     "metadata": {},
     "output_type": "execute_result"
    }
   ],
   "source": [
    "Estimator3(Data512,200,260)"
   ]
  },
  {
   "cell_type": "code",
   "execution_count": 41,
   "id": "ff5c3459-6af2-48a2-83d9-6826727e3d97",
   "metadata": {},
   "outputs": [],
   "source": [
    "Dataframe_original=get_dataframe(Data512,200,260)"
   ]
  },
  {
   "cell_type": "code",
   "execution_count": 17,
   "id": "6ec8b91e-c6ac-414a-8d38-0a4d80bf12b4",
   "metadata": {},
   "outputs": [
    {
     "data": {
      "text/plain": [
       "(512, 512)"
      ]
     },
     "execution_count": 17,
     "metadata": {},
     "output_type": "execute_result"
    }
   ],
   "source": [
    "Data512.shape"
   ]
  },
  {
   "cell_type": "code",
   "execution_count": 18,
   "id": "2b44b09e-5ab3-4cec-8440-3af1fea887bc",
   "metadata": {},
   "outputs": [],
   "source": [
    "#Plotting the rfi identified channels\n",
    "fig1, ax1 = plt.subplots()\n",
    "im=ax1.imshow(Data512, cmap='jet',vmin=0,vmax=50,extent=(0,512,0,512))  # Assuming grayscale image\n",
    "fig1.colorbar(im,ax=ax1,label='Intensity')\n",
    "#plt.colorbar()  # Add colorbar to show intensity scale\n",
    "plt.show()\n",
    "\n",
    "# Example usage:\n",
    "#file_path = '/home/ega-ninja/Projects/NIUS_Jitter_Project/Analysis/1_subint_512_chan_B1642-03.fits'  # Replace 'your_file.fits' with the actual file path\n",
    "#display_fits_image(file_path)"
   ]
  },
  {
   "cell_type": "code",
   "execution_count": 75,
   "id": "6ddfee9a-6106-4c4d-a023-9137bb5604a3",
   "metadata": {},
   "outputs": [
    {
     "ename": "ModuleNotFoundError",
     "evalue": "No module named 'psrchive'",
     "output_type": "error",
     "traceback": [
      "\u001b[0;31m---------------------------------------------------------------------------\u001b[0m",
      "\u001b[0;31mModuleNotFoundError\u001b[0m                       Traceback (most recent call last)",
      "Cell \u001b[0;32mIn[75], line 1\u001b[0m\n\u001b[0;32m----> 1\u001b[0m \u001b[38;5;28;01mimport\u001b[39;00m \u001b[38;5;21;01mpsrchive\u001b[39;00m\n\u001b[1;32m      3\u001b[0m \u001b[38;5;66;03m# Load the PSRFITS file\u001b[39;00m\n\u001b[1;32m      4\u001b[0m archive \u001b[38;5;241m=\u001b[39m psrchive\u001b[38;5;241m.\u001b[39mArchive_load(\u001b[38;5;124m'\u001b[39m\u001b[38;5;124myour_data.fits\u001b[39m\u001b[38;5;124m'\u001b[39m)\n",
      "\u001b[0;31mModuleNotFoundError\u001b[0m: No module named 'psrchive'"
     ]
    }
   ],
   "source": [
    "import psrchive\n",
    "\n",
    "# Load the PSRFITS file\n",
    "archive = psrchive.Archive_load('your_data.fits')\n",
    "\n",
    "# Specify the single channel to remove\n",
    "channel_to_remove = 5\n",
    "\n",
    "# Remove the specified single channel\n",
    "archive.zap_channels(channel_to_remove, channel_to_remove)\n",
    "\n",
    "# Save the modified data to a new PSRFITS file\n",
    "archive.unload('modified_data.fits')\n"
   ]
  },
  {
   "cell_type": "code",
   "execution_count": 76,
   "id": "8d6e7452-09c3-4d5e-8ad3-e15c614bd864",
   "metadata": {},
   "outputs": [
    {
     "name": "stdout",
     "output_type": "stream",
     "text": [
      "zsh:1: command not found: paz\n"
     ]
    }
   ],
   "source": [
    "!paz -r 1_subint_4096_chan_copy -e Test_paz"
   ]
  },
  {
   "cell_type": "code",
   "execution_count": 3,
   "id": "0824ea54-4243-4d3f-a4e5-ba8c17554d7e",
   "metadata": {},
   "outputs": [
    {
     "name": "stderr",
     "output_type": "stream",
     "text": [
      "Unrecognized telescope code (GMRT)\n"
     ]
    }
   ],
   "source": [
    "\n",
    "test_arch=psrchive.Archive_load(\"/home/ega-ninja/Projects/NIUS_Jitter_Project/Analysis/1_subint_4096_chan_copy.Test_paz\")"
   ]
  },
  {
   "cell_type": "code",
   "execution_count": 5,
   "id": "d81e964d-80c6-48bb-850d-a9e1967460e7",
   "metadata": {},
   "outputs": [],
   "source": [
    "data=test_arch.get_data()"
   ]
  },
  {
   "cell_type": "code",
   "execution_count": 6,
   "id": "b15474b2-6c41-4539-ac7b-b4beaddf2a02",
   "metadata": {},
   "outputs": [
    {
     "data": {
      "text/plain": [
       "(1, 1, 4096, 512)"
      ]
     },
     "execution_count": 6,
     "metadata": {},
     "output_type": "execute_result"
    }
   ],
   "source": [
    "data.shape"
   ]
  },
  {
   "cell_type": "markdown",
   "id": "4c44df2a-68a1-4ce3-8ee6-0bf245b1fe15",
   "metadata": {},
   "source": [
    "# Extracting TOA errors from .tim files"
   ]
  },
  {
   "cell_type": "code",
   "execution_count": 2,
   "id": "eb8a2b2e-a731-4bff-9361-c6d78ed91e6e",
   "metadata": {},
   "outputs": [
    {
     "ename": "ModuleNotFoundError",
     "evalue": "No module named 'textract'",
     "output_type": "error",
     "traceback": [
      "\u001b[0;31m---------------------------------------------------------------------------\u001b[0m",
      "\u001b[0;31mModuleNotFoundError\u001b[0m                       Traceback (most recent call last)",
      "Cell \u001b[0;32mIn[2], line 2\u001b[0m\n\u001b[1;32m      1\u001b[0m \u001b[38;5;28;01mimport\u001b[39;00m \u001b[38;5;21;01mos\u001b[39;00m\n\u001b[0;32m----> 2\u001b[0m \u001b[38;5;28;01mimport\u001b[39;00m \u001b[38;5;21;01mtextract\u001b[39;00m\n\u001b[1;32m      4\u001b[0m \u001b[38;5;66;03m# Function to extract text from .tim files in a folder\u001b[39;00m\n\u001b[1;32m      5\u001b[0m \u001b[38;5;28;01mdef\u001b[39;00m \u001b[38;5;21mextract_text_from_tim\u001b[39m(folder_path):\n\u001b[1;32m      6\u001b[0m     \u001b[38;5;66;03m# Iterate over all files in the directory\u001b[39;00m\n",
      "\u001b[0;31mModuleNotFoundError\u001b[0m: No module named 'textract'"
     ]
    }
   ],
   "source": [
    "import os\n",
    "\n",
    "# Function to extract text from .tim files in a folder\n",
    "def extract_text_from_tim(folder_path):\n",
    "    # Iterate over all files in the directory\n",
    "    for filename in os.listdir(folder_path):\n",
    "        if filename.endswith(\".tim\"):\n",
    "            file_path = os.path.join(folder_path, filename)\n",
    "            try:\n",
    "                # Extract text from .tim file\n",
    "                text = textract.process(file_path)\n",
    "                print(f\"Extracted text from {filename}:\")\n",
    "                print(text.decode(\"utf-8\"))  # Decode bytes to string and print\n",
    "            except Exception as e:\n",
    "                print(f\"Error extracting text from {filename}: {e}\")\n",
    "\n",
    "# Path to the folder containing .tim files\n",
    "folder_path = \"/path/to/your/folder\"\n",
    "\n",
    "# Call the function to extract text\n",
    "extract_text_from_tim(folder_path)\n",
    "?"
   ]
  },
  {
   "cell_type": "code",
   "execution_count": 14,
   "id": "27ab760a-cbd7-44e7-b0ac-9739b9c89007",
   "metadata": {},
   "outputs": [
    {
     "name": "stdout",
     "output_type": "stream",
     "text": [
      "/home/ega-ninja/Projects/NIUS_Jitter_Project/Analysis/Analysis4.0/tim_files\n"
     ]
    }
   ],
   "source": [
    "%cd ../../NIUS_Jitter_Project/Analysis/Analysis4.0/tim_files/"
   ]
  },
  {
   "cell_type": "code",
   "execution_count": 22,
   "id": "ec20f1ae-d76e-45e5-8640-1ad0331c370b",
   "metadata": {
    "scrolled": true
   },
   "outputs": [],
   "source": [
    "file=open(file_path,'r')\n",
    "data_file=file.read()"
   ]
  },
  {
   "cell_type": "code",
   "execution_count": 59,
   "id": "b3b6e778-4a29-4055-8946-42c25adb9a56",
   "metadata": {},
   "outputs": [],
   "source": [
    "def get_toa_erro(file_path):\n",
    "    # Open the .tim file for reading\n",
    "    with open(file_path, \"r\") as file:\n",
    "        # Read all lines from the file and store them in an array\n",
    "        lines_array = file.readlines()\n",
    "\n",
    "    toa_error=np.zeros(len(lines_array)-1)\n",
    "    for i in range(1,len(lines_array)):\n",
    "        line = lines_array[i]\n",
    "        a=line.split()\n",
    "        toa_error[i-1]=a[-2]\n",
    "    return toa_error\n"
   ]
  },
  {
   "cell_type": "code",
   "execution_count": 99,
   "id": "d162238b-5745-49cc-b1b6-6e0508e09e14",
   "metadata": {},
   "outputs": [],
   "source": [
    "file_path1=\"10_subint_8chan_chan8.tim\""
   ]
  },
  {
   "cell_type": "code",
   "execution_count": 100,
   "id": "e4a187a4-c6dc-443e-8d09-5124a050135a",
   "metadata": {},
   "outputs": [
    {
     "data": {
      "text/plain": [
       "array([0.971, 0.876, 1.13 , 0.884, 0.694, 1.43 , 0.902, 1.671, 1.478,\n",
       "       3.769])"
      ]
     },
     "execution_count": 100,
     "metadata": {},
     "output_type": "execute_result"
    }
   ],
   "source": [
    "a1=get_toa_erro(file_path1)\n",
    "a1"
   ]
  },
  {
   "cell_type": "code",
   "execution_count": 101,
   "id": "3fe9e918-f4ad-406a-8a31-324ed4a4cdf6",
   "metadata": {},
   "outputs": [
    {
     "data": {
      "text/plain": [
       "array([0.971, 0.876, 1.13 , 0.884, 0.694, 1.43 , 0.902, 1.671])"
      ]
     },
     "execution_count": 101,
     "metadata": {},
     "output_type": "execute_result"
    }
   ],
   "source": [
    "a1[:-2]"
   ]
  },
  {
   "cell_type": "code",
   "execution_count": 102,
   "id": "184ec24f-b1b1-4aa0-abe8-39dba056106d",
   "metadata": {},
   "outputs": [
    {
     "data": {
      "text/plain": [
       "1.06975"
      ]
     },
     "execution_count": 102,
     "metadata": {},
     "output_type": "execute_result"
    }
   ],
   "source": [
    "np.mean(a1[:-2])\n"
   ]
  },
  {
   "cell_type": "code",
   "execution_count": 103,
   "id": "60e0c107-5aa2-4cfb-85e6-32df71847cfd",
   "metadata": {},
   "outputs": [
    {
     "data": {
      "text/plain": [
       "0.30537548608229836"
      ]
     },
     "execution_count": 103,
     "metadata": {},
     "output_type": "execute_result"
    }
   ],
   "source": [
    "np.std(a1[:-2])"
   ]
  },
  {
   "cell_type": "markdown",
   "id": "fc54dbf9-a443-4dfb-b784-41ad58861f06",
   "metadata": {},
   "source": [
    "# Jitter Estimation"
   ]
  },
  {
   "cell_type": "markdown",
   "id": "76432c38-c44d-4bdc-a863-a39b321eeae7",
   "metadata": {},
   "source": [
    "$\\sigma_{jitter}^2(T)$ = $\\sigma_{obs}^2(T)$ - $\\sigma_{rad}^2(T)$"
   ]
  },
  {
   "cell_type": "markdown",
   "id": "4fe429fc-2969-4d1c-9c62-5af9d4ea648d",
   "metadata": {},
   "source": [
    "We have estimated jitter for { 0.067 hr} Time"
   ]
  },
  {
   "cell_type": "code",
   "execution_count": 126,
   "id": "58b7846b-792f-4853-a0d5-a96ebb668cac",
   "metadata": {},
   "outputs": [],
   "source": [
    "d1={ 'freq(MHz)' : np.array([488.151, 461.851, 437.08 , 413.063, 387.487, 362.054, 337.372,312.277]) ,\n",
    "    'post_fit_rms': [ 19.56,21.59,21.71,24.80,25.22,20.49,23.92,21.41] ,\n",
    "    'TOA_error': [ 23.45,1.62,1.17,1.11,1.15,1.43,1.19,1.07] ,\n",
    "    'sigma':[2.91,0.22,0.25,0.30,0.28,0.32,0.34,0.30 ]\n",
    "}"
   ]
  },
  {
   "cell_type": "code",
   "execution_count": 127,
   "id": "47699345-0074-44b7-8223-52198a18bfc5",
   "metadata": {},
   "outputs": [
    {
     "name": "stderr",
     "output_type": "stream",
     "text": [
      "/tmp/ipykernel_55669/2564746068.py:3: RuntimeWarning: invalid value encountered in sqrt\n",
      "  Jitter= np.sqrt(((np.array(df1.iloc[:,1]))**2) -( (np.array(df1.iloc[:,2]))**2))\n"
     ]
    }
   ],
   "source": [
    "df1=pd.DataFrame(d1)\n",
    "df1\n",
    "Jitter= np.sqrt(((np.array(df1.iloc[:,1]))**2) -( (np.array(df1.iloc[:,2]))**2)) "
   ]
  },
  {
   "cell_type": "code",
   "execution_count": 128,
   "id": "8289781e-5cdf-4bd1-9de8-ea1b587197de",
   "metadata": {},
   "outputs": [],
   "source": [
    "df1['Jitter(us)']=Jitter"
   ]
  },
  {
   "cell_type": "code",
   "execution_count": 130,
   "id": "5be314d2-9e02-48a5-97d1-fafc5b180d35",
   "metadata": {},
   "outputs": [],
   "source": [
    "df2=df1.iloc[1:,:]"
   ]
  },
  {
   "cell_type": "code",
   "execution_count": 131,
   "id": "4314bf04-fc8f-4948-9fdf-fbfff21d0817",
   "metadata": {},
   "outputs": [
    {
     "data": {
      "text/html": [
       "<div>\n",
       "<style scoped>\n",
       "    .dataframe tbody tr th:only-of-type {\n",
       "        vertical-align: middle;\n",
       "    }\n",
       "\n",
       "    .dataframe tbody tr th {\n",
       "        vertical-align: top;\n",
       "    }\n",
       "\n",
       "    .dataframe thead th {\n",
       "        text-align: right;\n",
       "    }\n",
       "</style>\n",
       "<table border=\"1\" class=\"dataframe\">\n",
       "  <thead>\n",
       "    <tr style=\"text-align: right;\">\n",
       "      <th></th>\n",
       "      <th>freq(MHz)</th>\n",
       "      <th>post_fit_rms</th>\n",
       "      <th>TOA_error</th>\n",
       "      <th>sigma</th>\n",
       "      <th>Jitter(us)</th>\n",
       "    </tr>\n",
       "  </thead>\n",
       "  <tbody>\n",
       "    <tr>\n",
       "      <th>1</th>\n",
       "      <td>461.851</td>\n",
       "      <td>21.59</td>\n",
       "      <td>1.62</td>\n",
       "      <td>0.22</td>\n",
       "      <td>21.529136</td>\n",
       "    </tr>\n",
       "    <tr>\n",
       "      <th>2</th>\n",
       "      <td>437.080</td>\n",
       "      <td>21.71</td>\n",
       "      <td>1.17</td>\n",
       "      <td>0.25</td>\n",
       "      <td>21.678450</td>\n",
       "    </tr>\n",
       "    <tr>\n",
       "      <th>3</th>\n",
       "      <td>413.063</td>\n",
       "      <td>24.80</td>\n",
       "      <td>1.11</td>\n",
       "      <td>0.30</td>\n",
       "      <td>24.775147</td>\n",
       "    </tr>\n",
       "    <tr>\n",
       "      <th>4</th>\n",
       "      <td>387.487</td>\n",
       "      <td>25.22</td>\n",
       "      <td>1.15</td>\n",
       "      <td>0.28</td>\n",
       "      <td>25.193767</td>\n",
       "    </tr>\n",
       "    <tr>\n",
       "      <th>5</th>\n",
       "      <td>362.054</td>\n",
       "      <td>20.49</td>\n",
       "      <td>1.43</td>\n",
       "      <td>0.32</td>\n",
       "      <td>20.440039</td>\n",
       "    </tr>\n",
       "    <tr>\n",
       "      <th>6</th>\n",
       "      <td>337.372</td>\n",
       "      <td>23.92</td>\n",
       "      <td>1.19</td>\n",
       "      <td>0.34</td>\n",
       "      <td>23.890381</td>\n",
       "    </tr>\n",
       "    <tr>\n",
       "      <th>7</th>\n",
       "      <td>312.277</td>\n",
       "      <td>21.41</td>\n",
       "      <td>1.07</td>\n",
       "      <td>0.30</td>\n",
       "      <td>21.383246</td>\n",
       "    </tr>\n",
       "  </tbody>\n",
       "</table>\n",
       "</div>"
      ],
      "text/plain": [
       "   freq(MHz)  post_fit_rms  TOA_error  sigma  Jitter(us)\n",
       "1    461.851         21.59       1.62   0.22   21.529136\n",
       "2    437.080         21.71       1.17   0.25   21.678450\n",
       "3    413.063         24.80       1.11   0.30   24.775147\n",
       "4    387.487         25.22       1.15   0.28   25.193767\n",
       "5    362.054         20.49       1.43   0.32   20.440039\n",
       "6    337.372         23.92       1.19   0.34   23.890381\n",
       "7    312.277         21.41       1.07   0.30   21.383246"
      ]
     },
     "execution_count": 131,
     "metadata": {},
     "output_type": "execute_result"
    }
   ],
   "source": [
    "df2"
   ]
  },
  {
   "cell_type": "code",
   "execution_count": 138,
   "id": "92cfa4d1-6831-4258-a9ae-b1e119d14e4f",
   "metadata": {},
   "outputs": [
    {
     "data": {
      "text/plain": [
       "22.698595133508547"
      ]
     },
     "execution_count": 138,
     "metadata": {},
     "output_type": "execute_result"
    }
   ],
   "source": [
    "np.mean(df2.iloc[:,4])"
   ]
  },
  {
   "cell_type": "code",
   "execution_count": 137,
   "id": "31d566df-9311-4f7e-ad1f-984b445c56aa",
   "metadata": {},
   "outputs": [
    {
     "name": "stderr",
     "output_type": "stream",
     "text": [
      "No artists with labels found to put in legend.  Note that artists whose label start with an underscore are ignored when legend() is called with no argument.\n"
     ]
    }
   ],
   "source": [
    "#plotting\n",
    "# linear regression with error bars\n",
    "\n",
    "x=np.array(df2.iloc[:,0])\n",
    "y=np.array(df2.iloc[:,4])\n",
    "#INPUT PARAMETERS\n",
    "\n",
    "\n",
    "#dx = \n",
    "\n",
    "dy =  np.array(df2.iloc[:,3])\n",
    "\n",
    "xlabel = \"$ frequency (MHz) $\"\n",
    "ylabel = \" $\\sigma_{Jitter} (\\mu s) $\"\n",
    "\n",
    "\n",
    "x1=np.linspace(np.min(x), np.max(x) , 10) # creates array for plotting the line\n",
    "\n",
    "# defining linear function\n",
    "def line(x,m,c):\n",
    "    return (m*x + c)\n",
    "\n",
    "var,pcov=curve_fit(line,x,y) # var contains the returned the optimized variables namely m ,c  \n",
    "\n",
    "#print(np.sqrt(pcov))\n",
    "\n",
    "#error bars\n",
    "#xerror=np.full(shape=len(x),fill_value=dx ,)\n",
    "yerror=np.full(shape=len(y),fill_value=dy ,)\n",
    "\n",
    "\n",
    "#plotting the values and error bars\n",
    "plt.errorbar(x, y,yerr = yerror,fmt ='.',capsize=2,color='black')\n",
    "plt.scatter(x,y,color=\"r\",marker=\"o\")\n",
    "\n",
    "#plt.plot(x1,line(x1,*var),label= ylabel ,color='green')\n",
    "\n",
    "\n",
    "#\n",
    "\n",
    "#plotting other important elements\n",
    "st=str(\"variables\")+str(var)\n",
    "st1=str(\"covariance\")+str(pcov)\n",
    "\n",
    "plt.ylabel(ylabel)\n",
    "plt.xlabel(xlabel)\n",
    "\n",
    "plt.legend()\n",
    "#plt.figtext(0.20, 0.76, st) # prints the string st at specified coordinates\n",
    "#plt.figtext(0.20,0.62,st1)\n",
    "\n",
    "plt.show()"
   ]
  },
  {
   "cell_type": "code",
   "execution_count": null,
   "id": "5bd97d3a-c1fb-440f-a3d5-9f5a3ae9ed40",
   "metadata": {},
   "outputs": [],
   "source": []
  }
 ],
 "metadata": {
  "kernelspec": {
   "display_name": "Python 3 (ipykernel)",
   "language": "python",
   "name": "python3"
  },
  "language_info": {
   "codemirror_mode": {
    "name": "ipython",
    "version": 3
   },
   "file_extension": ".py",
   "mimetype": "text/x-python",
   "name": "python",
   "nbconvert_exporter": "python",
   "pygments_lexer": "ipython3",
   "version": "3.11.8"
  }
 },
 "nbformat": 4,
 "nbformat_minor": 5
}
